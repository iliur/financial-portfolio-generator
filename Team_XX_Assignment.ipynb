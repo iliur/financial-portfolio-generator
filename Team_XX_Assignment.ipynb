{
 "cells": [
  {
   "cell_type": "code",
   "execution_count": 126,
   "metadata": {},
   "outputs": [],
   "source": [
    "from IPython.display import display, display_html, Math, Latex\n",
    "\n",
    "import pandas as pd\n",
    "import numpy as np\n",
    "import numpy_financial as npf\n",
    "import yfinance as yf\n",
    "import matplotlib.pyplot as plt\n",
    "from datetime import datetime\n",
    "from threading import Thread\n",
    "import warnings\n",
    "warnings.simplefilter(action='ignore', category=FutureWarning)"
   ]
  },
  {
   "cell_type": "markdown",
   "metadata": {},
   "source": [
    "## Group Assignment\n",
    "### Team Number: XX\n",
    "### Team Member Names: Rehan, Rui, Anton\n",
    "### Team Strategy Chosen: RISKY"
   ]
  },
  {
   "cell_type": "markdown",
   "metadata": {},
   "source": [
    "*Delete before submission*\n",
    "\n",
    "IMPORTANT SPECIFICATIONS DURING CODING:\n",
    "\n",
    "- Stocks must be in US Market\n",
    "\n",
    "- Stocks must have an average monthly volume of at least 200 000 shares between January 01, 2022 to October 31, 2022.\n",
    "\n",
    "- Months must have at least 20 trading days\n",
    "\n",
    "- Must have a minimum of 12 stocks and a maximum of 25 stocks\n",
    "\n",
    "- If we choose n stocks for our portfolio, each stock must be minimum of (100/(2n))% of the portfolio when weighted by value (i.e., the overall value of the shares purchased in that particular stock) as of closing prices on November 25, 2022\n",
    "\n",
    "- No individual stock may make up more than 25% of the portfolio when weighted by value (i.e., the overall value of the shares purchased in that particular stock) as of closing prices on November 26, 2022.\n",
    "\n",
    "- Must spend all 500 000 USD on portfolio\n",
    "\n",
    "- Teams will purchase their stocks at the closing prices on November 25, 2022\n",
    "\n",
    "There are more specifications for how our code should be presented before submission, look into the assignment doc for info."
   ]
  },
  {
   "cell_type": "markdown",
   "metadata": {},
   "source": [
    "### Extracting tickers and adding them to a list"
   ]
  },
  {
   "cell_type": "code",
   "execution_count": 127,
   "metadata": {},
   "outputs": [
    {
     "name": "stdout",
     "output_type": "stream",
     "text": [
      "Error: PCLN Ticker does not reference a valid stock\n",
      "Error: AGN Ticker does not reference a valid stock\n",
      "Error: TWX Ticker does not reference a valid stock\n",
      "Error: RTN Ticker does not reference a valid stock\n",
      "Error: CELG Ticker does not reference a valid stock\n",
      "TD.TO Ticker does not reference stock denominated in USD\n",
      "RY.TO Ticker does not reference stock denominated in USD\n"
     ]
    }
   ],
   "source": [
    "# Initializing a variable for our file name\n",
    "file = 'Tickers_Example.csv'\n",
    "\n",
    "# Initializing a start and end date for our portfolio\n",
    "start_date = '2022-01-01'\n",
    "end_date = '2022-11-01'\n",
    "\n",
    "# Initializing a dataframe for 'raw' data extracted from the .csv file\n",
    "tickers_raw = pd.read_csv(file, header=None)[0].tolist()\n",
    "\n",
    "# Empty data structures to store ticker data in\n",
    "tickers = []\n",
    "tickers_hist = {}\n",
    "\n",
    "# Function which consumes a ticker and determines the validation based on prerequisites\n",
    "def validate_ticker(ticker):\n",
    "\n",
    "    # Extracting ticker info from yFinance\n",
    "    ticker_info = yf.Ticker(ticker).info\n",
    "\n",
    "    # Trying every stock and excepting those that throw an error\n",
    "    try:\n",
    "        # If the stock is valid, we check for each prerequisite:\n",
    "        # Checking for USD currency and ensuring it's on the US market\n",
    "        if ticker_info['currency'] == 'USD' and ticker_info['market'] == 'us_market':\n",
    "            ticker_hist = yf.Ticker(ticker).history(start=start_date, end=end_date, interval='1d').dropna()\n",
    "\n",
    "            # Checking monthly volume\n",
    "            ticker_monthly_trading_days = ticker_hist['Volume'].groupby(pd.Grouper(freq='MS')).count()\n",
    "            ticker_monthly_volume = ticker_hist['Volume'].groupby(pd.Grouper(freq='MS')).sum()\n",
    "\n",
    "            # Checking if the month has at least 20 trading days\n",
    "            for month in ticker_monthly_trading_days.index:\n",
    "                if ticker_monthly_trading_days.loc[month] < 20:\n",
    "                    ticker_monthly_volume.drop(month, inplace=True)\n",
    "\n",
    "            # Checking if the average monthly volume is greater than or equal to 200,000 USD\n",
    "            if ticker_monthly_volume.mean() >= 200000:\n",
    "                tickers.append(ticker)\n",
    "                tickers_hist[ticker] = ticker_hist\n",
    "            else:\n",
    "                print(f'{ticker} Ticker does not meet average monthly volume requirements')\n",
    "        else:\n",
    "            print(f'{ticker} Ticker does not reference stock denominated in USD')\n",
    "    except:\n",
    "        print(f'Error: {ticker} Ticker does not reference a valid stock')\n",
    "\n",
    "# Empty data structure for threading\n",
    "threads = []\n",
    "\n",
    "# Checking validity of each ticker in list of tickers given from threading\n",
    "for ticker in tickers_raw:\n",
    "    thread = Thread(target=validate_ticker, args=[ticker])\n",
    "    thread.start()\n",
    "    threads.append(thread)\n",
    "\n",
    "# Using threading\n",
    "for thread in threads:\n",
    "    thread.join()"
   ]
  },
  {
   "cell_type": "markdown",
   "metadata": {},
   "source": [
    "### List of Valid Tickers"
   ]
  },
  {
   "cell_type": "code",
   "execution_count": 128,
   "metadata": {},
   "outputs": [
    {
     "name": "stdout",
     "output_type": "stream",
     "text": [
      "['BIIB', 'BMY', 'GOOG', 'BK', 'MRK', 'C', 'CAT', 'BLK', 'NKE', 'NEE', 'UPS', 'MO', 'CVS', 'AIG', 'CSCO', 'COP', 'GM', 'CL', 'ABT', 'PFE', 'MSFT', 'AAPL', 'T', 'OXY', 'UNH', 'COF', 'TXN', 'PYPL', 'LLY', 'MON', 'SBUX', 'SO', 'KMI', 'CMCSA', 'USB', 'QCOM', 'JPM', 'PM', 'BA', 'COST', 'BAC', 'AXP', 'ORCL', 'ACN', 'PG', 'TGT', 'LMT', 'ABBV', 'KO', 'UNP', 'AMZN', 'MS', 'PEP', 'SLB', 'SPG']\n"
     ]
    }
   ],
   "source": [
    "print(tickers)"
   ]
  },
  {
   "cell_type": "markdown",
   "metadata": {},
   "source": [
    "---"
   ]
  },
  {
   "cell_type": "markdown",
   "metadata": {},
   "source": [
    "## Strategy and Data Analytics"
   ]
  },
  {
   "cell_type": "markdown",
   "metadata": {},
   "source": [
    "The strategy our team has chosen is to go risky, meaning we must optimize a portfolio so that it is driven away as much as possible, from the initial starting value of $500,000. Since we are pursuing a risky strategy, there are a few factors to an optimal portfolio.\n",
    "\n",
    "Since we want the most risk and most reward, we want to minimize any diversification involved. Essentially, out of the minimum and maximum requirements for stock diversification, we want to pick the least amount of stocks, which is a minimum of 12 and keep diversification at an all time low. Furthermore, our stocks can net heavy volume, however, volume is useless if the market direction for these assets is all over the place. Therefore, we need all of our stocks to move in the same direction. \n",
    "\n",
    "Overall, we will move forward with the minimum amount of stocks involved, 12, and keep track of various factors like risk to reward ratio, positive risk, negative risk, betas and options markets."
   ]
  },
  {
   "cell_type": "markdown",
   "metadata": {},
   "source": [
    "### Measuring Beta"
   ]
  },
  {
   "cell_type": "markdown",
   "metadata": {},
   "source": [
    "Beta calculates the volatility of a stock given the covariance of the stock relative to the broader stock market and the variance of the stock. We can use this to our advantage and find the higher volatility stocks so that we can create a riskier portfolio. The formula for Beta is as follows:\n",
    "\n",
    "$$\n",
    "\\beta_i = \\frac {\\mathrm{Cov} (r_i,r_m)}{\\mathrm{Var} (r_m)}\n",
    "$$\n",
    "\n",
    "\n",
    "Where $ \\beta_i $ is the market beta of a stock, $ {\\mathrm{Cov} (r_i,r_m)} $ is the covariance between the stock and the market index (in our case, the S&P 500), $ {\\mathrm{Var} (r_m)} $ is the variance of the market index. Since a volatile stock can net us a gain or a loss, we want the highest magnitude. Thus, we will calculate both an upper bound beta and a lower bound beta and yield the highest magnitude out of the two as a contender for our final portfolio"
   ]
  },
  {
   "cell_type": "code",
   "execution_count": 129,
   "metadata": {},
   "outputs": [],
   "source": [
    "# We will be using S&P 500 as our measure of how the overall stock market is performing\n",
    "sp_index = yf.Ticker(\"^GSPC\") # ticker for S&P 500\n",
    "\n",
    "# Extracting close prices of the S&P 500, percentage returns and its corresponding variance\n",
    "sp_hist = sp_index.history(start=start_date, end=end_date).filter(like=\"Close\")\n",
    "sp_hist[\"Returns\"] = sp_hist['Close'].pct_change()\n",
    "sp_var = sp_hist[\"Returns\"].var()"
   ]
  },
  {
   "cell_type": "code",
   "execution_count": 130,
   "metadata": {},
   "outputs": [],
   "source": [
    "frame = {}\n",
    "beta_values = []\n",
    "min_stocks = 12\n",
    "max_stocks = 25\n",
    "\n",
    "# calculate_betas consumes a list of tickers then creates a dataframe of the tickers and their respective betas\n",
    "def calculate_betas(tickers):\n",
    "    for i in range(len(tickers)):\n",
    "        # Getting the ticker and calculating its returns\n",
    "        ticker_hist = tickers_hist[tickers[i]]\n",
    "        ticker_close = ticker_hist[\"Close\"].pct_change()\n",
    "\n",
    "        # Initializing temporary dataframe with 2 columns containing the ticker's returns and S&P 500's returns\n",
    "        frame = {tickers[i]: ticker_close,\n",
    "                 \"S&P500\": sp_hist['Returns']}\n",
    "        temp_dataframe = pd.DataFrame(frame)\n",
    "\n",
    "        # Calculating Beta and appending onto a list of betas\n",
    "        beta = temp_dataframe.cov() / sp_var\n",
    "        beta_values.append(beta.iat[0,1])\n",
    "\n",
    "    return beta_values\n",
    "\n",
    "# Storing the tickers with their respective betas in a dataframe \n",
    "beta_frame = {\"Ticker\": tickers,\n",
    "              \"Beta\": calculate_betas(tickers)}\n",
    "beta_dataframe = pd.DataFrame(beta_frame)\n",
    "\n",
    "# Sorting the betas in both ascending and descending order\n",
    "beta_ascending = beta_dataframe.sort_values(\"Beta\", ascending = True)\n",
    "beta_descending = beta_dataframe.sort_values(\"Beta\", ascending = False)"
   ]
  },
  {
   "cell_type": "markdown",
   "metadata": {},
   "source": [
    "---"
   ]
  },
  {
   "cell_type": "markdown",
   "metadata": {},
   "source": [
    "### The stocks with the lowest betas:"
   ]
  },
  {
   "cell_type": "code",
   "execution_count": 131,
   "metadata": {},
   "outputs": [
    {
     "data": {
      "text/html": [
       "<div>\n",
       "<style scoped>\n",
       "    .dataframe tbody tr th:only-of-type {\n",
       "        vertical-align: middle;\n",
       "    }\n",
       "\n",
       "    .dataframe tbody tr th {\n",
       "        vertical-align: top;\n",
       "    }\n",
       "\n",
       "    .dataframe thead th {\n",
       "        text-align: right;\n",
       "    }\n",
       "</style>\n",
       "<table border=\"1\" class=\"dataframe\">\n",
       "  <thead>\n",
       "    <tr style=\"text-align: right;\">\n",
       "      <th></th>\n",
       "      <th>Ticker</th>\n",
       "      <th>Beta</th>\n",
       "    </tr>\n",
       "  </thead>\n",
       "  <tbody>\n",
       "    <tr>\n",
       "      <th>29</th>\n",
       "      <td>MON</td>\n",
       "      <td>0.010761</td>\n",
       "    </tr>\n",
       "    <tr>\n",
       "      <th>46</th>\n",
       "      <td>LMT</td>\n",
       "      <td>0.309023</td>\n",
       "    </tr>\n",
       "    <tr>\n",
       "      <th>4</th>\n",
       "      <td>MRK</td>\n",
       "      <td>0.313415</td>\n",
       "    </tr>\n",
       "    <tr>\n",
       "      <th>1</th>\n",
       "      <td>BMY</td>\n",
       "      <td>0.319430</td>\n",
       "    </tr>\n",
       "    <tr>\n",
       "      <th>47</th>\n",
       "      <td>ABBV</td>\n",
       "      <td>0.338508</td>\n",
       "    </tr>\n",
       "    <tr>\n",
       "      <th>11</th>\n",
       "      <td>MO</td>\n",
       "      <td>0.359057</td>\n",
       "    </tr>\n",
       "    <tr>\n",
       "      <th>17</th>\n",
       "      <td>CL</td>\n",
       "      <td>0.377967</td>\n",
       "    </tr>\n",
       "    <tr>\n",
       "      <th>37</th>\n",
       "      <td>PM</td>\n",
       "      <td>0.407042</td>\n",
       "    </tr>\n",
       "    <tr>\n",
       "      <th>31</th>\n",
       "      <td>SO</td>\n",
       "      <td>0.414797</td>\n",
       "    </tr>\n",
       "    <tr>\n",
       "      <th>44</th>\n",
       "      <td>PG</td>\n",
       "      <td>0.466520</td>\n",
       "    </tr>\n",
       "    <tr>\n",
       "      <th>48</th>\n",
       "      <td>KO</td>\n",
       "      <td>0.473048</td>\n",
       "    </tr>\n",
       "    <tr>\n",
       "      <th>22</th>\n",
       "      <td>T</td>\n",
       "      <td>0.502510</td>\n",
       "    </tr>\n",
       "  </tbody>\n",
       "</table>\n",
       "</div>"
      ],
      "text/plain": [
       "   Ticker      Beta\n",
       "29    MON  0.010761\n",
       "46    LMT  0.309023\n",
       "4     MRK  0.313415\n",
       "1     BMY  0.319430\n",
       "47   ABBV  0.338508\n",
       "11     MO  0.359057\n",
       "17     CL  0.377967\n",
       "37     PM  0.407042\n",
       "31     SO  0.414797\n",
       "44     PG  0.466520\n",
       "48     KO  0.473048\n",
       "22      T  0.502510"
      ]
     },
     "execution_count": 131,
     "metadata": {},
     "output_type": "execute_result"
    }
   ],
   "source": [
    "beta_ascending.iloc[:min_stocks]"
   ]
  },
  {
   "cell_type": "markdown",
   "metadata": {},
   "source": [
    "### The stocks with the highest betas:"
   ]
  },
  {
   "cell_type": "code",
   "execution_count": 132,
   "metadata": {},
   "outputs": [
    {
     "data": {
      "text/html": [
       "<div>\n",
       "<style scoped>\n",
       "    .dataframe tbody tr th:only-of-type {\n",
       "        vertical-align: middle;\n",
       "    }\n",
       "\n",
       "    .dataframe tbody tr th {\n",
       "        vertical-align: top;\n",
       "    }\n",
       "\n",
       "    .dataframe thead th {\n",
       "        text-align: right;\n",
       "    }\n",
       "</style>\n",
       "<table border=\"1\" class=\"dataframe\">\n",
       "  <thead>\n",
       "    <tr style=\"text-align: right;\">\n",
       "      <th></th>\n",
       "      <th>Ticker</th>\n",
       "      <th>Beta</th>\n",
       "    </tr>\n",
       "  </thead>\n",
       "  <tbody>\n",
       "    <tr>\n",
       "      <th>27</th>\n",
       "      <td>PYPL</td>\n",
       "      <td>1.651318</td>\n",
       "    </tr>\n",
       "    <tr>\n",
       "      <th>50</th>\n",
       "      <td>AMZN</td>\n",
       "      <td>1.604552</td>\n",
       "    </tr>\n",
       "    <tr>\n",
       "      <th>35</th>\n",
       "      <td>QCOM</td>\n",
       "      <td>1.454487</td>\n",
       "    </tr>\n",
       "    <tr>\n",
       "      <th>16</th>\n",
       "      <td>GM</td>\n",
       "      <td>1.393548</td>\n",
       "    </tr>\n",
       "    <tr>\n",
       "      <th>2</th>\n",
       "      <td>GOOG</td>\n",
       "      <td>1.310727</td>\n",
       "    </tr>\n",
       "    <tr>\n",
       "      <th>8</th>\n",
       "      <td>NKE</td>\n",
       "      <td>1.300717</td>\n",
       "    </tr>\n",
       "    <tr>\n",
       "      <th>38</th>\n",
       "      <td>BA</td>\n",
       "      <td>1.298421</td>\n",
       "    </tr>\n",
       "    <tr>\n",
       "      <th>7</th>\n",
       "      <td>BLK</td>\n",
       "      <td>1.269739</td>\n",
       "    </tr>\n",
       "    <tr>\n",
       "      <th>21</th>\n",
       "      <td>AAPL</td>\n",
       "      <td>1.265965</td>\n",
       "    </tr>\n",
       "    <tr>\n",
       "      <th>20</th>\n",
       "      <td>MSFT</td>\n",
       "      <td>1.247844</td>\n",
       "    </tr>\n",
       "    <tr>\n",
       "      <th>25</th>\n",
       "      <td>COF</td>\n",
       "      <td>1.247706</td>\n",
       "    </tr>\n",
       "    <tr>\n",
       "      <th>43</th>\n",
       "      <td>ACN</td>\n",
       "      <td>1.164351</td>\n",
       "    </tr>\n",
       "  </tbody>\n",
       "</table>\n",
       "</div>"
      ],
      "text/plain": [
       "   Ticker      Beta\n",
       "27   PYPL  1.651318\n",
       "50   AMZN  1.604552\n",
       "35   QCOM  1.454487\n",
       "16     GM  1.393548\n",
       "2    GOOG  1.310727\n",
       "8     NKE  1.300717\n",
       "38     BA  1.298421\n",
       "7     BLK  1.269739\n",
       "21   AAPL  1.265965\n",
       "20   MSFT  1.247844\n",
       "25    COF  1.247706\n",
       "43    ACN  1.164351"
      ]
     },
     "execution_count": 132,
     "metadata": {},
     "output_type": "execute_result"
    }
   ],
   "source": [
    "beta_descending.iloc[:min_stocks]"
   ]
  },
  {
   "cell_type": "markdown",
   "metadata": {},
   "source": [
    "---"
   ]
  },
  {
   "cell_type": "markdown",
   "metadata": {},
   "source": [
    "### Optimal Weighting for Stocks"
   ]
  },
  {
   "cell_type": "markdown",
   "metadata": {},
   "source": [
    "Since we want the highest volatility possible, we will invest the majority of our funds into the most volatile stock(s) before investing into the others. Given the requirements of a stock only being a maximum of 25% of the entire portfolio, we have calculated the optimal weighting below to create the most volatility."
   ]
  },
  {
   "cell_type": "code",
   "execution_count": 133,
   "metadata": {},
   "outputs": [],
   "source": [
    "min_weighting = 100 / (min_stocks * 2)\n",
    "max_weighting = 25\n",
    "list_of_weighting = []\n",
    "total_weighting = 0 #total_weighting will need to add up to 100 in the end\n",
    "num_stocks = min_stocks\n",
    "\n",
    "\n",
    "# We want to optimize the weighting of each stock such that the more volatile stocks take up the majority of the portfolio\n",
    "while (num_stocks != 0):\n",
    "    temp_weighting = min_weighting * (num_stocks - 1)\n",
    "    remaining_weight = 100 - (temp_weighting + total_weighting)\n",
    "\n",
    "    if (remaining_weight > max_weighting):\n",
    "        list_of_weighting.append(max_weighting)\n",
    "        total_weighting += max_weighting\n",
    "    elif (remaining_weight > min_weighting):\n",
    "        list_of_weighting.append(remaining_weight)\n",
    "        total_weighting += remaining_weight\n",
    "    else:\n",
    "        list_of_weighting.append(min_weighting)\n",
    "        total_weighting += min_weighting\n",
    "    num_stocks -= 1"
   ]
  },
  {
   "cell_type": "markdown",
   "metadata": {},
   "source": [
    "---"
   ]
  },
  {
   "cell_type": "markdown",
   "metadata": {},
   "source": [
    "## Sharpe Ratio vs Sortino Ratio"
   ]
  },
  {
   "cell_type": "markdown",
   "metadata": {},
   "source": [
    "Let's consider the Sortino Ratio. One might wonder what the difference is between both ratios.\n",
    "\n",
    "The Sharpe Ratio measures risk-adjusted return by comparing the return of an investment with its risk. The formula for the Sharpe Ratio is: <br>\n",
    "\n",
    "$\\begin{align}\\large S_a = \\frac{ R_p - R_f }{\\sigma_o} \\end{align}$\n",
    "\n",
    "where $\\normalsize R_p$ is expected return, $\\normalsize R_f$ is the risk-free return rate and $\\normalsize \\sigma_o$ is the standard deviation of the excess returns.\n",
    "\n",
    "On the other hand, the Sortino Ratio also measures risk-adjusted return. However, the formula for the Sortino Ratio is: <br>\n",
    "\n",
    "$\\begin{align}\\large S_a = \\frac{ R_p - R_f }{\\sigma_d} \\end{align}$\n",
    "\n",
    "where $\\normalsize R_p$ is expected return, $\\normalsize R_f$ is the risk-free return rate and $\\normalsize \\sigma_d$ is the standard deviation of the negative or downside returns.\n",
    "\n",
    "Although both equations are **almost** identical, the difference is that the Sharpe Ratio dislikes volatility as it accounts for any excess returns, whereas the Sortino Ratio accounts for any negative or downside returns. Consequently, graphed sharpe ratios would produce a graph that would more likely be linear, contrary to a more exponential graph of Sortino Ratios.\n",
    "\n",
    "The Sharpe ratio is more useful when evaluating low-volatility investment portfolios, whereas the Sortino ratio is more useful when evaluating high-volatility investment portfolios. As we are looking to maximize our risk on our portfolio, it would be a good idea to assess both the Sortino ratio and the Sharpe ratio."
   ]
  },
  {
   "cell_type": "markdown",
   "metadata": {},
   "source": [
    "### Sharpe Ratio"
   ]
  },
  {
   "cell_type": "code",
   "execution_count": 134,
   "metadata": {},
   "outputs": [
    {
     "name": "stdout",
     "output_type": "stream",
     "text": [
      "Series([], dtype: float64)\n"
     ]
    }
   ],
   "source": [
    "# Creating empty dataframes to store data in\n",
    "sharpe = pd.DataFrame()\n",
    "data = pd.DataFrame()\n",
    "sharpe_ratios = []\n",
    "\n",
    "# sharpe['Total Value'] = data['Total Value']\n",
    "# sharpe['Total Value Percentage Change'] = data['Total Value'].pct_change()\n",
    "\n",
    "sharpe_ratio = data.pct_change().mean() / data.pct_change().std()\n",
    "print(sharpe_ratio)\n",
    "\n",
    "\n",
    "\n",
    "\n",
    "\n"
   ]
  },
  {
   "cell_type": "markdown",
   "metadata": {},
   "source": [
    "## Risk Coefficient"
   ]
  },
  {
   "cell_type": "markdown",
   "metadata": {},
   "source": [
    "To further maximize risk from our selection of tickers, we can rearrange our ratios to solve for risk coefficient.\n"
   ]
  },
  {
   "cell_type": "markdown",
   "metadata": {},
   "source": [
    "## Options Market"
   ]
  },
  {
   "cell_type": "markdown",
   "metadata": {},
   "source": [
    "Another factor to look into is the options market. Although the options market doesn't directly tell us how a stock is performing, the option traders may give us a hint as to where the stock is heading. If the ratio of puts to calls is high, the stock price will most likely drop. If the ratio of calls to puts is high, the stock price will most likely jump."
   ]
  },
  {
   "cell_type": "markdown",
   "metadata": {},
   "source": [
    "### Put to Call Ratio ###\n",
    "- Divide sum of puts by sum of calls\n",
    "- More calls than puts means the asset price will increase (as investors want to buy the asset at a predetermined price) --> they are expecting the price to increase\n",
    "- More puts than calls means the asset price will decrease (as investors want to sell the asset at a predetermined price) --> they are expecting the price to fall"
   ]
  },
  {
   "cell_type": "code",
   "execution_count": 143,
   "metadata": {},
   "outputs": [
    {
     "name": "stdout",
     "output_type": "stream",
     "text": [
      "Dropped MON, no options data available\n"
     ]
    }
   ],
   "source": [
    "options_evaluation_raw = {}\n",
    "options_evaluation_raw['puts_sum'] = {}\n",
    "options_evaluation_raw['calls_sum'] = {}\n",
    "options_evaluation_raw['pcr'] = {}\n",
    "options_evaluation_raw['cpr'] = {}\n",
    "\n",
    "def extract_options_market(ticker):\n",
    "\n",
    "    try:\n",
    "        asset = yf.Ticker(ticker)\n",
    "        options = asset.option_chain(asset.options[0])\n",
    "\n",
    "        puts = pd.DataFrame().append(options.puts)\n",
    "        puts_sum = puts['volume'].sum()\n",
    "        options_evaluation_raw[\"puts_sum\"][ticker] = puts_sum\n",
    "\n",
    "        calls = pd.DataFrame().append(options.calls)\n",
    "        calls_sum = calls['volume'].sum()\n",
    "        options_evaluation_raw[\"calls_sum\"][ticker] = calls_sum\n",
    "\n",
    "        puts_to_calls =  puts_sum / calls_sum\n",
    "        options_evaluation_raw[\"pcr\"][ticker] = puts_to_calls\n",
    "\n",
    "        calls_to_puts =  calls_sum / puts_sum\n",
    "        options_evaluation_raw[\"cpr\"][ticker] = calls_to_puts\n",
    "    \n",
    "    except IndexError as error:\n",
    "        print(f'Dropped {ticker}, no options data available')\n",
    "    \n",
    "# Checking options market of each ticker in list of tickers given from threading\n",
    "for ticker in tickers:\n",
    "    thread = Thread(target=extract_options_market, args=[ticker])\n",
    "    thread.start()\n",
    "    threads.append(thread)\n",
    "\n",
    "# Using threading\n",
    "for thread in threads:\n",
    "    thread.join()        \n"
   ]
  },
  {
   "cell_type": "code",
   "execution_count": 165,
   "metadata": {},
   "outputs": [
    {
     "name": "stdout",
     "output_type": "stream",
     "text": [
      "The options market was large enough for at least 12 stocks. Here is the summary:\n"
     ]
    },
    {
     "data": {
      "text/html": [
       "<div>\n",
       "<style scoped>\n",
       "    .dataframe tbody tr th:only-of-type {\n",
       "        vertical-align: middle;\n",
       "    }\n",
       "\n",
       "    .dataframe tbody tr th {\n",
       "        vertical-align: top;\n",
       "    }\n",
       "\n",
       "    .dataframe thead th {\n",
       "        text-align: right;\n",
       "    }\n",
       "</style>\n",
       "<table border=\"1\" class=\"dataframe\">\n",
       "  <thead>\n",
       "    <tr style=\"text-align: right;\">\n",
       "      <th></th>\n",
       "      <th>puts_sum</th>\n",
       "      <th>calls_sum</th>\n",
       "      <th>pcr</th>\n",
       "      <th>cpr</th>\n",
       "    </tr>\n",
       "  </thead>\n",
       "  <tbody>\n",
       "    <tr>\n",
       "      <th>BK</th>\n",
       "      <td>12.0</td>\n",
       "      <td>21.0</td>\n",
       "      <td>0.571429</td>\n",
       "      <td>1.750000</td>\n",
       "    </tr>\n",
       "    <tr>\n",
       "      <th>MO</th>\n",
       "      <td>567.0</td>\n",
       "      <td>228.0</td>\n",
       "      <td>2.486842</td>\n",
       "      <td>0.402116</td>\n",
       "    </tr>\n",
       "    <tr>\n",
       "      <th>PM</th>\n",
       "      <td>60.0</td>\n",
       "      <td>275.0</td>\n",
       "      <td>0.218182</td>\n",
       "      <td>4.583333</td>\n",
       "    </tr>\n",
       "    <tr>\n",
       "      <th>USB</th>\n",
       "      <td>257.0</td>\n",
       "      <td>64.0</td>\n",
       "      <td>4.015625</td>\n",
       "      <td>0.249027</td>\n",
       "    </tr>\n",
       "    <tr>\n",
       "      <th>BMY</th>\n",
       "      <td>297.0</td>\n",
       "      <td>190.0</td>\n",
       "      <td>1.563158</td>\n",
       "      <td>0.639731</td>\n",
       "    </tr>\n",
       "  </tbody>\n",
       "</table>\n",
       "</div>"
      ],
      "text/plain": [
       "     puts_sum  calls_sum       pcr       cpr\n",
       "BK       12.0       21.0  0.571429  1.750000\n",
       "MO      567.0      228.0  2.486842  0.402116\n",
       "PM       60.0      275.0  0.218182  4.583333\n",
       "USB     257.0       64.0  4.015625  0.249027\n",
       "BMY     297.0      190.0  1.563158  0.639731"
      ]
     },
     "metadata": {},
     "output_type": "display_data"
    }
   ],
   "source": [
    "if len(options_evaluation_raw.keys()) <= 12:\n",
    "    options_evaluation = pd.DataFrame(options_evaluation_raw)\n",
    "    print(\"The options market was large enough for at least 12 stocks. Here is the summary:\")\n",
    "    display(options_evaluation.head())\n",
    "else:\n",
    "    print(\"There was insufficient options data for the tickers provided.\")"
   ]
  },
  {
   "cell_type": "markdown",
   "metadata": {},
   "source": [
    "Let's filter for any stocks with a put-to-call ratio which is below one, and filter for any stocks with a call-to-put ratio which is below one separately. We want our portfolio to move large in one direction, so we must account for stocks which may offset any gains and losses from other stocks. Thus, we will create a portfolio strictly consisting of heavy put-to-call ratio stocks and another portfolio strictly consisting of heavy call-to-put ratio stocks for further comparison. If only one portfolio can be formed, then the comparison step will be skipped."
   ]
  },
  {
   "cell_type": "code",
   "execution_count": 167,
   "metadata": {},
   "outputs": [
    {
     "data": {
      "text/html": [
       "<div>\n",
       "<style scoped>\n",
       "    .dataframe tbody tr th:only-of-type {\n",
       "        vertical-align: middle;\n",
       "    }\n",
       "\n",
       "    .dataframe tbody tr th {\n",
       "        vertical-align: top;\n",
       "    }\n",
       "\n",
       "    .dataframe thead th {\n",
       "        text-align: right;\n",
       "    }\n",
       "</style>\n",
       "<table border=\"1\" class=\"dataframe\">\n",
       "  <thead>\n",
       "    <tr style=\"text-align: right;\">\n",
       "      <th></th>\n",
       "      <th>puts_sum</th>\n",
       "      <th>calls_sum</th>\n",
       "      <th>pcr</th>\n",
       "      <th>cpr</th>\n",
       "    </tr>\n",
       "  </thead>\n",
       "  <tbody>\n",
       "    <tr>\n",
       "      <th>BLK</th>\n",
       "      <td>454.0</td>\n",
       "      <td>408.0</td>\n",
       "      <td>1.112745</td>\n",
       "      <td>0.898678</td>\n",
       "    </tr>\n",
       "    <tr>\n",
       "      <th>KO</th>\n",
       "      <td>440.0</td>\n",
       "      <td>384.0</td>\n",
       "      <td>1.145833</td>\n",
       "      <td>0.872727</td>\n",
       "    </tr>\n",
       "    <tr>\n",
       "      <th>UNH</th>\n",
       "      <td>190.0</td>\n",
       "      <td>158.0</td>\n",
       "      <td>1.202532</td>\n",
       "      <td>0.831579</td>\n",
       "    </tr>\n",
       "    <tr>\n",
       "      <th>ABT</th>\n",
       "      <td>2370.0</td>\n",
       "      <td>1877.0</td>\n",
       "      <td>1.262653</td>\n",
       "      <td>0.791983</td>\n",
       "    </tr>\n",
       "    <tr>\n",
       "      <th>JPM</th>\n",
       "      <td>646.0</td>\n",
       "      <td>467.0</td>\n",
       "      <td>1.383298</td>\n",
       "      <td>0.722910</td>\n",
       "    </tr>\n",
       "  </tbody>\n",
       "</table>\n",
       "</div>"
      ],
      "text/plain": [
       "     puts_sum  calls_sum       pcr       cpr\n",
       "BLK     454.0      408.0  1.112745  0.898678\n",
       "KO      440.0      384.0  1.145833  0.872727\n",
       "UNH     190.0      158.0  1.202532  0.831579\n",
       "ABT    2370.0     1877.0  1.262653  0.791983\n",
       "JPM     646.0      467.0  1.383298  0.722910"
      ]
     },
     "execution_count": 167,
     "metadata": {},
     "output_type": "execute_result"
    }
   ],
   "source": [
    "# Filtering for stocks with a put-to-call ratio greater than 1 and sorting\n",
    "pcr_filter = pd.DataFrame()\n",
    "pcr_filter = options_evaluation[options_evaluation[\"pcr\"] > 1].dropna()\n",
    "pcr_filter = pcr_filter.sort_values(by=['pcr'], ascending=False)\n",
    "pcr_filter.head()"
   ]
  },
  {
   "cell_type": "markdown",
   "metadata": {},
   "source": [
    "Forming the portfolio for the heavy put-to-call ratio stocks,"
   ]
  },
  {
   "cell_type": "code",
   "execution_count": 182,
   "metadata": {},
   "outputs": [
    {
     "name": "stdout",
     "output_type": "stream",
     "text": [
      "There are at least 12 stocks with a heavy put-to-call ratio.\n",
      "['BLK', 'KO', 'UNH', 'ABT', 'JPM', 'COST', 'MRK', 'BMY', 'SPG', 'MO', 'CAT', 'NKE']\n"
     ]
    }
   ],
   "source": [
    "# Checking if there are enough heavy put-to-call ratio stocks\n",
    "if len(pcr_filter) >= 12:\n",
    "    print(\"There are at least 12 stocks with a heavy put-to-call ratio.\")\n",
    "    pcr_heavy_tickers = []\n",
    "    pcr_heavy_tickers = list(pcr_filter.index.values)\n",
    "    # Removing everything after the first 12 tickers\n",
    "    pcr_heavy_tickers = pcr_heavy_tickers[0:12]\n",
    "    print(pcr_heavy_tickers)\n",
    "else: \n",
    "    print(\"There are not enough stocks with a put-to-call ratio greater than 1.\")\n"
   ]
  },
  {
   "cell_type": "code",
   "execution_count": 168,
   "metadata": {},
   "outputs": [
    {
     "data": {
      "text/html": [
       "<div>\n",
       "<style scoped>\n",
       "    .dataframe tbody tr th:only-of-type {\n",
       "        vertical-align: middle;\n",
       "    }\n",
       "\n",
       "    .dataframe tbody tr th {\n",
       "        vertical-align: top;\n",
       "    }\n",
       "\n",
       "    .dataframe thead th {\n",
       "        text-align: right;\n",
       "    }\n",
       "</style>\n",
       "<table border=\"1\" class=\"dataframe\">\n",
       "  <thead>\n",
       "    <tr style=\"text-align: right;\">\n",
       "      <th></th>\n",
       "      <th>puts_sum</th>\n",
       "      <th>calls_sum</th>\n",
       "      <th>pcr</th>\n",
       "      <th>cpr</th>\n",
       "    </tr>\n",
       "  </thead>\n",
       "  <tbody>\n",
       "    <tr>\n",
       "      <th>AIG</th>\n",
       "      <td>193.0</td>\n",
       "      <td>4247.0</td>\n",
       "      <td>0.045444</td>\n",
       "      <td>22.005181</td>\n",
       "    </tr>\n",
       "    <tr>\n",
       "      <th>NEE</th>\n",
       "      <td>443.0</td>\n",
       "      <td>6556.0</td>\n",
       "      <td>0.067572</td>\n",
       "      <td>14.799097</td>\n",
       "    </tr>\n",
       "    <tr>\n",
       "      <th>MS</th>\n",
       "      <td>3945.0</td>\n",
       "      <td>24982.0</td>\n",
       "      <td>0.157914</td>\n",
       "      <td>6.332573</td>\n",
       "    </tr>\n",
       "    <tr>\n",
       "      <th>PM</th>\n",
       "      <td>60.0</td>\n",
       "      <td>275.0</td>\n",
       "      <td>0.218182</td>\n",
       "      <td>4.583333</td>\n",
       "    </tr>\n",
       "    <tr>\n",
       "      <th>SBUX</th>\n",
       "      <td>182.0</td>\n",
       "      <td>778.0</td>\n",
       "      <td>0.233933</td>\n",
       "      <td>4.274725</td>\n",
       "    </tr>\n",
       "  </tbody>\n",
       "</table>\n",
       "</div>"
      ],
      "text/plain": [
       "      puts_sum  calls_sum       pcr        cpr\n",
       "AIG      193.0     4247.0  0.045444  22.005181\n",
       "NEE      443.0     6556.0  0.067572  14.799097\n",
       "MS      3945.0    24982.0  0.157914   6.332573\n",
       "PM        60.0      275.0  0.218182   4.583333\n",
       "SBUX     182.0      778.0  0.233933   4.274725"
      ]
     },
     "execution_count": 168,
     "metadata": {},
     "output_type": "execute_result"
    }
   ],
   "source": [
    "# Filtering for stocks with a call-to-put ratio greater than 1\n",
    "cpr_filter = pd.DataFrame()\n",
    "cpr_filter = options_evaluation[options_evaluation[\"cpr\"] > 1].dropna()\n",
    "cpr_filter = cpr_filter.sort_values(by=['cpr'], ascending=False)\n",
    "cpr_filter.head()"
   ]
  },
  {
   "cell_type": "code",
   "execution_count": 183,
   "metadata": {},
   "outputs": [
    {
     "name": "stdout",
     "output_type": "stream",
     "text": [
      "There are at least 12 stocks with a heavy put to call ratio.\n",
      "['AIG', 'NEE', 'MS', 'PM', 'SBUX', 'PFE', 'SO', 'COF', 'OXY', 'C', 'BAC', 'UPS']\n"
     ]
    }
   ],
   "source": [
    "# Checking if there are enough heavy put-to-call ratio stocks\n",
    "if len(cpr_filter) >= 12:\n",
    "    print(\"There are at least 12 stocks with a heavy put to call ratio.\")\n",
    "    cpr_heavy_tickers = []\n",
    "    cpr_heavy_tickers = list(cpr_filter.index.values)\n",
    "    # Removing everything after the first 12 tickers\n",
    "    cpr_heavy_tickers = cpr_heavy_tickers[0:12]\n",
    "    print(cpr_heavy_tickers)\n",
    "else: \n",
    "    print(\"There are not enough stocks with a call-to-put ratio greater than 1.\")\n"
   ]
  },
  {
   "cell_type": "markdown",
   "metadata": {},
   "source": [
    "#### Below is the function that calculates the number of shares we will invest in each stock given a list of tickers ####\n",
    "So far, we have obtained the tickers from the methods we used above and gotten a couple of contestents for our final portfolio. Now, we will be throwing them into the function below to yield the amount of stocks we will invest into each ticker for each portfolio."
   ]
  },
  {
   "cell_type": "code",
   "execution_count": 141,
   "metadata": {},
   "outputs": [],
   "source": [
    "# CHANGE HERE -- put investment at the top so the user can change it as desired\n",
    "investment = 500000\n",
    "\n",
    "# This function calculates the number of stocks to invest in given a list of 12 stocks\n",
    "def num_stocks (tickers_list):\n",
    "\n",
    "    # Calculating the $ amount to invest into each stock \n",
    "    investment_list = []\n",
    "    for i in range(len(list_of_weighting)):\n",
    "        investment_list.append((list_of_weighting[i] * investment))\n",
    "\n",
    "    # Getting the number of stocks invested in each ticker\n",
    "    stocks_in_each = []\n",
    "    for i in range(len(tickers_list)):\n",
    "        stocks_in_each.append (tickers_hist.get(tickers_list[i])['Close'][0])\n",
    "\n",
    "    frame = {\"Ticker\": tickers_list,\n",
    "             \"Stocks\": stocks_in_each,\n",
    "             \"Investment\": investment_list}\n",
    "\n",
    "    stocks_dataframe = pd.DataFrame(frame)\n",
    "\n",
    "    return (stocks_dataframe)"
   ]
  },
  {
   "cell_type": "markdown",
   "metadata": {},
   "source": [
    "### Checking if the options market is large enough for the chosen stocks:"
   ]
  },
  {
   "cell_type": "markdown",
   "metadata": {},
   "source": [
    "## Contribution Declaration\n",
    "\n",
    "The following team members made a meaningful contribution to this assignment:\n",
    "\n",
    "Insert Names Here."
   ]
  }
 ],
 "metadata": {
  "kernelspec": {
   "display_name": "Python 3.10.4 ('venv')",
   "language": "python",
   "name": "python3"
  },
  "language_info": {
   "codemirror_mode": {
    "name": "ipython",
    "version": 3
   },
   "file_extension": ".py",
   "mimetype": "text/x-python",
   "name": "python",
   "nbconvert_exporter": "python",
   "pygments_lexer": "ipython3",
   "version": "3.10.4"
  },
  "vscode": {
   "interpreter": {
    "hash": "3de2823d9f6f9939fde57575371059410065cca316d9e9b8f20ab82c51e05b59"
   }
  }
 },
 "nbformat": 4,
 "nbformat_minor": 2
}
