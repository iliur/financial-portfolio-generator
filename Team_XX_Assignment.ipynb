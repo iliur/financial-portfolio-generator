{
 "cells": [
  {
   "cell_type": "code",
   "execution_count": 229,
   "metadata": {},
   "outputs": [],
   "source": [
    "from IPython.display import display, display_html, Math, Latex\n",
    "\n",
    "import pandas as pd\n",
    "import numpy as np\n",
    "import numpy_financial as npf\n",
    "import yfinance as yf\n",
    "import matplotlib.pyplot as plt\n",
    "from datetime import datetime\n",
    "from threading import Thread\n",
    "import warnings\n",
    "warnings.simplefilter(action='ignore', category=FutureWarning)"
   ]
  },
  {
   "cell_type": "markdown",
   "metadata": {},
   "source": [
    "## Group Assignment\n",
    "### Team Number: XX\n",
    "### Team Member Names: Rehan, Rui, Anton\n",
    "### Team Strategy Chosen: RISKY"
   ]
  },
  {
   "cell_type": "markdown",
   "metadata": {},
   "source": [
    "*Delete before submission*\n",
    "\n",
    "IMPORTANT SPECIFICATIONS DURING CODING:\n",
    "\n",
    "- Stocks must be in US Market\n",
    "\n",
    "- Stocks must have an average monthly volume of at least 200 000 shares between January 01, 2022 to October 31, 2022.\n",
    "\n",
    "- Months must have at least 20 trading days\n",
    "\n",
    "- Must have a minimum of 12 stocks and a maximum of 25 stocks\n",
    "\n",
    "- If we choose n stocks for our portfolio, each stock must be minimum of (100/(2n))% of the portfolio when weighted by value (i.e., the overall value of the shares purchased in that particular stock) as of closing prices on November 25, 2022\n",
    "\n",
    "- No individual stock may make up more than 25% of the portfolio when weighted by value (i.e., the overall value of the shares purchased in that particular stock) as of closing prices on November 26, 2022.\n",
    "\n",
    "- Must spend all 500 000 USD on portfolio\n",
    "\n",
    "- Teams will purchase their stocks at the closing prices on November 25, 2022\n",
    "\n",
    "There are more specifications for how our code should be presented before submission, look into the assignment doc for info."
   ]
  },
  {
   "cell_type": "markdown",
   "metadata": {},
   "source": [
    "### Global Variables"
   ]
  },
  {
   "cell_type": "code",
   "execution_count": 230,
   "metadata": {},
   "outputs": [],
   "source": [
    "# Total Investment Size\n",
    "global_investment_size = 500000\n",
    "\n",
    "# File Name\n",
    "file = 'Tickers_Example.csv'\n",
    "\n",
    "# Start date and end date for our portfolio\n",
    "start_date = '2022-01-01'\n",
    "end_date = '2022-11-01'\n"
   ]
  },
  {
   "cell_type": "markdown",
   "metadata": {},
   "source": [
    "### Extracting tickers and adding them to a list"
   ]
  },
  {
   "cell_type": "code",
   "execution_count": 231,
   "metadata": {},
   "outputs": [],
   "source": [
    "# Initializing a dataframe for 'raw' data extracted from the .csv file\n",
    "tickers_raw = pd.read_csv(file, header=None)[0].tolist()\n",
    "\n",
    "# Empty data structures to store ticker data in\n",
    "tickers = []\n",
    "tickers_hist = {}\n",
    "\n",
    "# Function which consumes a ticker and determines the validation based on prerequisites\n",
    "def validate_ticker(ticker):\n",
    "\n",
    "    # Extracting ticker info from yFinance\n",
    "    ticker_info = yf.Ticker(ticker).info\n",
    "\n",
    "    # Trying every stock and excepting those that throw an error\n",
    "    try:\n",
    "        # If the stock is valid, we check for each prerequisite:\n",
    "        # Checking for USD currency and ensuring it's on the US market\n",
    "        if ticker_info['currency'] == 'USD' and ticker_info['market'] == 'us_market':\n",
    "            ticker_hist = yf.Ticker(ticker).history(start=start_date, end=end_date, interval='1d').dropna()\n",
    "\n",
    "            # Checking monthly volume\n",
    "            ticker_monthly_trading_days = ticker_hist['Volume'].groupby(pd.Grouper(freq='MS')).count()\n",
    "            ticker_monthly_volume = ticker_hist['Volume'].groupby(pd.Grouper(freq='MS')).sum()\n",
    "\n",
    "            # Checking if the month has at least 20 trading days\n",
    "            for month in ticker_monthly_trading_days.index:\n",
    "                if ticker_monthly_trading_days.loc[month] < 20:\n",
    "                    ticker_monthly_volume.drop(month, inplace=True)\n",
    "\n",
    "            # Checking if the average monthly volume is greater than or equal to 200,000 USD\n",
    "            if ticker_monthly_volume.mean() >= 200000:\n",
    "                tickers.append(ticker)\n",
    "                tickers_hist[ticker] = ticker_hist\n",
    "            else:\n",
    "                print(f'{ticker} Ticker does not meet average monthly volume requirements')\n",
    "        else:\n",
    "            print(f'{ticker} Ticker does not reference stock denominated in USD')\n",
    "    except:\n",
    "        print(f'Error: {ticker} Ticker does not reference a valid stock')\n",
    "\n",
    "# Empty data structure for threading\n",
    "threads = []\n",
    "\n",
    "# Checking validity of each ticker in list of tickers given from threading\n",
    "for ticker in tickers_raw:\n",
    "    thread = Thread(target=validate_ticker, args=[ticker])\n",
    "    thread.start()\n",
    "    threads.append(thread)\n",
    "\n",
    "# Using threading\n",
    "for thread in threads:\n",
    "    thread.join()"
   ]
  },
  {
   "cell_type": "markdown",
   "metadata": {},
   "source": [
    "### List of Valid Tickers"
   ]
  },
  {
   "cell_type": "code",
   "execution_count": null,
   "metadata": {},
   "outputs": [
    {
     "name": "stdout",
     "output_type": "stream",
     "text": [
      "['C', 'COST', 'ACN', 'AIG', 'BAC', 'BA', 'MON', 'LMT', 'MS', 'AXP', 'CAT', 'TGT', 'MO', 'BK', 'ABBV', 'SLB', 'SO', 'TXN', 'BLK', 'BMY', 'USB', 'CVS', 'PFE', 'SPG', 'NEE', 'CMCSA', 'GOOG', 'UPS', 'LLY', 'KMI', 'AMZN', 'UNH', 'PG', 'AAPL', 'COP', 'T', 'PM', 'SBUX', 'JPM', 'ORCL', 'COF', 'MRK', 'CSCO', 'CL', 'BIIB', 'QCOM', 'ABT', 'GM', 'MSFT', 'PYPL', 'OXY', 'NKE', 'UNP', 'KO', 'PEP']\n"
     ]
    }
   ],
   "source": [
    "print(tickers)"
   ]
  },
  {
   "cell_type": "markdown",
   "metadata": {},
   "source": [
    "---"
   ]
  },
  {
   "cell_type": "markdown",
   "metadata": {},
   "source": [
    "## Strategy and Data Analytics"
   ]
  },
  {
   "cell_type": "markdown",
   "metadata": {},
   "source": [
    "The strategy our team has chosen is to go risky, meaning we must optimize a portfolio so that it is driven away as much as possible, from the initial starting value of $500,000. Since we are pursuing a risky strategy, there are a few factors to an optimal portfolio.\n",
    "\n",
    "Since we want the most risk and most reward, we want to minimize any diversification involved. Essentially, out of the minimum and maximum requirements for stock diversification, we want to pick the least amount of stocks, which is a minimum of 12 and keep diversification at an all time low. Furthermore, our stocks can net heavy volume, however, volume is useless if the market direction for these assets is all over the place. Therefore, we need all of our stocks to move in the same direction. \n",
    "\n",
    "Overall, we will move forward with the minimum amount of stocks involved, 12, and keep track of various factors like risk to reward ratio, positive risk, negative risk, betas and options markets."
   ]
  },
  {
   "cell_type": "markdown",
   "metadata": {},
   "source": [
    "### Measuring Beta"
   ]
  },
  {
   "cell_type": "markdown",
   "metadata": {},
   "source": [
    "Beta calculates the volatility of a stock given the covariance of the stock relative to the broader stock market and the variance of the stock. We can use this to our advantage and find the higher volatility stocks so that we can create a riskier portfolio. The formula for Beta is as follows:\n",
    "\n",
    "$$\n",
    "\\beta_i = \\frac {\\mathrm{Cov} (r_i,r_m)}{\\mathrm{Var} (r_m)}\n",
    "$$\n",
    "\n",
    "\n",
    "Where $ \\beta_i $ is the market beta of a stock, $ {\\mathrm{Cov} (r_i,r_m)} $ is the covariance between the stock and the market index (in our case, the S&P 500), $ {\\mathrm{Var} (r_m)} $ is the variance of the market index. Since a volatile stock can net us a gain or a loss, we want the highest magnitude. Thus, we will calculate both an upper bound beta and a lower bound beta and yield the highest magnitude out of the two as a contender for our final portfolio"
   ]
  },
  {
   "cell_type": "code",
   "execution_count": null,
   "metadata": {},
   "outputs": [],
   "source": [
    "# We will be using S&P 500 as our measure of how the overall stock market is performing\n",
    "sp_index = yf.Ticker(\"^GSPC\") # ticker for S&P 500\n",
    "\n",
    "# Extracting close prices of the S&P 500, percentage returns and its corresponding variance\n",
    "sp_hist = sp_index.history(start=start_date, end=end_date).filter(like=\"Close\")\n",
    "sp_hist[\"Returns\"] = sp_hist['Close'].pct_change()\n",
    "sp_var = sp_hist[\"Returns\"].var()"
   ]
  },
  {
   "cell_type": "code",
   "execution_count": null,
   "metadata": {},
   "outputs": [],
   "source": [
    "frame = {}\n",
    "beta_values = []\n",
    "min_stocks = 12\n",
    "max_stocks = 25\n",
    "\n",
    "market_index = yf.Ticker('^GSPC').history(start=start_date, end=end_date, interval='1d').dropna()['Close']\n",
    "market_return = market_index.pct_change()\n",
    "market_variance = market_return.var()\n",
    "\n",
    "beta_dict = {}\n",
    "\n",
    "for ticker in tickers:\n",
    "    stock_return = tickers_hist[ticker]['Close'].pct_change()\n",
    "    covariance = pd.DataFrame({ticker: stock_return, 'S&P 500': market_return}).cov().loc[ticker, 'S&P 500']\n",
    "    beta_dict[ticker] = covariance / market_variance\n",
    "\n",
    "beta_df = pd.DataFrame(beta_dict.items(), columns=['Ticker', 'Beta'])\n",
    "beta_df.sort_values(by=['Beta'], ascending=False, ignore_index=True, inplace=True)"
   ]
  },
  {
   "cell_type": "markdown",
   "metadata": {},
   "source": [
    "### The portfolio with the highest magnitude of beta is printed below ###"
   ]
  },
  {
   "cell_type": "code",
   "execution_count": null,
   "metadata": {},
   "outputs": [],
   "source": [
    "# Long Term Investment (TEMPORARY BACKUP)\n",
    "highest_betas_magn\n",
    "\n"
   ]
  },
  {
   "cell_type": "code",
   "execution_count": null,
   "metadata": {},
   "outputs": [
    {
     "data": {
      "text/html": [
       "<div>\n",
       "<style scoped>\n",
       "    .dataframe tbody tr th:only-of-type {\n",
       "        vertical-align: middle;\n",
       "    }\n",
       "\n",
       "    .dataframe tbody tr th {\n",
       "        vertical-align: top;\n",
       "    }\n",
       "\n",
       "    .dataframe thead th {\n",
       "        text-align: right;\n",
       "    }\n",
       "</style>\n",
       "<table border=\"1\" class=\"dataframe\">\n",
       "  <thead>\n",
       "    <tr style=\"text-align: right;\">\n",
       "      <th></th>\n",
       "      <th>Ticker</th>\n",
       "      <th>Beta</th>\n",
       "    </tr>\n",
       "  </thead>\n",
       "  <tbody>\n",
       "    <tr>\n",
       "      <th>31</th>\n",
       "      <td>PYPL</td>\n",
       "      <td>1.651318</td>\n",
       "    </tr>\n",
       "    <tr>\n",
       "      <th>20</th>\n",
       "      <td>AMZN</td>\n",
       "      <td>1.604552</td>\n",
       "    </tr>\n",
       "    <tr>\n",
       "      <th>39</th>\n",
       "      <td>QCOM</td>\n",
       "      <td>1.454487</td>\n",
       "    </tr>\n",
       "    <tr>\n",
       "      <th>14</th>\n",
       "      <td>GM</td>\n",
       "      <td>1.393548</td>\n",
       "    </tr>\n",
       "    <tr>\n",
       "      <th>11</th>\n",
       "      <td>GOOG</td>\n",
       "      <td>1.310727</td>\n",
       "    </tr>\n",
       "    <tr>\n",
       "      <th>12</th>\n",
       "      <td>NKE</td>\n",
       "      <td>1.300717</td>\n",
       "    </tr>\n",
       "    <tr>\n",
       "      <th>46</th>\n",
       "      <td>BA</td>\n",
       "      <td>1.298421</td>\n",
       "    </tr>\n",
       "    <tr>\n",
       "      <th>17</th>\n",
       "      <td>BLK</td>\n",
       "      <td>1.269739</td>\n",
       "    </tr>\n",
       "    <tr>\n",
       "      <th>51</th>\n",
       "      <td>AAPL</td>\n",
       "      <td>1.265965</td>\n",
       "    </tr>\n",
       "    <tr>\n",
       "      <th>21</th>\n",
       "      <td>MSFT</td>\n",
       "      <td>1.247844</td>\n",
       "    </tr>\n",
       "    <tr>\n",
       "      <th>45</th>\n",
       "      <td>COF</td>\n",
       "      <td>1.247706</td>\n",
       "    </tr>\n",
       "    <tr>\n",
       "      <th>44</th>\n",
       "      <td>ACN</td>\n",
       "      <td>1.164351</td>\n",
       "    </tr>\n",
       "  </tbody>\n",
       "</table>\n",
       "</div>"
      ],
      "text/plain": [
       "   Ticker      Beta\n",
       "31   PYPL  1.651318\n",
       "20   AMZN  1.604552\n",
       "39   QCOM  1.454487\n",
       "14     GM  1.393548\n",
       "11   GOOG  1.310727\n",
       "12    NKE  1.300717\n",
       "46     BA  1.298421\n",
       "17    BLK  1.269739\n",
       "51   AAPL  1.265965\n",
       "21   MSFT  1.247844\n",
       "45    COF  1.247706\n",
       "44    ACN  1.164351"
      ]
     },
     "execution_count": 208,
     "metadata": {},
     "output_type": "execute_result"
    }
   ],
   "source": [
    "# Finding the higher magnitude portfolio as our beta portfolio\n",
    "if (abs(highest_betas_magn) > abs(lowest_betas_magn)):\n",
    "    beta_portfolio = highest_betas\n",
    "else:\n",
    "    beta_portfolio = lowest_betas\n",
    "\n",
    "beta_portfolio_print = beta_portfolio\n",
    "beta_portfolio = beta_portfolio.reset_index() # resetting index to use in a for loop\n",
    "\n",
    "# Putting the tickers into a list to calculate investment amounts later\n",
    "beta_tickers = []\n",
    "\n",
    "for i in range(len(beta_portfolio.index)):\n",
    "    beta_tickers.append(beta_portfolio['Ticker'][i])\n",
    "\n",
    "beta_portfolio_print"
   ]
  },
  {
   "cell_type": "markdown",
   "metadata": {},
   "source": [
    "---"
   ]
  },
  {
   "cell_type": "markdown",
   "metadata": {},
   "source": [
    "### Optimal Weighting for Stocks"
   ]
  },
  {
   "cell_type": "markdown",
   "metadata": {},
   "source": [
    "Since we want the highest volatility possible, we will invest the majority of our funds into the most volatile stock(s) before investing into the others. Given the requirements of a stock only being a maximum of 25% of the entire portfolio, we have calculated the optimal weighting below to create the most volatility."
   ]
  },
  {
   "cell_type": "code",
   "execution_count": null,
   "metadata": {},
   "outputs": [],
   "source": [
    "min_weighting = 100 / (min_stocks * 2)\n",
    "max_weighting = 25\n",
    "list_of_weighting = []\n",
    "total_weighting = 0 #total_weighting will need to add up to 100 in the end\n",
    "num_stocks = min_stocks\n",
    "\n",
    "\n",
    "# We want to optimize the weighting of each stock such that the more volatile stocks take up the majority of the portfolio\n",
    "while (num_stocks != 0):\n",
    "    temp_weighting = min_weighting * (num_stocks - 1)\n",
    "    remaining_weight = 100 - (temp_weighting + total_weighting)\n",
    "    \n",
    "    if (remaining_weight > max_weighting):\n",
    "        list_of_weighting.append(max_weighting/100)\n",
    "        total_weighting += max_weighting\n",
    "    elif (remaining_weight > min_weighting):\n",
    "        list_of_weighting.append(remaining_weight/100)\n",
    "        total_weighting += remaining_weight\n",
    "    else:\n",
    "        list_of_weighting.append(min_weighting/100)\n",
    "        total_weighting += min_weighting\n",
    "    num_stocks -= 1"
   ]
  },
  {
   "cell_type": "markdown",
   "metadata": {},
   "source": [
    "---"
   ]
  },
  {
   "cell_type": "markdown",
   "metadata": {},
   "source": [
    "## Options Market"
   ]
  },
  {
   "cell_type": "markdown",
   "metadata": {},
   "source": [
    "Another factor to look into is the options market. Although the options market doesn't directly tell us how a stock is performing, the option traders may give us a hint as to where the stock is heading in a short period of time. If the ratio of puts to calls is high, the stock price will most likely drop. If the ratio of calls to puts is high, the stock price will most likely jump."
   ]
  },
  {
   "cell_type": "markdown",
   "metadata": {},
   "source": [
    "### Put to Call Ratio ###\n",
    "- Divide sum of puts by sum of calls\n",
    "- More calls than puts means the asset price will increase (as investors want to buy the asset at a predetermined price) --> they are expecting the price to increase\n",
    "- More puts than calls means the asset price will decrease (as investors want to sell the asset at a predetermined price) --> they are expecting the price to fall"
   ]
  },
  {
   "cell_type": "markdown",
   "metadata": {},
   "source": [
    "### Checking if the options market is large enough for the chosen stocks:"
   ]
  },
  {
   "cell_type": "code",
   "execution_count": null,
   "metadata": {},
   "outputs": [],
   "source": [
    "# Global variables to check for availability of options, put-to-call ratios and call-to-put ratios\n",
    "options_large_enough = False\n",
    "pcr_large_enough = False\n",
    "cpr_large_enough = False"
   ]
  },
  {
   "cell_type": "code",
   "execution_count": null,
   "metadata": {},
   "outputs": [
    {
     "name": "stdout",
     "output_type": "stream",
     "text": [
      "Dropped MON, no options data available\n"
     ]
    }
   ],
   "source": [
    "options_evaluation_raw = {}\n",
    "options_evaluation_raw['puts_sum'] = {}\n",
    "options_evaluation_raw['calls_sum'] = {}\n",
    "options_evaluation_raw['pcr'] = {}\n",
    "options_evaluation_raw['cpr'] = {}\n",
    "\n",
    "def extract_options_market(ticker):\n",
    "\n",
    "    try:\n",
    "        asset = yf.Ticker(ticker)\n",
    "        options = asset.option_chain(asset.options[0])\n",
    "\n",
    "        puts = pd.DataFrame().append(options.puts)\n",
    "        puts_sum = puts['volume'].sum()\n",
    "        options_evaluation_raw[\"puts_sum\"][ticker] = puts_sum\n",
    "\n",
    "        calls = pd.DataFrame().append(options.calls)\n",
    "        calls_sum = calls['volume'].sum()\n",
    "        options_evaluation_raw[\"calls_sum\"][ticker] = calls_sum\n",
    "\n",
    "        puts_to_calls =  puts_sum / calls_sum\n",
    "        options_evaluation_raw[\"pcr\"][ticker] = puts_to_calls\n",
    "\n",
    "        calls_to_puts =  calls_sum / puts_sum\n",
    "        options_evaluation_raw[\"cpr\"][ticker] = calls_to_puts\n",
    "    \n",
    "    except IndexError as error:\n",
    "        print(f'Dropped {ticker}, no options data available')\n",
    "    \n",
    "# Checking options market of each ticker in list of tickers given from threading\n",
    "for ticker in tickers:\n",
    "    thread = Thread(target=extract_options_market, args=[ticker])\n",
    "    thread.start()\n",
    "    threads.append(thread)\n",
    "\n",
    "# Using threading\n",
    "for thread in threads:\n",
    "    thread.join()        \n"
   ]
  },
  {
   "cell_type": "code",
   "execution_count": null,
   "metadata": {},
   "outputs": [
    {
     "name": "stdout",
     "output_type": "stream",
     "text": [
      "The options market was large enough for at least 12 stocks. Here is the summary:\n"
     ]
    },
    {
     "data": {
      "text/html": [
       "<div>\n",
       "<style scoped>\n",
       "    .dataframe tbody tr th:only-of-type {\n",
       "        vertical-align: middle;\n",
       "    }\n",
       "\n",
       "    .dataframe tbody tr th {\n",
       "        vertical-align: top;\n",
       "    }\n",
       "\n",
       "    .dataframe thead th {\n",
       "        text-align: right;\n",
       "    }\n",
       "</style>\n",
       "<table border=\"1\" class=\"dataframe\">\n",
       "  <thead>\n",
       "    <tr style=\"text-align: right;\">\n",
       "      <th></th>\n",
       "      <th>puts_sum</th>\n",
       "      <th>calls_sum</th>\n",
       "      <th>pcr</th>\n",
       "      <th>cpr</th>\n",
       "    </tr>\n",
       "  </thead>\n",
       "  <tbody>\n",
       "    <tr>\n",
       "      <th>BK</th>\n",
       "      <td>12.0</td>\n",
       "      <td>21.0</td>\n",
       "      <td>0.571429</td>\n",
       "      <td>1.750000</td>\n",
       "    </tr>\n",
       "    <tr>\n",
       "      <th>USB</th>\n",
       "      <td>257.0</td>\n",
       "      <td>64.0</td>\n",
       "      <td>4.015625</td>\n",
       "      <td>0.249027</td>\n",
       "    </tr>\n",
       "    <tr>\n",
       "      <th>PM</th>\n",
       "      <td>60.0</td>\n",
       "      <td>275.0</td>\n",
       "      <td>0.218182</td>\n",
       "      <td>4.583333</td>\n",
       "    </tr>\n",
       "    <tr>\n",
       "      <th>KMI</th>\n",
       "      <td>665.0</td>\n",
       "      <td>1106.0</td>\n",
       "      <td>0.601266</td>\n",
       "      <td>1.663158</td>\n",
       "    </tr>\n",
       "    <tr>\n",
       "      <th>MO</th>\n",
       "      <td>567.0</td>\n",
       "      <td>228.0</td>\n",
       "      <td>2.486842</td>\n",
       "      <td>0.402116</td>\n",
       "    </tr>\n",
       "  </tbody>\n",
       "</table>\n",
       "</div>"
      ],
      "text/plain": [
       "     puts_sum  calls_sum       pcr       cpr\n",
       "BK       12.0       21.0  0.571429  1.750000\n",
       "USB     257.0       64.0  4.015625  0.249027\n",
       "PM       60.0      275.0  0.218182  4.583333\n",
       "KMI     665.0     1106.0  0.601266  1.663158\n",
       "MO      567.0      228.0  2.486842  0.402116"
      ]
     },
     "metadata": {},
     "output_type": "display_data"
    }
   ],
   "source": [
    "if len(options_evaluation_raw.keys()) <= 12:\n",
    "    options_large_enough = True\n",
    "    options_evaluation = pd.DataFrame(options_evaluation_raw)\n",
    "    print(\"The options market was large enough for at least 12 stocks. Here is the summary:\")\n",
    "    display(options_evaluation.head())\n",
    "else:\n",
    "    print(\"There was insufficient options data for the tickers provided.\")"
   ]
  },
  {
   "cell_type": "markdown",
   "metadata": {},
   "source": [
    "Let's filter for any stocks with a put-to-call ratio which is below one, and filter for any stocks with a call-to-put ratio which is below one separately. We want our portfolio to move large in one direction, so we must account for stocks which may offset any gains and losses from other stocks. Thus, we will create a portfolio strictly consisting of heavy put-to-call ratio stocks and another portfolio strictly consisting of heavy call-to-put ratio stocks for further comparison. If only one portfolio can be formed, then the comparison step will be skipped."
   ]
  },
  {
   "cell_type": "code",
   "execution_count": null,
   "metadata": {},
   "outputs": [
    {
     "name": "stdout",
     "output_type": "stream",
     "text": [
      "Displaying the puts-to-calls ratios for the stocks:\n"
     ]
    },
    {
     "data": {
      "text/html": [
       "<div>\n",
       "<style scoped>\n",
       "    .dataframe tbody tr th:only-of-type {\n",
       "        vertical-align: middle;\n",
       "    }\n",
       "\n",
       "    .dataframe tbody tr th {\n",
       "        vertical-align: top;\n",
       "    }\n",
       "\n",
       "    .dataframe thead th {\n",
       "        text-align: right;\n",
       "    }\n",
       "</style>\n",
       "<table border=\"1\" class=\"dataframe\">\n",
       "  <thead>\n",
       "    <tr style=\"text-align: right;\">\n",
       "      <th></th>\n",
       "      <th>puts_sum</th>\n",
       "      <th>calls_sum</th>\n",
       "      <th>pcr</th>\n",
       "      <th>cpr</th>\n",
       "    </tr>\n",
       "  </thead>\n",
       "  <tbody>\n",
       "    <tr>\n",
       "      <th>SLB</th>\n",
       "      <td>2559.0</td>\n",
       "      <td>317.0</td>\n",
       "      <td>8.072555</td>\n",
       "      <td>0.123877</td>\n",
       "    </tr>\n",
       "    <tr>\n",
       "      <th>TXN</th>\n",
       "      <td>1601.0</td>\n",
       "      <td>222.0</td>\n",
       "      <td>7.211712</td>\n",
       "      <td>0.138663</td>\n",
       "    </tr>\n",
       "    <tr>\n",
       "      <th>AAPL</th>\n",
       "      <td>57121.0</td>\n",
       "      <td>11785.0</td>\n",
       "      <td>4.846924</td>\n",
       "      <td>0.206316</td>\n",
       "    </tr>\n",
       "    <tr>\n",
       "      <th>PYPL</th>\n",
       "      <td>2935.0</td>\n",
       "      <td>655.0</td>\n",
       "      <td>4.480916</td>\n",
       "      <td>0.223169</td>\n",
       "    </tr>\n",
       "    <tr>\n",
       "      <th>AXP</th>\n",
       "      <td>778.0</td>\n",
       "      <td>180.0</td>\n",
       "      <td>4.322222</td>\n",
       "      <td>0.231362</td>\n",
       "    </tr>\n",
       "  </tbody>\n",
       "</table>\n",
       "</div>"
      ],
      "text/plain": [
       "      puts_sum  calls_sum       pcr       cpr\n",
       "SLB     2559.0      317.0  8.072555  0.123877\n",
       "TXN     1601.0      222.0  7.211712  0.138663\n",
       "AAPL   57121.0    11785.0  4.846924  0.206316\n",
       "PYPL    2935.0      655.0  4.480916  0.223169\n",
       "AXP      778.0      180.0  4.322222  0.231362"
      ]
     },
     "metadata": {},
     "output_type": "display_data"
    }
   ],
   "source": [
    "if options_large_enough:\n",
    "    # Filtering for stocks with a puts-to-calls ratio greater than 1 and sorting\n",
    "    pcr_filter = pd.DataFrame()\n",
    "    pcr_filter = options_evaluation[options_evaluation[\"pcr\"] > 1].dropna()\n",
    "    pcr_filter = pcr_filter.sort_values(by=['pcr'], ascending=False)\n",
    "    print(\"Displaying the puts-to-calls ratios for the stocks:\")\n",
    "    display(pcr_filter.head())\n",
    "else:\n",
    "    print(\"The options market had insufficient data, skipping...\")"
   ]
  },
  {
   "cell_type": "markdown",
   "metadata": {},
   "source": [
    "Forming the portfolio for the heavy put-to-call ratio stocks,"
   ]
  },
  {
   "cell_type": "code",
   "execution_count": null,
   "metadata": {},
   "outputs": [
    {
     "name": "stdout",
     "output_type": "stream",
     "text": [
      "There are at least 12 stocks with a heavy puts-to-calls ratio.\n",
      "['SLB', 'TXN', 'AAPL', 'PYPL', 'AXP', 'USB', 'UNP', 'NKE', 'CAT', 'MO', 'SPG', 'BMY']\n"
     ]
    }
   ],
   "source": [
    "# Checking if there are enough heavy puts-to-calls ratio stocks\n",
    "if options_large_enough and len(pcr_filter) >= 12:\n",
    "    print(\"There are at least 12 stocks with a heavy puts-to-calls ratio.\")\n",
    "    pcr_large_enough = True\n",
    "    pcr_heavy_tickers = []\n",
    "    pcr_heavy_tickers = list(pcr_filter.index.values)\n",
    "    # Removing everything after the first 12 tickers\n",
    "    pcr_heavy_tickers = pcr_heavy_tickers[0:12]\n",
    "    print(pcr_heavy_tickers)\n",
    "else: \n",
    "    print(\"There are not enough stocks with a puts-to-calls ratio greater than 1.\")\n"
   ]
  },
  {
   "cell_type": "code",
   "execution_count": null,
   "metadata": {},
   "outputs": [
    {
     "name": "stdout",
     "output_type": "stream",
     "text": [
      "Displaying the calls-to-puts ratios for the stocks:\n"
     ]
    },
    {
     "data": {
      "text/html": [
       "<div>\n",
       "<style scoped>\n",
       "    .dataframe tbody tr th:only-of-type {\n",
       "        vertical-align: middle;\n",
       "    }\n",
       "\n",
       "    .dataframe tbody tr th {\n",
       "        vertical-align: top;\n",
       "    }\n",
       "\n",
       "    .dataframe thead th {\n",
       "        text-align: right;\n",
       "    }\n",
       "</style>\n",
       "<table border=\"1\" class=\"dataframe\">\n",
       "  <thead>\n",
       "    <tr style=\"text-align: right;\">\n",
       "      <th></th>\n",
       "      <th>puts_sum</th>\n",
       "      <th>calls_sum</th>\n",
       "      <th>pcr</th>\n",
       "      <th>cpr</th>\n",
       "    </tr>\n",
       "  </thead>\n",
       "  <tbody>\n",
       "    <tr>\n",
       "      <th>AIG</th>\n",
       "      <td>193.0</td>\n",
       "      <td>4247.0</td>\n",
       "      <td>0.045444</td>\n",
       "      <td>22.005181</td>\n",
       "    </tr>\n",
       "    <tr>\n",
       "      <th>NEE</th>\n",
       "      <td>443.0</td>\n",
       "      <td>6556.0</td>\n",
       "      <td>0.067572</td>\n",
       "      <td>14.799097</td>\n",
       "    </tr>\n",
       "    <tr>\n",
       "      <th>MS</th>\n",
       "      <td>3945.0</td>\n",
       "      <td>24982.0</td>\n",
       "      <td>0.157914</td>\n",
       "      <td>6.332573</td>\n",
       "    </tr>\n",
       "    <tr>\n",
       "      <th>PM</th>\n",
       "      <td>60.0</td>\n",
       "      <td>275.0</td>\n",
       "      <td>0.218182</td>\n",
       "      <td>4.583333</td>\n",
       "    </tr>\n",
       "    <tr>\n",
       "      <th>SBUX</th>\n",
       "      <td>182.0</td>\n",
       "      <td>778.0</td>\n",
       "      <td>0.233933</td>\n",
       "      <td>4.274725</td>\n",
       "    </tr>\n",
       "  </tbody>\n",
       "</table>\n",
       "</div>"
      ],
      "text/plain": [
       "      puts_sum  calls_sum       pcr        cpr\n",
       "AIG      193.0     4247.0  0.045444  22.005181\n",
       "NEE      443.0     6556.0  0.067572  14.799097\n",
       "MS      3945.0    24982.0  0.157914   6.332573\n",
       "PM        60.0      275.0  0.218182   4.583333\n",
       "SBUX     182.0      778.0  0.233933   4.274725"
      ]
     },
     "metadata": {},
     "output_type": "display_data"
    }
   ],
   "source": [
    "if options_large_enough:\n",
    "    # Filtering for stocks with a calls-to-puts ratio greater than 1\n",
    "    cpr_filter = pd.DataFrame()\n",
    "    cpr_filter = options_evaluation[options_evaluation[\"cpr\"] > 1].dropna()\n",
    "    cpr_filter = cpr_filter.sort_values(by=['cpr'], ascending=False)\n",
    "    print(\"Displaying the calls-to-puts ratios for the stocks:\")\n",
    "    display(cpr_filter.head())\n",
    "else:\n",
    "    print(\"The options market had insufficient data, skipping...\")"
   ]
  },
  {
   "cell_type": "code",
   "execution_count": null,
   "metadata": {},
   "outputs": [
    {
     "name": "stdout",
     "output_type": "stream",
     "text": [
      "There are at least 12 stocks with a heavy calls-to-puts ratio.\n",
      "['AIG', 'NEE', 'MS', 'PM', 'SBUX', 'PFE', 'SO', 'COF', 'OXY', 'C', 'BAC', 'UPS']\n"
     ]
    }
   ],
   "source": [
    "# Checking if there are enough heavy calls-to-puts ratio stocks\n",
    "if options_large_enough and len(cpr_filter) >= 12:\n",
    "    print(\"There are at least 12 stocks with a heavy calls-to-puts ratio.\")\n",
    "    cpr_large_enough = True\n",
    "    cpr_heavy_tickers = []\n",
    "    cpr_heavy_tickers = list(cpr_filter.index.values)\n",
    "    # Removing everything after the first 12 tickers\n",
    "    cpr_heavy_tickers = cpr_heavy_tickers[0:12]\n",
    "    print(cpr_heavy_tickers)\n",
    "else: \n",
    "    print(\"There are not enough stocks with a calls-to-puts ratio greater than 1.\")\n"
   ]
  },
  {
   "cell_type": "markdown",
   "metadata": {},
   "source": [
    "#### Below is the function that calculates the number of shares we will invest in each stock given a list of tickers ####\n",
    "So far, we have obtained the tickers from the methods we used above and gotten a couple of contestents for our final portfolio. Now, we will be throwing them into the function below to yield the amount of stocks we will invest into each ticker for each portfolio."
   ]
  },
  {
   "cell_type": "code",
   "execution_count": null,
   "metadata": {},
   "outputs": [],
   "source": [
    "# This function calculates the number of stocks to invest in given a list of 12 stocks\n",
    "def num_stocks (tickers_list):\n",
    "    \n",
    "    # Calculating the $ amount to invest into each stock \n",
    "    investment_list = []\n",
    "    for i in range(len(list_of_weighting)):\n",
    "        investment_list.append((list_of_weighting[i] * investment))\n",
    "        \n",
    "    # Getting the number of stocks invested in each ticker\n",
    "    stocks_in_each = []\n",
    "    for i in range(len(tickers_list)):\n",
    "        stocks_in_each.append (investment_list[i] / tickers_hist.get(tickers_list[i])['Close'][0])\n",
    "    \n",
    "    frame = {\"Ticker\": tickers_list,\n",
    "             \"Stocks\": stocks_in_each,\n",
    "             \"Investment\": investment_list,\n",
    "             \"Weighting\": list_of_weighting}\n",
    "    \n",
    "    stocks_dataframe = pd.DataFrame(frame)\n",
    "\n",
    "    return (stocks_dataframe)"
   ]
  },
  {
   "cell_type": "code",
   "execution_count": null,
   "metadata": {},
   "outputs": [
    {
     "data": {
      "text/html": [
       "<div>\n",
       "<style scoped>\n",
       "    .dataframe tbody tr th:only-of-type {\n",
       "        vertical-align: middle;\n",
       "    }\n",
       "\n",
       "    .dataframe tbody tr th {\n",
       "        vertical-align: top;\n",
       "    }\n",
       "\n",
       "    .dataframe thead th {\n",
       "        text-align: right;\n",
       "    }\n",
       "</style>\n",
       "<table border=\"1\" class=\"dataframe\">\n",
       "  <thead>\n",
       "    <tr style=\"text-align: right;\">\n",
       "      <th></th>\n",
       "      <th>Ticker</th>\n",
       "      <th>Stocks</th>\n",
       "      <th>Investment</th>\n",
       "      <th>Weighting</th>\n",
       "    </tr>\n",
       "  </thead>\n",
       "  <tbody>\n",
       "    <tr>\n",
       "      <th>0</th>\n",
       "      <td>PYPL</td>\n",
       "      <td>641.222932</td>\n",
       "      <td>125000.000000</td>\n",
       "      <td>0.250000</td>\n",
       "    </tr>\n",
       "    <tr>\n",
       "      <th>1</th>\n",
       "      <td>AMZN</td>\n",
       "      <td>733.548724</td>\n",
       "      <td>125000.000000</td>\n",
       "      <td>0.250000</td>\n",
       "    </tr>\n",
       "    <tr>\n",
       "      <th>2</th>\n",
       "      <td>QCOM</td>\n",
       "      <td>335.642542</td>\n",
       "      <td>62500.000000</td>\n",
       "      <td>0.125000</td>\n",
       "    </tr>\n",
       "    <tr>\n",
       "      <th>3</th>\n",
       "      <td>GM</td>\n",
       "      <td>340.580905</td>\n",
       "      <td>20833.333333</td>\n",
       "      <td>0.041667</td>\n",
       "    </tr>\n",
       "    <tr>\n",
       "      <th>4</th>\n",
       "      <td>GOOG</td>\n",
       "      <td>143.604385</td>\n",
       "      <td>20833.333333</td>\n",
       "      <td>0.041667</td>\n",
       "    </tr>\n",
       "    <tr>\n",
       "      <th>5</th>\n",
       "      <td>NKE</td>\n",
       "      <td>126.515659</td>\n",
       "      <td>20833.333333</td>\n",
       "      <td>0.041667</td>\n",
       "    </tr>\n",
       "    <tr>\n",
       "      <th>6</th>\n",
       "      <td>BA</td>\n",
       "      <td>100.227717</td>\n",
       "      <td>20833.333333</td>\n",
       "      <td>0.041667</td>\n",
       "    </tr>\n",
       "    <tr>\n",
       "      <th>7</th>\n",
       "      <td>BLK</td>\n",
       "      <td>22.850333</td>\n",
       "      <td>20833.333333</td>\n",
       "      <td>0.041667</td>\n",
       "    </tr>\n",
       "    <tr>\n",
       "      <th>8</th>\n",
       "      <td>AAPL</td>\n",
       "      <td>114.462579</td>\n",
       "      <td>20833.333333</td>\n",
       "      <td>0.041667</td>\n",
       "    </tr>\n",
       "    <tr>\n",
       "      <th>9</th>\n",
       "      <td>MSFT</td>\n",
       "      <td>62.235499</td>\n",
       "      <td>20833.333333</td>\n",
       "      <td>0.041667</td>\n",
       "    </tr>\n",
       "    <tr>\n",
       "      <th>10</th>\n",
       "      <td>COF</td>\n",
       "      <td>140.980158</td>\n",
       "      <td>20833.333333</td>\n",
       "      <td>0.041667</td>\n",
       "    </tr>\n",
       "    <tr>\n",
       "      <th>11</th>\n",
       "      <td>ACN</td>\n",
       "      <td>51.293796</td>\n",
       "      <td>20833.333333</td>\n",
       "      <td>0.041667</td>\n",
       "    </tr>\n",
       "  </tbody>\n",
       "</table>\n",
       "</div>"
      ],
      "text/plain": [
       "   Ticker      Stocks     Investment  Weighting\n",
       "0    PYPL  641.222932  125000.000000   0.250000\n",
       "1    AMZN  733.548724  125000.000000   0.250000\n",
       "2    QCOM  335.642542   62500.000000   0.125000\n",
       "3      GM  340.580905   20833.333333   0.041667\n",
       "4    GOOG  143.604385   20833.333333   0.041667\n",
       "5     NKE  126.515659   20833.333333   0.041667\n",
       "6      BA  100.227717   20833.333333   0.041667\n",
       "7     BLK   22.850333   20833.333333   0.041667\n",
       "8    AAPL  114.462579   20833.333333   0.041667\n",
       "9    MSFT   62.235499   20833.333333   0.041667\n",
       "10    COF  140.980158   20833.333333   0.041667\n",
       "11    ACN   51.293796   20833.333333   0.041667"
      ]
     },
     "execution_count": 226,
     "metadata": {},
     "output_type": "execute_result"
    }
   ],
   "source": [
    "beta_portfolio = num_stocks(beta_tickers)\n",
    "beta_portfolio "
   ]
  },
  {
   "cell_type": "code",
   "execution_count": null,
   "metadata": {},
   "outputs": [],
   "source": [
    "# Helper function before generating the entire portfolio\n",
    "# generate_portfolio takes in a ticker and tracks how the ticker does over a time period\n",
    "def generate_portfolio(ticker, num_stocks):\n",
    "    \n",
    "    # Finding the number of trading days for the stock\n",
    "    ticker_hist = yf.Ticker(ticker).history(start=start_date, end=end_date, interval='1d').dropna() \n",
    "    days_trading = len(ticker_hist.index)\n",
    "        \n",
    "    \n",
    "    # Calculating how the stock performs over this time period\n",
    "    values = []\n",
    "    for i in range(days_trading):\n",
    "        value = tickers_hist.get(ticker)['Close'][i] * num_stocks\n",
    "        values.append(value)\n",
    "        \n",
    "        \n",
    "    return values\n",
    "    \n",
    "# generate_combined_portfolio takes in a dataframe (index, \"Ticker\", \"Stock\", \"Investment\") and generates the portfolio over the time period\n",
    "def generate_combined_portfolio(dataframe):\n",
    "    final_df = pd.DataFrame()\n",
    "    values_list = []\n",
    "    ticker_list = []\n",
    "\n",
    "    for i in range(len(dataframe.index)):\n",
    "        ticker = dataframe['Ticker'][i]\n",
    "        ticker_list.append(ticker)\n",
    "        values_list.append(generate_portfolio(ticker, dataframe['Stocks'][i]))\n",
    "\n",
    "    for i in range(len(dataframe.index)):\n",
    "        frame = {ticker_list[i]: values_list[i]}\n",
    "        final_df[ticker_list[i]] = pd.DataFrame(frame)\n",
    "\n",
    "    final_df = final_df.set_index(tickers_hist.get(dataframe['Ticker'][0]).index)\n",
    "    final_df['Total Value'] = final_df.sum(axis=1)\n",
    "    \n",
    "    return final_df"
   ]
  },
  {
   "cell_type": "markdown",
   "metadata": {},
   "source": [
    "### Calculating betas for the portfolios with heavy calls-to-puts ratios and heavy puts-to-calls ratios"
   ]
  },
  {
   "cell_type": "code",
   "execution_count": null,
   "metadata": {},
   "outputs": [
    {
     "data": {
      "text/html": [
       "<div>\n",
       "<style scoped>\n",
       "    .dataframe tbody tr th:only-of-type {\n",
       "        vertical-align: middle;\n",
       "    }\n",
       "\n",
       "    .dataframe tbody tr th {\n",
       "        vertical-align: top;\n",
       "    }\n",
       "\n",
       "    .dataframe thead th {\n",
       "        text-align: right;\n",
       "    }\n",
       "</style>\n",
       "<table border=\"1\" class=\"dataframe\">\n",
       "  <thead>\n",
       "    <tr style=\"text-align: right;\">\n",
       "      <th></th>\n",
       "      <th>Ticker</th>\n",
       "      <th>Beta</th>\n",
       "    </tr>\n",
       "  </thead>\n",
       "  <tbody>\n",
       "    <tr>\n",
       "      <th>0</th>\n",
       "      <td>COF</td>\n",
       "      <td>1.247706</td>\n",
       "    </tr>\n",
       "    <tr>\n",
       "      <th>1</th>\n",
       "      <td>SBUX</td>\n",
       "      <td>1.107557</td>\n",
       "    </tr>\n",
       "    <tr>\n",
       "      <th>2</th>\n",
       "      <td>MS</td>\n",
       "      <td>1.052367</td>\n",
       "    </tr>\n",
       "    <tr>\n",
       "      <th>3</th>\n",
       "      <td>AIG</td>\n",
       "      <td>1.008040</td>\n",
       "    </tr>\n",
       "    <tr>\n",
       "      <th>4</th>\n",
       "      <td>BAC</td>\n",
       "      <td>0.991630</td>\n",
       "    </tr>\n",
       "    <tr>\n",
       "      <th>5</th>\n",
       "      <td>C</td>\n",
       "      <td>0.949343</td>\n",
       "    </tr>\n",
       "    <tr>\n",
       "      <th>6</th>\n",
       "      <td>UPS</td>\n",
       "      <td>0.850226</td>\n",
       "    </tr>\n",
       "    <tr>\n",
       "      <th>7</th>\n",
       "      <td>NEE</td>\n",
       "      <td>0.744378</td>\n",
       "    </tr>\n",
       "    <tr>\n",
       "      <th>8</th>\n",
       "      <td>OXY</td>\n",
       "      <td>0.703407</td>\n",
       "    </tr>\n",
       "    <tr>\n",
       "      <th>9</th>\n",
       "      <td>PFE</td>\n",
       "      <td>0.528784</td>\n",
       "    </tr>\n",
       "    <tr>\n",
       "      <th>10</th>\n",
       "      <td>SO</td>\n",
       "      <td>0.414797</td>\n",
       "    </tr>\n",
       "    <tr>\n",
       "      <th>11</th>\n",
       "      <td>PM</td>\n",
       "      <td>0.407042</td>\n",
       "    </tr>\n",
       "  </tbody>\n",
       "</table>\n",
       "</div>"
      ],
      "text/plain": [
       "   Ticker      Beta\n",
       "0     COF  1.247706\n",
       "1    SBUX  1.107557\n",
       "2      MS  1.052367\n",
       "3     AIG  1.008040\n",
       "4     BAC  0.991630\n",
       "5       C  0.949343\n",
       "6     UPS  0.850226\n",
       "7     NEE  0.744378\n",
       "8     OXY  0.703407\n",
       "9     PFE  0.528784\n",
       "10     SO  0.414797\n",
       "11     PM  0.407042"
      ]
     },
     "metadata": {},
     "output_type": "display_data"
    }
   ],
   "source": [
    "if cpr_large_enough:\n",
    "    # Getting the call-to-put ratio portfolios' betas\n",
    "    cpr_df = pd.DataFrame(cpr_heavy_tickers, columns = ['Ticker'])\n",
    "    cpr_df['Beta'] = cpr_df['Ticker'].replace(beta_dict)\n",
    "\n",
    "    cpr_df.sort_values(by = ['Beta'], ascending=False, ignore_index = True, inplace = True)\n",
    "    display(cpr_df)\n",
    "else:\n",
    "    print(\"The call-to-put ratio was not available for enough stocks.\")"
   ]
  },
  {
   "cell_type": "code",
   "execution_count": null,
   "metadata": {},
   "outputs": [
    {
     "name": "stdout",
     "output_type": "stream",
     "text": [
      "The put-to-call ratio was not available for enough stocks.\n"
     ]
    }
   ],
   "source": [
    "if pcr_large_enough:\n",
    "    # Getting the put-to-call ratio portfolios' betas\n",
    "    pcr_df = pd.DataFrame(pcr_heavy_tickers, columns = ['Ticker'])\n",
    "    pcr_df['Beta'] = pcr_df['Ticker'].replace(beta_dict)\n",
    "\n",
    "    pcr_df.sort_values(by = ['Beta'], ascending=False, ignore_index = True, inplace = True)\n",
    "\n",
    "    display(pcr_df)\n",
    "else:\n",
    "    print(\"The put-to-call ratio was not available for enough stocks.\")"
   ]
  },
  {
   "cell_type": "code",
   "execution_count": null,
   "metadata": {},
   "outputs": [
    {
     "name": "stdout",
     "output_type": "stream",
     "text": [
      "None of the options markets were big enough.\n"
     ]
    }
   ],
   "source": [
    "if (cpr_large_enough and pcr_large_enough):\n",
    "    # Generating portfolios for PCR and CPR stocks\n",
    "    pcr_list = pcr_df['Ticker'].tolist()\n",
    "    pcr_portfolio = generate_combined_portfolio(num_stocks(pcr_list))\n",
    "    cpr_list = cpr_df['Ticker'].tolist()\n",
    "    cpr_portfolio = generate_combined_portfolio(num_stocks(cpr_list))\n",
    "\n",
    "    # Graphing the portfolios\n",
    "    plt.figure(figsize=(20, 5))\n",
    "    plt.plot(pcr_portfolio.index, pcr_portfolio['Total Value'], label='PCR Portfolio')\n",
    "    plt.plot(cpr_portfolio.index, cpr_portfolio['Total Value'], label='CPR Portfolio')\n",
    "\n",
    "    plt.title('PCR vs CPR Portfolio')\n",
    "    plt.xlabel('Dates')\n",
    "    plt.ylabel('Value')\n",
    "\n",
    "    plt.legend()\n",
    "    plt.show()\n",
    "\n",
    "elif(cpr_large_enough):\n",
    "    # Generating protfolio for CPR stocks\n",
    "    cpr_list = cpr_df['Ticker'].tolist()\n",
    "    cpr_portfolio = generate_combined_portfolio(num_stocks(cpr_list))\n",
    "\n",
    "    # Graphing the portfolio\n",
    "    plt.figure(figsize=(20, 5))\n",
    "    plt.plot(cpr_portfolio.index, cpr_portfolio['Total Value'], label='CPR Portfolio')\n",
    "\n",
    "    plt.title('CPR Portfolio')\n",
    "    plt.xlabel('Dates')\n",
    "    plt.ylabel('Value')\n",
    "\n",
    "    plt.legend()\n",
    "    plt.show()\n",
    "\n",
    "elif(pcr_large_enough):\n",
    "    # Gererating portfolios for PCR stocks\n",
    "    pcr_list = pcr_df['Ticker'].tolist()\n",
    "    pcr_portfolio = generate_combined_portfolio(num_stocks(pcr_list))\n",
    "\n",
    "    # Graphing the portfolios\n",
    "    plt.figure(figsize=(20, 5))\n",
    "    plt.plot(pcr_portfolio.index, pcr_portfolio['Total Value'], label='PCR Portfolio')\n",
    "\n",
    "    plt.title('PCR Portfolio')\n",
    "    plt.xlabel('Dates')\n",
    "    plt.ylabel('Value')\n",
    "\n",
    "    plt.legend()\n",
    "    plt.show()\n",
    "else:\n",
    "    print (\"None of the options markets were large enough.\")\n"
   ]
  },
  {
   "cell_type": "markdown",
   "metadata": {},
   "source": [
    "### Comparing PCR and CPR Betas ###\n",
    "The above should graph the PCR and CPR portfolios. In the case that only one of them is available, it will only print the available one. If none are available, then this will be skipped."
   ]
  },
  {
   "cell_type": "code",
   "execution_count": null,
   "metadata": {},
   "outputs": [
    {
     "name": "stdout",
     "output_type": "stream",
     "text": [
      "None of the options markets were large enough\n"
     ]
    }
   ],
   "source": [
    "if (cpr_large_enough and pcr_large_enough):\n",
    "    cpr_beta_mean = cpr_df['Beta'].mean()\n",
    "    pcr_beta_mean = pcr_df['Beta'].mean()\n",
    "elif (cpr_large_enough):\n",
    "    cpr_beta_mean = cpr_df['Beta'].mean()\n",
    "elif (pcr_large_enough):\n",
    "    pcr_beta_mean = pcr_df['Beta'].mean()\n",
    "else:\n",
    "    print(\"None of the options markets were large enough\")\n"
   ]
  },
  {
   "cell_type": "code",
   "execution_count": null,
   "metadata": {},
   "outputs": [],
   "source": []
  },
  {
   "cell_type": "markdown",
   "metadata": {},
   "source": [
    "## Contribution Declaration\n",
    "\n",
    "The following team members made a meaningful contribution to this assignment:\n",
    "\n",
    "Insert Names Here."
   ]
  }
 ],
 "metadata": {
  "kernelspec": {
   "display_name": "Python 3.10.4 ('venv')",
   "language": "python",
   "name": "python3"
  },
  "language_info": {
   "codemirror_mode": {
    "name": "ipython",
    "version": 3
   },
   "file_extension": ".py",
   "mimetype": "text/x-python",
   "name": "python",
   "nbconvert_exporter": "python",
   "pygments_lexer": "ipython3",
   "version": "3.10.4"
  },
  "vscode": {
   "interpreter": {
    "hash": "3de2823d9f6f9939fde57575371059410065cca316d9e9b8f20ab82c51e05b59"
   }
  }
 },
 "nbformat": 4,
 "nbformat_minor": 2
}
