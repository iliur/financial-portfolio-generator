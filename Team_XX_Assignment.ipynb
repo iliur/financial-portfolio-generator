{
 "cells": [
  {
   "cell_type": "code",
   "execution_count": 43,
   "metadata": {},
   "outputs": [],
   "source": [
    "from IPython.display import display, display_html, Math, Latex\n",
    "\n",
    "import pandas as pd\n",
    "import numpy as np\n",
    "import numpy_financial as npf\n",
    "import yfinance as yf\n",
    "import matplotlib.pyplot as plt\n",
    "from datetime import datetime\n",
    "from threading import Thread"
   ]
  },
  {
   "cell_type": "markdown",
   "metadata": {},
   "source": [
    "## Group Assignment\n",
    "### Team Number: XX\n",
    "### Team Member Names: Rehan, Rui, Anton\n",
    "### Team Strategy Chosen: RISKY"
   ]
  },
  {
   "cell_type": "markdown",
   "metadata": {},
   "source": [
    "*Delete before submission*\n",
    "\n",
    "IMPORTANT SPECIFICATIONS DURING CODING:\n",
    "\n",
    "- Stocks must be in US Market\n",
    "\n",
    "- Stocks must have an average monthly volume of at least 200 000 shares between January 01, 2022 to October 31, 2022.\n",
    "\n",
    "- Months must have at least 20 trading days\n",
    "\n",
    "- Must have a minimum of 12 stocks and a maximum of 25 stocks\n",
    "\n",
    "- If we choose n stocks for our portfolio, each stock must be minimum of (100/(2n))% of the portfolio when weighted by value (i.e., the overall value of the shares purchased in that particular stock) as of closing prices on November 25, 2022\n",
    "\n",
    "- No individual stock may make up more than 25% of the portfolio when weighted by value (i.e., the overall value of the shares purchased in that particular stock) as of closing prices on November 26, 2022.\n",
    "\n",
    "- Must spend all 500 000 USD on portfolio\n",
    "\n",
    "- Teams will purchase their stocks at the closing prices on November 25, 2022\n",
    "\n",
    "There are more specifications for how our code should be presented before submission, look into the assignment doc for info."
   ]
  },
  {
   "cell_type": "markdown",
   "metadata": {},
   "source": [
    "### Extracting tickers and adding them to a list"
   ]
  },
  {
   "cell_type": "code",
   "execution_count": 44,
   "metadata": {},
   "outputs": [
    {
     "name": "stdout",
     "output_type": "stream",
     "text": [
      "Error: TWX Ticker does not reference a valid stock\n",
      "Error: PCLN Ticker does not reference a valid stock\n",
      "Error: CELG Ticker does not reference a valid stock\n",
      "Error: RTN Ticker does not reference a valid stock\n",
      "Error: AGN Ticker does not reference a valid stock\n",
      "RY.TO Ticker does not reference stock denominated in USD\n",
      "TD.TO Ticker does not reference stock denominated in USD\n"
     ]
    }
   ],
   "source": [
    "# Initializing a start and end date for our portfolio\n",
    "start_date = '2022-01-01'\n",
    "end_date = '2022-11-01'\n",
    "\n",
    "# Initializing a dataframe for 'raw' data extracted from the .csv file\n",
    "tickers_raw = pd.read_csv('Tickers_Example.csv', header=None)[0].tolist()\n",
    "\n",
    "# Empty data structures to store ticker data in\n",
    "tickers = []\n",
    "tickers_hist = {}\n",
    "\n",
    "# Function which consumes a ticker and determines the validation based on prerequisites\n",
    "def validate_ticker(ticker):\n",
    "\n",
    "    # Extracting ticker info from yFinance\n",
    "    ticker_info = yf.Ticker(ticker).info\n",
    "\n",
    "    # Trying every stock and excepting those that throw an error\n",
    "    try:\n",
    "        # If the stock is valid, we check for each prerequisite:\n",
    "        # Checking for USD currency and ensuring it's on the US market\n",
    "        if ticker_info['currency'] == 'USD' and ticker_info['market'] == 'us_market':\n",
    "            ticker_hist = yf.Ticker(ticker).history(start=start_date, end=end_date, interval='1d').dropna()\n",
    "\n",
    "            # Checking monthly volume\n",
    "            ticker_monthly_trading_days = ticker_hist['Volume'].groupby(pd.Grouper(freq='MS')).count()\n",
    "            ticker_monthly_volume = ticker_hist['Volume'].groupby(pd.Grouper(freq='MS')).sum()\n",
    "\n",
    "            # Checking if the month has at least 20 trading days\n",
    "            for month in ticker_monthly_trading_days.index:\n",
    "                if ticker_monthly_trading_days.loc[month] < 20:\n",
    "                    ticker_monthly_volume.drop(month, inplace=True)\n",
    "\n",
    "            # Checking if the average monthly volume is greater than or equal to 200,000 USD\n",
    "            if ticker_monthly_volume.mean() >= 200000:\n",
    "                tickers.append(ticker)\n",
    "                tickers_hist[ticker] = ticker_hist\n",
    "            else:\n",
    "                print(f'{ticker} Ticker does not meet average monthly volume requirements')\n",
    "        else:\n",
    "            print(f'{ticker} Ticker does not reference stock denominated in USD')\n",
    "    except:\n",
    "        print(f'Error: {ticker} Ticker does not reference a valid stock')\n",
    "\n",
    "# Empty data structure for threading\n",
    "threads = []\n",
    "\n",
    "# Checking validity of each ticker in list of tickers given from threading\n",
    "for ticker in tickers_raw:\n",
    "    thread = Thread(target=validate_ticker, args=[ticker])\n",
    "    thread.start()\n",
    "    threads.append(thread)\n",
    "\n",
    "# Using threading\n",
    "for thread in threads:\n",
    "    thread.join()"
   ]
  },
  {
   "cell_type": "markdown",
   "metadata": {},
   "source": [
    "### List of Valid Tickers"
   ]
  },
  {
   "cell_type": "code",
   "execution_count": 45,
   "metadata": {},
   "outputs": [
    {
     "name": "stdout",
     "output_type": "stream",
     "text": [
      "['PFE', 'ORCL', 'SLB', 'SO', 'TGT', 'NEE', 'QCOM', 'PM', 'MS', 'MRK', 'NKE', 'UNP', 'UNH', 'T', 'KO', 'SPG', 'CVS', 'MO', 'SBUX', 'MSFT', 'GOOG', 'JPM', 'UPS', 'AMZN', 'BAC', 'ABT', 'MON', 'BA', 'C', 'BK', 'BIIB', 'ACN', 'LMT', 'COP', 'CAT', 'COF', 'CL', 'ABBV', 'LLY', 'BMY', 'GM', 'TXN', 'BLK', 'PG', 'USB', 'AXP', 'AIG', 'COST', 'CMCSA', 'PYPL', 'KMI', 'OXY', 'AAPL', 'PEP', 'CSCO']\n"
     ]
    }
   ],
   "source": [
    "print(tickers)"
   ]
  },
  {
   "cell_type": "markdown",
   "metadata": {},
   "source": [
    "## Strategy and Data Analytics"
   ]
  },
  {
   "cell_type": "markdown",
   "metadata": {},
   "source": [
    "The strategy our team has chosen is to go risky, meaning we must optimize a portfolio so that it is driven away as much as possible, from the initial starting value of $500,000. Since we are pursuing a risky strategy, there are a few factors to an optimal portfolio.\n",
    "\n",
    "Since we want the most risk and most reward, we want to minimize any diversification involved. Essentially, out of the minimum and maximum requirements for stock diversification, we want to pick the least amount of stocks, which is a minimum of 12 and keep diversification at an all time low. Furthermore, our stocks can net heavy volume, however, volume is useless if the market direction for these assets is all over the place. Therefore, we need all of our stocks to move in the same direction. \n",
    "\n",
    "Overall, we will move forward with the minimum amount of stocks involved, 12, and keep track of various factors like risk to reward ratio, positive risk, negative risk, betas and options markets."
   ]
  },
  {
   "cell_type": "markdown",
   "metadata": {},
   "source": [
    "### Measuring Beta"
   ]
  },
  {
   "cell_type": "markdown",
   "metadata": {},
   "source": [
    "Beta calculates the volatility of a stock given the covariance of the stock relative to the broader stock market and the variance of the stock. We can use this to our advantage and find the higher volatility stocks so that we can create a riskier portfolio. The formula for Beta is as follows:\n",
    "\n",
    "$$\n",
    "\\beta_i = \\frac {\\mathrm{Cov} (r_i,r_m)}{\\mathrm{Var} (r_m)}\n",
    "$$\n",
    "\n",
    "\n",
    "Where $ \\beta_i $ is the market beta of a stock, $ {\\mathrm{Cov} (r_i,r_m)} $ is the covariance between the stock and the market index (in our case, the S&P 500), $ {\\mathrm{Var} (r_m)} $ is the variance of the market index. Since a volatile stock can net us a gain or a loss, we want the highest magnitude. Thus, we will calculate both an upper bound beta and a lower bound beta and yield the highest magnitude out of the two as a contender for our final portfolio"
   ]
  },
  {
   "cell_type": "code",
   "execution_count": 46,
   "metadata": {},
   "outputs": [],
   "source": [
    "# We will be using S&P 500 as our measure of how the overall stock market is performing\n",
    "sp_index = yf.Ticker(\"^GSPC\") # ticker for S&P 500\n",
    "\n",
    "# Extracting close prices of the S&P 500, percentage returns and its corresponding variance\n",
    "sp_hist = sp_index.history(start=start_date, end=end_date).filter(like=\"Close\")\n",
    "sp_hist[\"Returns\"] = sp_hist['Close'].pct_change()\n",
    "sp_var = sp_hist[\"Returns\"].var()"
   ]
  },
  {
   "cell_type": "code",
   "execution_count": 95,
   "metadata": {},
   "outputs": [],
   "source": [
    "frame = {}\n",
    "beta_values = []\n",
    "min_stocks = 12\n",
    "max_stocks = 25\n",
    "\n",
    "# calculate_betas consumes a list of tickers then creates a dataframe of the tickers and their respective betas\n",
    "def calculate_betas(tickers):\n",
    "    for i in range(len(tickers)):\n",
    "        # Getting the ticker and calculating its returns\n",
    "        ticker_hist = tickers_hist[tickers[i]]\n",
    "        ticker_close = ticker_hist[\"Close\"].pct_change()\n",
    "\n",
    "        # Initializing temporary dataframe with 2 columns containing the ticker's returns and S&P 500's returns\n",
    "        frame = {tickers[i]: ticker_close,\n",
    "                 \"S&P500\": sp_hist['Returns']}\n",
    "        temp_dataframe = pd.DataFrame(frame)\n",
    "\n",
    "        # Calculating Beta and appending onto a list of betas\n",
    "        beta = temp_dataframe.cov() / sp_var\n",
    "        beta_values.append(beta.iat[0,1])\n",
    "\n",
    "    return beta_values\n",
    "\n",
    "# Storing the tickers with their respective betas in a dataframe \n",
    "beta_frame = {\"Ticker\": tickers,\n",
    "              \"Beta\": calculate_betas(tickers)}\n",
    "beta_dataframe = pd.DataFrame(beta_frame)\n",
    "\n",
    "# Sorting the betas in both ascending and descending order\n",
    "beta_ascending = beta_dataframe.sort_values(\"Beta\", ascending = True)\n",
    "beta_descending = beta_dataframe.sort_values(\"Beta\", ascending = False)"
   ]
  },
  {
   "cell_type": "markdown",
   "metadata": {},
   "source": [
    "---"
   ]
  },
  {
   "cell_type": "markdown",
   "metadata": {},
   "source": [
    "### The stocks with the lowest betas:"
   ]
  },
  {
   "cell_type": "code",
   "execution_count": 88,
   "metadata": {},
   "outputs": [
    {
     "data": {
      "text/html": [
       "<div>\n",
       "<style scoped>\n",
       "    .dataframe tbody tr th:only-of-type {\n",
       "        vertical-align: middle;\n",
       "    }\n",
       "\n",
       "    .dataframe tbody tr th {\n",
       "        vertical-align: top;\n",
       "    }\n",
       "\n",
       "    .dataframe thead th {\n",
       "        text-align: right;\n",
       "    }\n",
       "</style>\n",
       "<table border=\"1\" class=\"dataframe\">\n",
       "  <thead>\n",
       "    <tr style=\"text-align: right;\">\n",
       "      <th></th>\n",
       "      <th>Ticker</th>\n",
       "      <th>Beta</th>\n",
       "    </tr>\n",
       "  </thead>\n",
       "  <tbody>\n",
       "    <tr>\n",
       "      <th>26</th>\n",
       "      <td>MON</td>\n",
       "      <td>0.010761</td>\n",
       "    </tr>\n",
       "    <tr>\n",
       "      <th>32</th>\n",
       "      <td>LMT</td>\n",
       "      <td>0.307426</td>\n",
       "    </tr>\n",
       "    <tr>\n",
       "      <th>9</th>\n",
       "      <td>MRK</td>\n",
       "      <td>0.312476</td>\n",
       "    </tr>\n",
       "    <tr>\n",
       "      <th>39</th>\n",
       "      <td>BMY</td>\n",
       "      <td>0.314697</td>\n",
       "    </tr>\n",
       "    <tr>\n",
       "      <th>37</th>\n",
       "      <td>ABBV</td>\n",
       "      <td>0.345826</td>\n",
       "    </tr>\n",
       "    <tr>\n",
       "      <th>17</th>\n",
       "      <td>MO</td>\n",
       "      <td>0.365149</td>\n",
       "    </tr>\n",
       "    <tr>\n",
       "      <th>36</th>\n",
       "      <td>CL</td>\n",
       "      <td>0.377901</td>\n",
       "    </tr>\n",
       "    <tr>\n",
       "      <th>7</th>\n",
       "      <td>PM</td>\n",
       "      <td>0.401662</td>\n",
       "    </tr>\n",
       "    <tr>\n",
       "      <th>3</th>\n",
       "      <td>SO</td>\n",
       "      <td>0.422764</td>\n",
       "    </tr>\n",
       "    <tr>\n",
       "      <th>43</th>\n",
       "      <td>PG</td>\n",
       "      <td>0.465361</td>\n",
       "    </tr>\n",
       "    <tr>\n",
       "      <th>14</th>\n",
       "      <td>KO</td>\n",
       "      <td>0.470087</td>\n",
       "    </tr>\n",
       "    <tr>\n",
       "      <th>13</th>\n",
       "      <td>T</td>\n",
       "      <td>0.502810</td>\n",
       "    </tr>\n",
       "  </tbody>\n",
       "</table>\n",
       "</div>"
      ],
      "text/plain": [
       "   Ticker      Beta\n",
       "26    MON  0.010761\n",
       "32    LMT  0.307426\n",
       "9     MRK  0.312476\n",
       "39    BMY  0.314697\n",
       "37   ABBV  0.345826\n",
       "17     MO  0.365149\n",
       "36     CL  0.377901\n",
       "7      PM  0.401662\n",
       "3      SO  0.422764\n",
       "43     PG  0.465361\n",
       "14     KO  0.470087\n",
       "13      T  0.502810"
      ]
     },
     "execution_count": 88,
     "metadata": {},
     "output_type": "execute_result"
    }
   ],
   "source": [
    "beta_ascending.iloc[:min_stocks]"
   ]
  },
  {
   "cell_type": "markdown",
   "metadata": {},
   "source": [
    "### The stocks with the highest betas:"
   ]
  },
  {
   "cell_type": "code",
   "execution_count": 94,
   "metadata": {},
   "outputs": [
    {
     "data": {
      "text/html": [
       "<div>\n",
       "<style scoped>\n",
       "    .dataframe tbody tr th:only-of-type {\n",
       "        vertical-align: middle;\n",
       "    }\n",
       "\n",
       "    .dataframe tbody tr th {\n",
       "        vertical-align: top;\n",
       "    }\n",
       "\n",
       "    .dataframe thead th {\n",
       "        text-align: right;\n",
       "    }\n",
       "</style>\n",
       "<table border=\"1\" class=\"dataframe\">\n",
       "  <thead>\n",
       "    <tr style=\"text-align: right;\">\n",
       "      <th></th>\n",
       "      <th>Ticker</th>\n",
       "      <th>Beta</th>\n",
       "    </tr>\n",
       "  </thead>\n",
       "  <tbody>\n",
       "    <tr>\n",
       "      <th>49</th>\n",
       "      <td>PYPL</td>\n",
       "      <td>1.651318</td>\n",
       "    </tr>\n",
       "    <tr>\n",
       "      <th>23</th>\n",
       "      <td>AMZN</td>\n",
       "      <td>1.604552</td>\n",
       "    </tr>\n",
       "    <tr>\n",
       "      <th>6</th>\n",
       "      <td>QCOM</td>\n",
       "      <td>1.454741</td>\n",
       "    </tr>\n",
       "    <tr>\n",
       "      <th>40</th>\n",
       "      <td>GM</td>\n",
       "      <td>1.393080</td>\n",
       "    </tr>\n",
       "    <tr>\n",
       "      <th>20</th>\n",
       "      <td>GOOG</td>\n",
       "      <td>1.310727</td>\n",
       "    </tr>\n",
       "    <tr>\n",
       "      <th>10</th>\n",
       "      <td>NKE</td>\n",
       "      <td>1.299055</td>\n",
       "    </tr>\n",
       "    <tr>\n",
       "      <th>27</th>\n",
       "      <td>BA</td>\n",
       "      <td>1.298421</td>\n",
       "    </tr>\n",
       "    <tr>\n",
       "      <th>42</th>\n",
       "      <td>BLK</td>\n",
       "      <td>1.266132</td>\n",
       "    </tr>\n",
       "    <tr>\n",
       "      <th>52</th>\n",
       "      <td>AAPL</td>\n",
       "      <td>1.265959</td>\n",
       "    </tr>\n",
       "    <tr>\n",
       "      <th>35</th>\n",
       "      <td>COF</td>\n",
       "      <td>1.250358</td>\n",
       "    </tr>\n",
       "    <tr>\n",
       "      <th>19</th>\n",
       "      <td>MSFT</td>\n",
       "      <td>1.245853</td>\n",
       "    </tr>\n",
       "    <tr>\n",
       "      <th>31</th>\n",
       "      <td>ACN</td>\n",
       "      <td>1.164615</td>\n",
       "    </tr>\n",
       "  </tbody>\n",
       "</table>\n",
       "</div>"
      ],
      "text/plain": [
       "   Ticker      Beta\n",
       "49   PYPL  1.651318\n",
       "23   AMZN  1.604552\n",
       "6    QCOM  1.454741\n",
       "40     GM  1.393080\n",
       "20   GOOG  1.310727\n",
       "10    NKE  1.299055\n",
       "27     BA  1.298421\n",
       "42    BLK  1.266132\n",
       "52   AAPL  1.265959\n",
       "35    COF  1.250358\n",
       "19   MSFT  1.245853\n",
       "31    ACN  1.164615"
      ]
     },
     "execution_count": 94,
     "metadata": {},
     "output_type": "execute_result"
    }
   ],
   "source": [
    "beta_descending.iloc[:min_stocks]"
   ]
  },
  {
   "cell_type": "markdown",
   "metadata": {},
   "source": [
    "## Sharpe Ratio vs Sortino Ratio"
   ]
  },
  {
   "cell_type": "markdown",
   "metadata": {},
   "source": [
    "Let's consider the Sortino Ratio. One might wonder what the difference is between both ratios.\n",
    "\n",
    "The Sharpe Ratio measures risk-adjusted return by comparing the return of an investment with its risk. The formula for the Sharpe Ratio is: <br>\n",
    "\n",
    "$\\begin{align}\\large S_a = \\frac{ R_p - R_f }{\\sigma_o} \\end{align}$\n",
    "\n",
    "where $\\normalsize R_p$ is expected return, $\\normalsize R_f$ is the risk-free return rate and $\\normalsize \\sigma_o$ is the standard deviation of the excess returns.\n",
    "\n",
    "On the other hand, the Sortino Ratio also measures risk-adjusted return. However, the formula for the Sortino Ratio is: <br>\n",
    "\n",
    "$\\begin{align}\\large S_a = \\frac{ R_p - R_f }{\\sigma_d} \\end{align}$\n",
    "\n",
    "where $\\normalsize R_p$ is expected return, $\\normalsize R_f$ is the risk-free return rate and $\\normalsize \\sigma_d$ is the standard deviation of the negative or downside returns.\n",
    "\n",
    "Although both equations are **almost** identical, the difference is that the Sharpe Ratio dislikes volatility as it accounts for any excess returns, whereas the Sortino Ratio accounts for any negative or downside returns. Consequently, graphed sharpe ratios would produce a graph that would more likely be linear, contrary to a more exponential graph of Sortino Ratios.\n",
    "\n",
    "The Sharpe ratio is more useful when evaluating low-volatility investment portfolios, whereas the Sortino ratio is more useful when evaluating high-volatility investment portfolios. As we are looking to maximize our risk on our portfolio, it would be a good idea to assess both the Sortino ratio and the Sharpe ratio."
   ]
  },
  {
   "cell_type": "markdown",
   "metadata": {},
   "source": [
    "### Sharpe Ratio"
   ]
  },
  {
   "cell_type": "code",
   "execution_count": null,
   "metadata": {},
   "outputs": [
    {
     "name": "stdout",
     "output_type": "stream",
     "text": [
      "Series([], dtype: float64)\n"
     ]
    }
   ],
   "source": [
    "# Creating empty dataframes to store data in\n",
    "sharpe = pd.DataFrame()\n",
    "data = pd.DataFrame()\n",
    "sharpe_ratios = []\n",
    "\n",
    "# sharpe['Total Value'] = data['Total Value']\n",
    "# sharpe['Total Value Percentage Change'] = data['Total Value'].pct_change()\n",
    "\n",
    "sharpe_ratio = data.pct_change().mean() / data.pct_change().std()\n",
    "print(sharpe_ratio)\n",
    "\n",
    "\n",
    "\n",
    "\n",
    "\n"
   ]
  },
  {
   "cell_type": "markdown",
   "metadata": {},
   "source": [
    "## Risk Coefficient"
   ]
  },
  {
   "cell_type": "markdown",
   "metadata": {},
   "source": [
    "To further maximize risk from our selection of tickers, we can rearrange our ratios to solve for risk coefficient.\n"
   ]
  },
  {
   "cell_type": "markdown",
   "metadata": {},
   "source": [
    "## Contribution Declaration\n",
    "\n",
    "The following team members made a meaningful contribution to this assignment:\n",
    "\n",
    "Insert Names Here."
   ]
  }
 ],
 "metadata": {
  "kernelspec": {
   "display_name": "Python 3.10.4 ('venv')",
   "language": "python",
   "name": "python3"
  },
  "language_info": {
   "codemirror_mode": {
    "name": "ipython",
    "version": 3
   },
   "file_extension": ".py",
   "mimetype": "text/x-python",
   "name": "python",
   "nbconvert_exporter": "python",
   "pygments_lexer": "ipython3",
   "version": "3.10.4"
  },
  "vscode": {
   "interpreter": {
    "hash": "3de2823d9f6f9939fde57575371059410065cca316d9e9b8f20ab82c51e05b59"
   }
  }
 },
 "nbformat": 4,
 "nbformat_minor": 2
}
