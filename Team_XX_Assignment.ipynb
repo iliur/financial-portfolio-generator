{
 "cells": [
  {
   "cell_type": "code",
   "execution_count": 293,
   "metadata": {},
   "outputs": [],
   "source": [
    "from IPython.display import display, display_html, Math, Latex\n",
    "\n",
    "import pandas as pd\n",
    "import numpy as np\n",
    "import numpy_financial as npf\n",
    "import yfinance as yf\n",
    "import matplotlib.pyplot as plt\n",
    "from datetime import datetime\n",
    "from threading import Thread\n",
    "import warnings\n",
    "warnings.simplefilter(action='ignore', category=FutureWarning)"
   ]
  },
  {
   "cell_type": "markdown",
   "metadata": {},
   "source": [
    "## Group Assignment\n",
    "### Team Number: 01\n",
    "### Team Member Names: Rehan, Rui, Anton\n",
    "### Team Strategy Chosen: RISKY"
   ]
  },
  {
   "cell_type": "markdown",
   "metadata": {},
   "source": [
    "*Delete before submission*\n",
    "\n",
    "IMPORTANT SPECIFICATIONS DURING CODING:\n",
    "\n",
    "- Stocks must be in US Market\n",
    "\n",
    "- Stocks must have an average monthly volume of at least 200 000 shares between January 01, 2022 to October 31, 2022.\n",
    "\n",
    "- Months must have at least 20 trading days\n",
    "\n",
    "- Must have a minimum of 12 stocks and a maximum of 25 stocks\n",
    "\n",
    "- If we choose n stocks for our portfolio, each stock must be minimum of (100/(2n))% of the portfolio when weighted by value (i.e., the overall value of the shares purchased in that particular stock) as of closing prices on November 25, 2022\n",
    "\n",
    "- No individual stock may make up more than 25% of the portfolio when weighted by value (i.e., the overall value of the shares purchased in that particular stock) as of closing prices on November 26, 2022.\n",
    "\n",
    "- Must spend all 500 000 USD on portfolio\n",
    "\n",
    "- Teams will purchase their stocks at the closing prices on November 25, 2022\n",
    "\n",
    "There are more specifications for how our code should be presented before submission, look into the assignment doc for info."
   ]
  },
  {
   "cell_type": "markdown",
   "metadata": {},
   "source": [
    "### Global Variables"
   ]
  },
  {
   "cell_type": "code",
   "execution_count": 294,
   "metadata": {},
   "outputs": [],
   "source": [
    "# Total Investment Size\n",
    "investment = 500000\n",
    "\n",
    "# File Name\n",
    "file = 'Tickers_Example.csv'\n",
    "\n",
    "# Start date and end date for our portfolio\n",
    "start_date = '2022-01-01'\n",
    "end_date = '2022-11-01'\n"
   ]
  },
  {
   "cell_type": "markdown",
   "metadata": {},
   "source": [
    "### Extracting/filtering tickers based on assignment specifications and adding them to a list using multithreading for time efficiency"
   ]
  },
  {
   "cell_type": "code",
   "execution_count": 295,
   "metadata": {},
   "outputs": [
    {
     "name": "stdout",
     "output_type": "stream",
     "text": [
      "TD.TO Ticker does not reference stock denominated in USD\n",
      "Error: TWX Ticker does not reference a valid stock\n",
      "RY.TO Ticker does not reference stock denominated in USD\n",
      "Error: RTN Ticker does not reference a valid stock\n",
      "Error: CELG Ticker does not reference a valid stock\n",
      "Error: AGN Ticker does not reference a valid stock\n",
      "Error: PCLN Ticker does not reference a valid stock\n"
     ]
    }
   ],
   "source": [
    "# Initializing a dataframe for 'raw' data extracted from the .csv file\n",
    "tickers_raw = pd.read_csv(file, header=None)[0].tolist()\n",
    "\n",
    "# Empty data structures to store ticker data in\n",
    "tickers = []\n",
    "tickers_hist = {}\n",
    "\n",
    "# Function which consumes a ticker and determines the validation based on prerequisites\n",
    "def validate_ticker(ticker):\n",
    "\n",
    "    # Extracting ticker info from yFinance\n",
    "    ticker_info = yf.Ticker(ticker).info\n",
    "\n",
    "    # Trying every stock and excepting those that throw an error\n",
    "    try:\n",
    "        # If the stock is valid, we check for each prerequisite:\n",
    "        # Checking for USD currency and ensuring it's on the US market\n",
    "        if ticker_info['currency'] == 'USD' and ticker_info['market'] == 'us_market':\n",
    "            ticker_hist = yf.Ticker(ticker).history(start=start_date, end=end_date, interval='1d').dropna()\n",
    "\n",
    "            # Checking monthly volume\n",
    "            ticker_monthly_trading_days = ticker_hist['Volume'].groupby(pd.Grouper(freq='MS')).count()\n",
    "            ticker_monthly_volume = ticker_hist['Volume'].groupby(pd.Grouper(freq='MS')).sum()\n",
    "\n",
    "            # Checking if the month has at least 20 trading days\n",
    "            for month in ticker_monthly_trading_days.index:\n",
    "                if ticker_monthly_trading_days.loc[month] < 20:\n",
    "                    ticker_monthly_volume.drop(month, inplace=True)\n",
    "\n",
    "            # Checking if the average monthly volume is greater than or equal to 200,000 USD\n",
    "            if ticker_monthly_volume.mean() >= 200000:\n",
    "                tickers.append(ticker)\n",
    "                tickers_hist[ticker] = ticker_hist\n",
    "            else:\n",
    "                print(f'{ticker} Ticker does not meet average monthly volume requirements')\n",
    "        else:\n",
    "            print(f'{ticker} Ticker does not reference stock denominated in USD')\n",
    "    except:\n",
    "        print(f'Error: {ticker} Ticker does not reference a valid stock')\n",
    "\n",
    "# Empty data structure for threading\n",
    "threads = []\n",
    "\n",
    "# Checking validity of each ticker in list of tickers given from threading\n",
    "for ticker in tickers_raw:\n",
    "    thread = Thread(target=validate_ticker, args=[ticker])\n",
    "    thread.start()\n",
    "    threads.append(thread)\n",
    "\n",
    "# Using threading\n",
    "for thread in threads:\n",
    "    thread.join()"
   ]
  },
  {
   "cell_type": "markdown",
   "metadata": {},
   "source": [
    "### List of Valid Tickers"
   ]
  },
  {
   "cell_type": "code",
   "execution_count": 296,
   "metadata": {},
   "outputs": [
    {
     "name": "stdout",
     "output_type": "stream",
     "text": [
      "['MON', 'BIIB', 'CSCO', 'AIG', 'SBUX', 'COF', 'COST', 'ORCL', 'LLY', 'GOOG', 'PYPL', 'MSFT', 'OXY', 'GM', 'C', 'KMI', 'T', 'MRK', 'SPG', 'KO', 'MO', 'SLB', 'NEE', 'MS', 'AXP', 'QCOM', 'ABBV', 'PM', 'ABT', 'PEP', 'BMY', 'PG', 'USB', 'COP', 'JPM', 'AMZN', 'TGT', 'BLK', 'AAPL', 'ACN', 'PFE', 'BAC', 'CL', 'UPS', 'UNP', 'NKE', 'BK', 'BA', 'SO', 'CVS', 'UNH', 'TXN', 'CMCSA', 'CAT', 'LMT']\n"
     ]
    }
   ],
   "source": [
    "print(tickers)"
   ]
  },
  {
   "cell_type": "markdown",
   "metadata": {},
   "source": [
    "---"
   ]
  },
  {
   "cell_type": "markdown",
   "metadata": {},
   "source": [
    "## Strategy and Data Analytics"
   ]
  },
  {
   "cell_type": "markdown",
   "metadata": {},
   "source": [
    "The strategy our team has chosen is to go risky, meaning we must optimize a portfolio so that it is driven away as much as possible, from the initial starting value of $500,000. Since we are pursuing a risky strategy, there are a few factors to an optimal portfolio.\n",
    "\n",
    "Since we want the most risk and most reward, we want to minimize any diversification involved. Essentially, out of the minimum and maximum requirements for stock diversification, we want to pick the least amount of stocks, which is a minimum of 12 and keep diversification at an all time low. Furthermore, our stocks can net heavy volume, however, volume is useless if the market direction for these assets is all over the place. Therefore, we need all of our stocks to move in the same direction. \n",
    "\n",
    "Overall, we will move forward with the minimum amount of stocks involved, 12, and keep track of various factors like each stocks' weightings, risk to reward ratio, positive risk, negative risk, betas and options markets."
   ]
  },
  {
   "cell_type": "markdown",
   "metadata": {},
   "source": [
    "### Measuring Beta"
   ]
  },
  {
   "cell_type": "markdown",
   "metadata": {},
   "source": [
    "Beta calculates the volatility of a stock given the covariance of the stock relative to the broader stock market and the variance of the stock. We can use this to our advantage and find the higher volatility stocks so that we can create a riskier portfolio. The formula for Beta is as follows:\n",
    "\n",
    "$$\n",
    "\\beta_i = \\frac {\\mathrm{Cov} (r_i,r_m)}{\\mathrm{Var} (r_m)}\n",
    "$$\n",
    "\n",
    "\n",
    "Where $ \\beta_i $ is the market beta of a stock, $ {\\mathrm{Cov} (r_i,r_m)} $ is the covariance between the stock and the market index (in our case, the S&P 500), $ {\\mathrm{Var} (r_m)} $ is the variance of the market index. Since a volatile stock can net us a gain or a loss, we want the highest magnitude. Thus, we will be using Beta as a measure to quantify the portfolios we will be creating later so that we can rank them and subsequently, choose the greatest magnitude."
   ]
  },
  {
   "cell_type": "code",
   "execution_count": 297,
   "metadata": {},
   "outputs": [],
   "source": [
    "min_stocks = 12\n",
    "max_stocks = 25\n",
    "\n",
    "# Using the S&P 500 as our market index (the ticker is \"^GSPC\")\n",
    "market_index = yf.Ticker('^GSPC').history(start=start_date, end=end_date, interval='1d').dropna()['Close']\n",
    "market_return = market_index.pct_change()\n",
    "market_variance = market_return.var()\n",
    "\n",
    "# Dictionary to store the beta of every ticker\n",
    "beta_dict = {}\n",
    "\n",
    "# Calculating beta\n",
    "for ticker in tickers:\n",
    "    stock_return = tickers_hist[ticker]['Close'].pct_change()\n",
    "    covariance = pd.DataFrame({ticker: stock_return, 'S&P 500': market_return}).cov().loc[ticker, 'S&P 500']\n",
    "    beta_dict[ticker] = covariance / market_variance\n",
    "\n",
    "# Storing all betas in a dataframe\n",
    "beta_df = pd.DataFrame(beta_dict.items(), columns=['Ticker', 'Beta'])\n",
    "beta_df.sort_values(by=['Beta'], ascending=False, ignore_index=True, inplace=True)\n",
    "\n",
    "# Initializing a dictionary to store each portfolios' average betas for comparison purposes later\n",
    "final_betas = {}"
   ]
  },
  {
   "cell_type": "markdown",
   "metadata": {},
   "source": [
    "---"
   ]
  },
  {
   "cell_type": "markdown",
   "metadata": {},
   "source": [
    "### Optimal Weighting for Stocks"
   ]
  },
  {
   "cell_type": "markdown",
   "metadata": {},
   "source": [
    "Since we want the highest volatility possible, we want to invest the majority of our funds into the most volatile stock before investing into the others. Given the requirements of a stock only being a maximum of 25% of the entire portfolio or a minimum of 100/2n where n is the number of stocks we have chosen (in our case, 12), we have calculated an optimal weighting below to create the most volatility."
   ]
  },
  {
   "cell_type": "code",
   "execution_count": 298,
   "metadata": {},
   "outputs": [],
   "source": [
    "min_weighting = 100 / (min_stocks * 2)\n",
    "max_weighting = 25\n",
    "total_weighting = 0 \n",
    "min_stocks\n",
    "\n",
    "# This list will have the weightings of our 12 prospective stocks\n",
    "list_of_weighting = []\n",
    "\n",
    "# This program puts the majority of the weighting at the beginning of the list (so that the more volatile stocks can take them up first)\n",
    "while (min_stocks != 0):\n",
    "    temp_weighting = min_weighting * (min_stocks - 1)\n",
    "    remaining_weight = 100 - (temp_weighting + total_weighting)\n",
    "    \n",
    "    if (remaining_weight > max_weighting):\n",
    "        list_of_weighting.append(max_weighting/100)\n",
    "        total_weighting += max_weighting\n",
    "    elif (remaining_weight > min_weighting):\n",
    "        list_of_weighting.append(remaining_weight/100)\n",
    "        total_weighting += remaining_weight\n",
    "    else:\n",
    "        list_of_weighting.append(min_weighting/100)\n",
    "        total_weighting += min_weighting\n",
    "    min_stocks -= 1"
   ]
  },
  {
   "cell_type": "markdown",
   "metadata": {},
   "source": [
    "Here is the list of weightings:"
   ]
  },
  {
   "cell_type": "code",
   "execution_count": 299,
   "metadata": {},
   "outputs": [
    {
     "name": "stdout",
     "output_type": "stream",
     "text": [
      "[0.25, 0.25, 0.125, 0.04166666666666667, 0.04166666666666667, 0.04166666666666667, 0.04166666666666667, 0.04166666666666667, 0.04166666666666667, 0.04166666666666667, 0.04166666666666667, 0.04166666666666667]\n"
     ]
    }
   ],
   "source": [
    "print (list_of_weighting)"
   ]
  },
  {
   "cell_type": "markdown",
   "metadata": {},
   "source": [
    "---"
   ]
  },
  {
   "cell_type": "markdown",
   "metadata": {},
   "source": [
    "#### Below is the function that calculates the number of shares we will invest in each stock ####"
   ]
  },
  {
   "cell_type": "code",
   "execution_count": 300,
   "metadata": {},
   "outputs": [],
   "source": [
    "# This function calculates the number of stocks to invest in given a list of 12 stocks\n",
    "def num_stocks (tickers_list):\n",
    "    \n",
    "    # Calculating the $ amount to invest into each stock \n",
    "    investment_list = []\n",
    "    for i in range(len(list_of_weighting)):\n",
    "        investment_list.append((list_of_weighting[i] * investment))\n",
    "        \n",
    "    # Getting the number of stocks invested in each ticker\n",
    "    stocks_in_each = []\n",
    "    price_of_each = []\n",
    "    for i in range(len(tickers_list)):\n",
    "        stocks_in_each.append (investment_list[i] / tickers_hist.get(tickers_list[i])['Close'][0])\n",
    "        price_of_each.append(tickers_hist.get(tickers_list[i])['Close'][0])\n",
    "\n",
    "    frame = {\"Ticker\": tickers_list,\n",
    "             \"Price\": price_of_each,\n",
    "             \"Shares\": stocks_in_each,\n",
    "             \"Value\": investment_list,\n",
    "             \"Weight\": list_of_weighting}\n",
    "    \n",
    "    stocks_dataframe = pd.DataFrame(frame)\n",
    "\n",
    "    return (stocks_dataframe)\n",
    "\n",
    "portfolio_candidates = {} #This variable stores each strategy's portfolios to export into a .csv file later on"
   ]
  },
  {
   "cell_type": "markdown",
   "metadata": {},
   "source": [
    "---"
   ]
  },
  {
   "cell_type": "markdown",
   "metadata": {},
   "source": [
    "#### Below is the function that will generate our portfolios ####\n",
    "We will also be defining a function that can generate our portfolio over a period of time so that we can visually see how each portfolio performs relative to each other."
   ]
  },
  {
   "cell_type": "code",
   "execution_count": 301,
   "metadata": {},
   "outputs": [],
   "source": [
    "# generate_portfolio takes in a ticker and tracks how the ticker does over a time period\n",
    "def generate_portfolio(ticker, num_stocks):\n",
    "    \n",
    "    # Finding the number of trading days for the stock\n",
    "    ticker_hist = yf.Ticker(ticker).history(start=start_date, end=end_date, interval='1d').dropna() \n",
    "    days_trading = len(ticker_hist.index)\n",
    "        \n",
    "    \n",
    "    # Calculating how the stock performs over this time period\n",
    "    values = []\n",
    "    for i in range(days_trading):\n",
    "        value = tickers_hist.get(ticker)['Close'][i] * num_stocks\n",
    "        values.append(value)\n",
    "         \n",
    "    return values\n",
    "    \n",
    "# generate_combined_portfolio takes in a dataframe (index, \"Ticker\", \"Stock\", \"Investment\") and generates the portfolio over the time period\n",
    "# This is the function that we will be calling\n",
    "def generate_combined_portfolio(dataframe):\n",
    "    final_df = pd.DataFrame()\n",
    "    values_list = []\n",
    "    ticker_list = []\n",
    "\n",
    "    for i in range(len(dataframe.index)):\n",
    "        ticker = dataframe['Ticker'][i]\n",
    "        ticker_list.append(ticker)\n",
    "        values_list.append(generate_portfolio(ticker, dataframe['Shares'][i]))\n",
    "\n",
    "    for i in range(len(dataframe.index)):\n",
    "        frame = {ticker_list[i]: values_list[i]}\n",
    "        final_df[ticker_list[i]] = pd.DataFrame(frame)\n",
    "\n",
    "    final_df = final_df.set_index(tickers_hist.get(dataframe['Ticker'][0]).index)\n",
    "    final_df['Total Value'] = final_df.sum(axis=1)\n",
    "    \n",
    "    return final_df"
   ]
  },
  {
   "cell_type": "markdown",
   "metadata": {},
   "source": [
    "Now that we have finished setting up our quantifiers and portfolio generators, we can move on to the strategies we will be implementing to yield a portfolio with the highest volatility."
   ]
  },
  {
   "cell_type": "markdown",
   "metadata": {},
   "source": [
    "---"
   ]
  },
  {
   "cell_type": "markdown",
   "metadata": {},
   "source": [
    "### Correlation ###\n",
    "Since we want the stocks to move in the same general direction, we will need to compare their movements relative to the market index. Thus, we will be using the __Correlation Coefficient__ to determine which stocks are the most correlated to S&P500. Since a stock could be directly correlated or inversely correlated (though very unlikely), we will be accounting for an upper bound of and a lower bound (so we will have a list of 12 stocks that are the most correlated and 12 stocks that are the most inversely correlated). Afterwards, we can obtain the mean beta of each list and yield the highest magnitude as a contender for our final portfolio."
   ]
  },
  {
   "cell_type": "markdown",
   "metadata": {},
   "source": [
    "The formula for correlation is given by: \n",
    "\\begin{align*}\n",
    "COR(X,Y)=\\frac{COV(X,Y)}{\\sigma_X \\times \\sigma_Y}\n",
    "\\end{align*}\n",
    "Where, for our purposes, $ COR(X,Y) $ is the correlation between a stock and the market index, $ {\\sigma_X } $ is the deviation of the stock and $ { \\sigma_Y } $ is the deviation of the market index.\n"
   ]
  },
  {
   "cell_type": "code",
   "execution_count": 302,
   "metadata": {},
   "outputs": [],
   "source": [
    "\n",
    "# Setting up correlation dictionary for all tickers\n",
    "corr_dict = {}\n",
    "\n",
    "# Calculating correlation\n",
    "for ticker in tickers:\n",
    "    stock_return = tickers_hist[ticker]['Close'].pct_change()\n",
    "    corr = pd.DataFrame({ticker: stock_return, 'S&P 500': market_return}).corr().loc[ticker, 'S&P 500']\n",
    "    corr_dict[ticker] = corr\n",
    "\n",
    "# Creating correlation dataframe for all tickers\n",
    "corr_df = pd.DataFrame(corr_dict.items(), columns=['Ticker', 'Correlation'])\n",
    "corr_df.sort_values(by=['Correlation'], ascending=False, ignore_index=True, inplace=True)\n"
   ]
  },
  {
   "cell_type": "markdown",
   "metadata": {},
   "source": [
    "Below are the tickers with the highest correlation:"
   ]
  },
  {
   "cell_type": "code",
   "execution_count": 303,
   "metadata": {},
   "outputs": [
    {
     "data": {
      "text/html": [
       "<div>\n",
       "<style scoped>\n",
       "    .dataframe tbody tr th:only-of-type {\n",
       "        vertical-align: middle;\n",
       "    }\n",
       "\n",
       "    .dataframe tbody tr th {\n",
       "        vertical-align: top;\n",
       "    }\n",
       "\n",
       "    .dataframe thead th {\n",
       "        text-align: right;\n",
       "    }\n",
       "</style>\n",
       "<table border=\"1\" class=\"dataframe\">\n",
       "  <thead>\n",
       "    <tr style=\"text-align: right;\">\n",
       "      <th></th>\n",
       "      <th>Ticker</th>\n",
       "      <th>Correlation</th>\n",
       "    </tr>\n",
       "  </thead>\n",
       "  <tbody>\n",
       "    <tr>\n",
       "      <th>0</th>\n",
       "      <td>ACN</td>\n",
       "      <td>0.892554</td>\n",
       "    </tr>\n",
       "    <tr>\n",
       "      <th>1</th>\n",
       "      <td>AAPL</td>\n",
       "      <td>0.882333</td>\n",
       "    </tr>\n",
       "    <tr>\n",
       "      <th>2</th>\n",
       "      <td>MSFT</td>\n",
       "      <td>0.866140</td>\n",
       "    </tr>\n",
       "    <tr>\n",
       "      <th>3</th>\n",
       "      <td>BLK</td>\n",
       "      <td>0.861315</td>\n",
       "    </tr>\n",
       "    <tr>\n",
       "      <th>4</th>\n",
       "      <td>GOOG</td>\n",
       "      <td>0.829202</td>\n",
       "    </tr>\n",
       "    <tr>\n",
       "      <th>5</th>\n",
       "      <td>TXN</td>\n",
       "      <td>0.804366</td>\n",
       "    </tr>\n",
       "    <tr>\n",
       "      <th>6</th>\n",
       "      <td>NKE</td>\n",
       "      <td>0.780587</td>\n",
       "    </tr>\n",
       "    <tr>\n",
       "      <th>7</th>\n",
       "      <td>MS</td>\n",
       "      <td>0.776555</td>\n",
       "    </tr>\n",
       "    <tr>\n",
       "      <th>8</th>\n",
       "      <td>AMZN</td>\n",
       "      <td>0.774818</td>\n",
       "    </tr>\n",
       "    <tr>\n",
       "      <th>9</th>\n",
       "      <td>QCOM</td>\n",
       "      <td>0.766427</td>\n",
       "    </tr>\n",
       "    <tr>\n",
       "      <th>10</th>\n",
       "      <td>AXP</td>\n",
       "      <td>0.758100</td>\n",
       "    </tr>\n",
       "    <tr>\n",
       "      <th>11</th>\n",
       "      <td>GM</td>\n",
       "      <td>0.745045</td>\n",
       "    </tr>\n",
       "  </tbody>\n",
       "</table>\n",
       "</div>"
      ],
      "text/plain": [
       "   Ticker  Correlation\n",
       "0     ACN     0.892554\n",
       "1    AAPL     0.882333\n",
       "2    MSFT     0.866140\n",
       "3     BLK     0.861315\n",
       "4    GOOG     0.829202\n",
       "5     TXN     0.804366\n",
       "6     NKE     0.780587\n",
       "7      MS     0.776555\n",
       "8    AMZN     0.774818\n",
       "9    QCOM     0.766427\n",
       "10    AXP     0.758100\n",
       "11     GM     0.745045"
      ]
     },
     "execution_count": 303,
     "metadata": {},
     "output_type": "execute_result"
    }
   ],
   "source": [
    "corr_df.head(12)"
   ]
  },
  {
   "cell_type": "markdown",
   "metadata": {},
   "source": [
    "Below are the tickers with the lowest correlation:"
   ]
  },
  {
   "cell_type": "code",
   "execution_count": 304,
   "metadata": {},
   "outputs": [
    {
     "data": {
      "text/html": [
       "<div>\n",
       "<style scoped>\n",
       "    .dataframe tbody tr th:only-of-type {\n",
       "        vertical-align: middle;\n",
       "    }\n",
       "\n",
       "    .dataframe tbody tr th {\n",
       "        vertical-align: top;\n",
       "    }\n",
       "\n",
       "    .dataframe thead th {\n",
       "        text-align: right;\n",
       "    }\n",
       "</style>\n",
       "<table border=\"1\" class=\"dataframe\">\n",
       "  <thead>\n",
       "    <tr style=\"text-align: right;\">\n",
       "      <th></th>\n",
       "      <th>Ticker</th>\n",
       "      <th>Correlation</th>\n",
       "    </tr>\n",
       "  </thead>\n",
       "  <tbody>\n",
       "    <tr>\n",
       "      <th>43</th>\n",
       "      <td>BIIB</td>\n",
       "      <td>0.432732</td>\n",
       "    </tr>\n",
       "    <tr>\n",
       "      <th>44</th>\n",
       "      <td>T</td>\n",
       "      <td>0.421944</td>\n",
       "    </tr>\n",
       "    <tr>\n",
       "      <th>45</th>\n",
       "      <td>BMY</td>\n",
       "      <td>0.386757</td>\n",
       "    </tr>\n",
       "    <tr>\n",
       "      <th>46</th>\n",
       "      <td>MRK</td>\n",
       "      <td>0.377811</td>\n",
       "    </tr>\n",
       "    <tr>\n",
       "      <th>47</th>\n",
       "      <td>PM</td>\n",
       "      <td>0.375340</td>\n",
       "    </tr>\n",
       "    <tr>\n",
       "      <th>48</th>\n",
       "      <td>COP</td>\n",
       "      <td>0.371408</td>\n",
       "    </tr>\n",
       "    <tr>\n",
       "      <th>49</th>\n",
       "      <td>ABBV</td>\n",
       "      <td>0.347691</td>\n",
       "    </tr>\n",
       "    <tr>\n",
       "      <th>50</th>\n",
       "      <td>MO</td>\n",
       "      <td>0.328813</td>\n",
       "    </tr>\n",
       "    <tr>\n",
       "      <th>51</th>\n",
       "      <td>SLB</td>\n",
       "      <td>0.311781</td>\n",
       "    </tr>\n",
       "    <tr>\n",
       "      <th>52</th>\n",
       "      <td>OXY</td>\n",
       "      <td>0.300052</td>\n",
       "    </tr>\n",
       "    <tr>\n",
       "      <th>53</th>\n",
       "      <td>LMT</td>\n",
       "      <td>0.272371</td>\n",
       "    </tr>\n",
       "    <tr>\n",
       "      <th>54</th>\n",
       "      <td>MON</td>\n",
       "      <td>0.114420</td>\n",
       "    </tr>\n",
       "  </tbody>\n",
       "</table>\n",
       "</div>"
      ],
      "text/plain": [
       "   Ticker  Correlation\n",
       "43   BIIB     0.432732\n",
       "44      T     0.421944\n",
       "45    BMY     0.386757\n",
       "46    MRK     0.377811\n",
       "47     PM     0.375340\n",
       "48    COP     0.371408\n",
       "49   ABBV     0.347691\n",
       "50     MO     0.328813\n",
       "51    SLB     0.311781\n",
       "52    OXY     0.300052\n",
       "53    LMT     0.272371\n",
       "54    MON     0.114420"
      ]
     },
     "execution_count": 304,
     "metadata": {},
     "output_type": "execute_result"
    }
   ],
   "source": [
    "corr_df.tail(12)"
   ]
  },
  {
   "cell_type": "code",
   "execution_count": 305,
   "metadata": {},
   "outputs": [],
   "source": [
    "corr_high_mean = corr_df.head(12)['Correlation'].mean()\n",
    "corr_low_mean = corr_df.tail(12)['Correlation'].mean()\n",
    "\n",
    "# Getting the list with a higher correlation on average\n",
    "if (corr_high_mean > corr_low_mean):\n",
    "    corr_tickers = list(corr_df.head(12)['Ticker'])\n",
    "else:\n",
    "    corr_tickers = list(corr_df.tail(12)['Ticker'])"
   ]
  },
  {
   "cell_type": "markdown",
   "metadata": {},
   "source": [
    "Here is the list of tickers we will be using for the correlation portfolio:"
   ]
  },
  {
   "cell_type": "code",
   "execution_count": 306,
   "metadata": {},
   "outputs": [
    {
     "name": "stdout",
     "output_type": "stream",
     "text": [
      "['ACN', 'AAPL', 'MSFT', 'BLK', 'GOOG', 'TXN', 'NKE', 'MS', 'AMZN', 'QCOM', 'AXP', 'GM']\n"
     ]
    }
   ],
   "source": [
    "print(corr_tickers)"
   ]
  },
  {
   "cell_type": "code",
   "execution_count": 307,
   "metadata": {},
   "outputs": [],
   "source": [
    "# Getting the beta of each stock from our correlation tickers and sorting them from highest to lowest\n",
    "corr_df = pd.DataFrame(corr_tickers, columns = ['Ticker'])\n",
    "corr_df['Beta'] = corr_df['Ticker'].replace(beta_dict)\n",
    "\n",
    "corr_df.sort_values(by = ['Beta'], ascending=False, ignore_index = True, inplace = True)\n",
    "corr_tickers = list(corr_df['Ticker']) # reorganizing the list so that the highest betas come first\n",
    "corr_beta = corr_df['Beta'].mean()\n",
    "final_betas['Correlation'] = corr_beta"
   ]
  },
  {
   "cell_type": "markdown",
   "metadata": {},
   "source": [
    "Here is the tickers' and their respective betas:"
   ]
  },
  {
   "cell_type": "code",
   "execution_count": 308,
   "metadata": {},
   "outputs": [
    {
     "data": {
      "text/html": [
       "<div>\n",
       "<style scoped>\n",
       "    .dataframe tbody tr th:only-of-type {\n",
       "        vertical-align: middle;\n",
       "    }\n",
       "\n",
       "    .dataframe tbody tr th {\n",
       "        vertical-align: top;\n",
       "    }\n",
       "\n",
       "    .dataframe thead th {\n",
       "        text-align: right;\n",
       "    }\n",
       "</style>\n",
       "<table border=\"1\" class=\"dataframe\">\n",
       "  <thead>\n",
       "    <tr style=\"text-align: right;\">\n",
       "      <th></th>\n",
       "      <th>Ticker</th>\n",
       "      <th>Beta</th>\n",
       "    </tr>\n",
       "  </thead>\n",
       "  <tbody>\n",
       "    <tr>\n",
       "      <th>0</th>\n",
       "      <td>AMZN</td>\n",
       "      <td>1.604552</td>\n",
       "    </tr>\n",
       "    <tr>\n",
       "      <th>1</th>\n",
       "      <td>QCOM</td>\n",
       "      <td>1.454487</td>\n",
       "    </tr>\n",
       "    <tr>\n",
       "      <th>2</th>\n",
       "      <td>GM</td>\n",
       "      <td>1.393548</td>\n",
       "    </tr>\n",
       "    <tr>\n",
       "      <th>3</th>\n",
       "      <td>GOOG</td>\n",
       "      <td>1.310727</td>\n",
       "    </tr>\n",
       "    <tr>\n",
       "      <th>4</th>\n",
       "      <td>NKE</td>\n",
       "      <td>1.300717</td>\n",
       "    </tr>\n",
       "    <tr>\n",
       "      <th>5</th>\n",
       "      <td>BLK</td>\n",
       "      <td>1.269739</td>\n",
       "    </tr>\n",
       "    <tr>\n",
       "      <th>6</th>\n",
       "      <td>AAPL</td>\n",
       "      <td>1.265965</td>\n",
       "    </tr>\n",
       "    <tr>\n",
       "      <th>7</th>\n",
       "      <td>MSFT</td>\n",
       "      <td>1.247844</td>\n",
       "    </tr>\n",
       "    <tr>\n",
       "      <th>8</th>\n",
       "      <td>ACN</td>\n",
       "      <td>1.164351</td>\n",
       "    </tr>\n",
       "    <tr>\n",
       "      <th>9</th>\n",
       "      <td>AXP</td>\n",
       "      <td>1.141406</td>\n",
       "    </tr>\n",
       "    <tr>\n",
       "      <th>10</th>\n",
       "      <td>TXN</td>\n",
       "      <td>1.056569</td>\n",
       "    </tr>\n",
       "    <tr>\n",
       "      <th>11</th>\n",
       "      <td>MS</td>\n",
       "      <td>1.052367</td>\n",
       "    </tr>\n",
       "  </tbody>\n",
       "</table>\n",
       "</div>"
      ],
      "text/plain": [
       "   Ticker      Beta\n",
       "0    AMZN  1.604552\n",
       "1    QCOM  1.454487\n",
       "2      GM  1.393548\n",
       "3    GOOG  1.310727\n",
       "4     NKE  1.300717\n",
       "5     BLK  1.269739\n",
       "6    AAPL  1.265965\n",
       "7    MSFT  1.247844\n",
       "8     ACN  1.164351\n",
       "9     AXP  1.141406\n",
       "10    TXN  1.056569\n",
       "11     MS  1.052367"
      ]
     },
     "metadata": {},
     "output_type": "display_data"
    }
   ],
   "source": [
    "display(corr_df)"
   ]
  },
  {
   "cell_type": "markdown",
   "metadata": {},
   "source": [
    "The corresponding weighting and investment amount into each stock is:"
   ]
  },
  {
   "cell_type": "code",
   "execution_count": 309,
   "metadata": {},
   "outputs": [
    {
     "data": {
      "text/html": [
       "<div>\n",
       "<style scoped>\n",
       "    .dataframe tbody tr th:only-of-type {\n",
       "        vertical-align: middle;\n",
       "    }\n",
       "\n",
       "    .dataframe tbody tr th {\n",
       "        vertical-align: top;\n",
       "    }\n",
       "\n",
       "    .dataframe thead th {\n",
       "        text-align: right;\n",
       "    }\n",
       "</style>\n",
       "<table border=\"1\" class=\"dataframe\">\n",
       "  <thead>\n",
       "    <tr style=\"text-align: right;\">\n",
       "      <th></th>\n",
       "      <th>Ticker</th>\n",
       "      <th>Price</th>\n",
       "      <th>Shares</th>\n",
       "      <th>Value</th>\n",
       "      <th>Weight</th>\n",
       "    </tr>\n",
       "  </thead>\n",
       "  <tbody>\n",
       "    <tr>\n",
       "      <th>0</th>\n",
       "      <td>AMZN</td>\n",
       "      <td>170.404495</td>\n",
       "      <td>733.548724</td>\n",
       "      <td>125000.000000</td>\n",
       "      <td>0.250000</td>\n",
       "    </tr>\n",
       "    <tr>\n",
       "      <th>1</th>\n",
       "      <td>QCOM</td>\n",
       "      <td>186.210007</td>\n",
       "      <td>671.285084</td>\n",
       "      <td>125000.000000</td>\n",
       "      <td>0.250000</td>\n",
       "    </tr>\n",
       "    <tr>\n",
       "      <th>2</th>\n",
       "      <td>GM</td>\n",
       "      <td>61.169998</td>\n",
       "      <td>1021.742715</td>\n",
       "      <td>62500.000000</td>\n",
       "      <td>0.125000</td>\n",
       "    </tr>\n",
       "    <tr>\n",
       "      <th>3</th>\n",
       "      <td>GOOG</td>\n",
       "      <td>145.074493</td>\n",
       "      <td>143.604385</td>\n",
       "      <td>20833.333333</td>\n",
       "      <td>0.041667</td>\n",
       "    </tr>\n",
       "    <tr>\n",
       "      <th>4</th>\n",
       "      <td>NKE</td>\n",
       "      <td>164.669998</td>\n",
       "      <td>126.515659</td>\n",
       "      <td>20833.333333</td>\n",
       "      <td>0.041667</td>\n",
       "    </tr>\n",
       "    <tr>\n",
       "      <th>5</th>\n",
       "      <td>BLK</td>\n",
       "      <td>911.729980</td>\n",
       "      <td>22.850333</td>\n",
       "      <td>20833.333333</td>\n",
       "      <td>0.041667</td>\n",
       "    </tr>\n",
       "    <tr>\n",
       "      <th>6</th>\n",
       "      <td>AAPL</td>\n",
       "      <td>182.009995</td>\n",
       "      <td>114.462579</td>\n",
       "      <td>20833.333333</td>\n",
       "      <td>0.041667</td>\n",
       "    </tr>\n",
       "    <tr>\n",
       "      <th>7</th>\n",
       "      <td>MSFT</td>\n",
       "      <td>334.750000</td>\n",
       "      <td>62.235499</td>\n",
       "      <td>20833.333333</td>\n",
       "      <td>0.041667</td>\n",
       "    </tr>\n",
       "    <tr>\n",
       "      <th>8</th>\n",
       "      <td>ACN</td>\n",
       "      <td>406.156982</td>\n",
       "      <td>51.293796</td>\n",
       "      <td>20833.333333</td>\n",
       "      <td>0.041667</td>\n",
       "    </tr>\n",
       "    <tr>\n",
       "      <th>9</th>\n",
       "      <td>AXP</td>\n",
       "      <td>167.788895</td>\n",
       "      <td>124.163958</td>\n",
       "      <td>20833.333333</td>\n",
       "      <td>0.041667</td>\n",
       "    </tr>\n",
       "    <tr>\n",
       "      <th>10</th>\n",
       "      <td>TXN</td>\n",
       "      <td>190.600006</td>\n",
       "      <td>109.303949</td>\n",
       "      <td>20833.333333</td>\n",
       "      <td>0.041667</td>\n",
       "    </tr>\n",
       "    <tr>\n",
       "      <th>11</th>\n",
       "      <td>MS</td>\n",
       "      <td>99.496651</td>\n",
       "      <td>209.387283</td>\n",
       "      <td>20833.333333</td>\n",
       "      <td>0.041667</td>\n",
       "    </tr>\n",
       "  </tbody>\n",
       "</table>\n",
       "</div>"
      ],
      "text/plain": [
       "   Ticker       Price       Shares          Value    Weight\n",
       "0    AMZN  170.404495   733.548724  125000.000000  0.250000\n",
       "1    QCOM  186.210007   671.285084  125000.000000  0.250000\n",
       "2      GM   61.169998  1021.742715   62500.000000  0.125000\n",
       "3    GOOG  145.074493   143.604385   20833.333333  0.041667\n",
       "4     NKE  164.669998   126.515659   20833.333333  0.041667\n",
       "5     BLK  911.729980    22.850333   20833.333333  0.041667\n",
       "6    AAPL  182.009995   114.462579   20833.333333  0.041667\n",
       "7    MSFT  334.750000    62.235499   20833.333333  0.041667\n",
       "8     ACN  406.156982    51.293796   20833.333333  0.041667\n",
       "9     AXP  167.788895   124.163958   20833.333333  0.041667\n",
       "10    TXN  190.600006   109.303949   20833.333333  0.041667\n",
       "11     MS   99.496651   209.387283   20833.333333  0.041667"
      ]
     },
     "metadata": {},
     "output_type": "display_data"
    }
   ],
   "source": [
    "corr_df = num_stocks(corr_tickers)\n",
    "portfolio_candidates[\"Correlation\"] = corr_df\n",
    "display(corr_df)"
   ]
  },
  {
   "cell_type": "markdown",
   "metadata": {},
   "source": [
    "The resulting portfolio is:"
   ]
  },
  {
   "cell_type": "code",
   "execution_count": 310,
   "metadata": {},
   "outputs": [
    {
     "data": {
      "text/html": [
       "<div>\n",
       "<style scoped>\n",
       "    .dataframe tbody tr th:only-of-type {\n",
       "        vertical-align: middle;\n",
       "    }\n",
       "\n",
       "    .dataframe tbody tr th {\n",
       "        vertical-align: top;\n",
       "    }\n",
       "\n",
       "    .dataframe thead th {\n",
       "        text-align: right;\n",
       "    }\n",
       "</style>\n",
       "<table border=\"1\" class=\"dataframe\">\n",
       "  <thead>\n",
       "    <tr style=\"text-align: right;\">\n",
       "      <th></th>\n",
       "      <th>AMZN</th>\n",
       "      <th>QCOM</th>\n",
       "      <th>GM</th>\n",
       "      <th>GOOG</th>\n",
       "      <th>NKE</th>\n",
       "      <th>BLK</th>\n",
       "      <th>AAPL</th>\n",
       "      <th>MSFT</th>\n",
       "      <th>ACN</th>\n",
       "      <th>AXP</th>\n",
       "      <th>TXN</th>\n",
       "      <th>MS</th>\n",
       "      <th>Total Value</th>\n",
       "    </tr>\n",
       "    <tr>\n",
       "      <th>Date</th>\n",
       "      <th></th>\n",
       "      <th></th>\n",
       "      <th></th>\n",
       "      <th></th>\n",
       "      <th></th>\n",
       "      <th></th>\n",
       "      <th></th>\n",
       "      <th></th>\n",
       "      <th></th>\n",
       "      <th></th>\n",
       "      <th></th>\n",
       "      <th></th>\n",
       "      <th></th>\n",
       "    </tr>\n",
       "  </thead>\n",
       "  <tbody>\n",
       "    <tr>\n",
       "      <th>2022-01-03 00:00:00-05:00</th>\n",
       "      <td>125000.000000</td>\n",
       "      <td>125000.000000</td>\n",
       "      <td>62500.000000</td>\n",
       "      <td>20833.333333</td>\n",
       "      <td>20833.333333</td>\n",
       "      <td>20833.333333</td>\n",
       "      <td>20833.333333</td>\n",
       "      <td>20833.333333</td>\n",
       "      <td>20833.333333</td>\n",
       "      <td>20833.333333</td>\n",
       "      <td>20833.333333</td>\n",
       "      <td>20833.333333</td>\n",
       "      <td>500000.000000</td>\n",
       "    </tr>\n",
       "    <tr>\n",
       "      <th>2022-01-04 00:00:00-05:00</th>\n",
       "      <td>122885.551624</td>\n",
       "      <td>125684.703411</td>\n",
       "      <td>67169.363895</td>\n",
       "      <td>20738.843156</td>\n",
       "      <td>21050.940421</td>\n",
       "      <td>20958.781436</td>\n",
       "      <td>20568.925056</td>\n",
       "      <td>20476.102176</td>\n",
       "      <td>20684.454844</td>\n",
       "      <td>21502.139343</td>\n",
       "      <td>20855.193790</td>\n",
       "      <td>21679.641547</td>\n",
       "      <td>504254.640699</td>\n",
       "    </tr>\n",
       "    <tr>\n",
       "      <th>2022-01-05 00:00:00-05:00</th>\n",
       "      <td>120563.863646</td>\n",
       "      <td>125194.668167</td>\n",
       "      <td>64104.139648</td>\n",
       "      <td>19767.646633</td>\n",
       "      <td>20527.165670</td>\n",
       "      <td>20377.241586</td>\n",
       "      <td>20021.794069</td>\n",
       "      <td>19690.067518</td>\n",
       "      <td>20320.187182</td>\n",
       "      <td>21273.009323</td>\n",
       "      <td>20420.164540</td>\n",
       "      <td>21143.160120</td>\n",
       "      <td>493403.108103</td>\n",
       "    </tr>\n",
       "    <tr>\n",
       "      <th>2022-01-06 00:00:00-05:00</th>\n",
       "      <td>119754.761731</td>\n",
       "      <td>124825.459323</td>\n",
       "      <td>64236.963395</td>\n",
       "      <td>19752.925957</td>\n",
       "      <td>20374.080873</td>\n",
       "      <td>20462.244154</td>\n",
       "      <td>19687.563549</td>\n",
       "      <td>19534.478770</td>\n",
       "      <td>19338.916267</td>\n",
       "      <td>21467.947647</td>\n",
       "      <td>20413.604902</td>\n",
       "      <td>21504.972692</td>\n",
       "      <td>491353.919261</td>\n",
       "    </tr>\n",
       "    <tr>\n",
       "      <th>2022-01-07 00:00:00-05:00</th>\n",
       "      <td>119241.279863</td>\n",
       "      <td>121106.544464</td>\n",
       "      <td>63623.919325</td>\n",
       "      <td>19674.447090</td>\n",
       "      <td>19859.163145</td>\n",
       "      <td>20388.666753</td>\n",
       "      <td>19707.021977</td>\n",
       "      <td>19544.436678</td>\n",
       "      <td>18967.998945</td>\n",
       "      <td>21651.711670</td>\n",
       "      <td>19613.500863</td>\n",
       "      <td>21635.973934</td>\n",
       "      <td>485014.664708</td>\n",
       "    </tr>\n",
       "    <tr>\n",
       "      <th>...</th>\n",
       "      <td>...</td>\n",
       "      <td>...</td>\n",
       "      <td>...</td>\n",
       "      <td>...</td>\n",
       "      <td>...</td>\n",
       "      <td>...</td>\n",
       "      <td>...</td>\n",
       "      <td>...</td>\n",
       "      <td>...</td>\n",
       "      <td>...</td>\n",
       "      <td>...</td>\n",
       "      <td>...</td>\n",
       "      <td>...</td>\n",
       "    </tr>\n",
       "    <tr>\n",
       "      <th>2022-10-25 00:00:00-04:00</th>\n",
       "      <td>88465.974962</td>\n",
       "      <td>79997.042232</td>\n",
       "      <td>37814.696164</td>\n",
       "      <td>15068.408110</td>\n",
       "      <td>11604.016397</td>\n",
       "      <td>14531.440596</td>\n",
       "      <td>17437.228831</td>\n",
       "      <td>15599.950440</td>\n",
       "      <td>14393.551298</td>\n",
       "      <td>18254.585692</td>\n",
       "      <td>17724.728759</td>\n",
       "      <td>16857.770583</td>\n",
       "      <td>347749.394063</td>\n",
       "    </tr>\n",
       "    <tr>\n",
       "      <th>2022-10-26 00:00:00-04:00</th>\n",
       "      <td>84842.248073</td>\n",
       "      <td>79285.481682</td>\n",
       "      <td>38683.179810</td>\n",
       "      <td>13616.567695</td>\n",
       "      <td>11688.781656</td>\n",
       "      <td>14573.941880</td>\n",
       "      <td>17094.986838</td>\n",
       "      <td>14396.316114</td>\n",
       "      <td>14355.594390</td>\n",
       "      <td>18237.202814</td>\n",
       "      <td>17255.813884</td>\n",
       "      <td>16941.525815</td>\n",
       "      <td>340971.640651</td>\n",
       "    </tr>\n",
       "    <tr>\n",
       "      <th>2022-10-27 00:00:00-04:00</th>\n",
       "      <td>81394.565713</td>\n",
       "      <td>76996.397087</td>\n",
       "      <td>38989.701845</td>\n",
       "      <td>13297.765786</td>\n",
       "      <td>11454.727880</td>\n",
       "      <td>14829.408432</td>\n",
       "      <td>16574.181755</td>\n",
       "      <td>14111.899427</td>\n",
       "      <td>14302.761843</td>\n",
       "      <td>18248.377116</td>\n",
       "      <td>17134.486434</td>\n",
       "      <td>16895.460357</td>\n",
       "      <td>334229.733676</td>\n",
       "    </tr>\n",
       "    <tr>\n",
       "      <th>2022-10-28 00:00:00-04:00</th>\n",
       "      <td>75856.276207</td>\n",
       "      <td>80023.894250</td>\n",
       "      <td>39694.702915</td>\n",
       "      <td>13869.311718</td>\n",
       "      <td>11870.964514</td>\n",
       "      <td>15166.908291</td>\n",
       "      <td>17826.402647</td>\n",
       "      <td>14679.486876</td>\n",
       "      <td>14761.328503</td>\n",
       "      <td>18679.226203</td>\n",
       "      <td>17637.285266</td>\n",
       "      <td>17215.822644</td>\n",
       "      <td>337281.610034</td>\n",
       "    </tr>\n",
       "    <tr>\n",
       "      <th>2022-10-31 00:00:00-04:00</th>\n",
       "      <td>75144.733049</td>\n",
       "      <td>78983.405443</td>\n",
       "      <td>40103.401560</td>\n",
       "      <td>13593.591563</td>\n",
       "      <td>11725.471313</td>\n",
       "      <td>14759.257743</td>\n",
       "      <td>17551.691410</td>\n",
       "      <td>14446.726717</td>\n",
       "      <td>14562.308325</td>\n",
       "      <td>18432.139243</td>\n",
       "      <td>17557.493850</td>\n",
       "      <td>17205.352641</td>\n",
       "      <td>334065.572858</td>\n",
       "    </tr>\n",
       "  </tbody>\n",
       "</table>\n",
       "<p>209 rows × 13 columns</p>\n",
       "</div>"
      ],
      "text/plain": [
       "                                    AMZN           QCOM            GM  \\\n",
       "Date                                                                    \n",
       "2022-01-03 00:00:00-05:00  125000.000000  125000.000000  62500.000000   \n",
       "2022-01-04 00:00:00-05:00  122885.551624  125684.703411  67169.363895   \n",
       "2022-01-05 00:00:00-05:00  120563.863646  125194.668167  64104.139648   \n",
       "2022-01-06 00:00:00-05:00  119754.761731  124825.459323  64236.963395   \n",
       "2022-01-07 00:00:00-05:00  119241.279863  121106.544464  63623.919325   \n",
       "...                                  ...            ...           ...   \n",
       "2022-10-25 00:00:00-04:00   88465.974962   79997.042232  37814.696164   \n",
       "2022-10-26 00:00:00-04:00   84842.248073   79285.481682  38683.179810   \n",
       "2022-10-27 00:00:00-04:00   81394.565713   76996.397087  38989.701845   \n",
       "2022-10-28 00:00:00-04:00   75856.276207   80023.894250  39694.702915   \n",
       "2022-10-31 00:00:00-04:00   75144.733049   78983.405443  40103.401560   \n",
       "\n",
       "                                   GOOG           NKE           BLK  \\\n",
       "Date                                                                  \n",
       "2022-01-03 00:00:00-05:00  20833.333333  20833.333333  20833.333333   \n",
       "2022-01-04 00:00:00-05:00  20738.843156  21050.940421  20958.781436   \n",
       "2022-01-05 00:00:00-05:00  19767.646633  20527.165670  20377.241586   \n",
       "2022-01-06 00:00:00-05:00  19752.925957  20374.080873  20462.244154   \n",
       "2022-01-07 00:00:00-05:00  19674.447090  19859.163145  20388.666753   \n",
       "...                                 ...           ...           ...   \n",
       "2022-10-25 00:00:00-04:00  15068.408110  11604.016397  14531.440596   \n",
       "2022-10-26 00:00:00-04:00  13616.567695  11688.781656  14573.941880   \n",
       "2022-10-27 00:00:00-04:00  13297.765786  11454.727880  14829.408432   \n",
       "2022-10-28 00:00:00-04:00  13869.311718  11870.964514  15166.908291   \n",
       "2022-10-31 00:00:00-04:00  13593.591563  11725.471313  14759.257743   \n",
       "\n",
       "                                   AAPL          MSFT           ACN  \\\n",
       "Date                                                                  \n",
       "2022-01-03 00:00:00-05:00  20833.333333  20833.333333  20833.333333   \n",
       "2022-01-04 00:00:00-05:00  20568.925056  20476.102176  20684.454844   \n",
       "2022-01-05 00:00:00-05:00  20021.794069  19690.067518  20320.187182   \n",
       "2022-01-06 00:00:00-05:00  19687.563549  19534.478770  19338.916267   \n",
       "2022-01-07 00:00:00-05:00  19707.021977  19544.436678  18967.998945   \n",
       "...                                 ...           ...           ...   \n",
       "2022-10-25 00:00:00-04:00  17437.228831  15599.950440  14393.551298   \n",
       "2022-10-26 00:00:00-04:00  17094.986838  14396.316114  14355.594390   \n",
       "2022-10-27 00:00:00-04:00  16574.181755  14111.899427  14302.761843   \n",
       "2022-10-28 00:00:00-04:00  17826.402647  14679.486876  14761.328503   \n",
       "2022-10-31 00:00:00-04:00  17551.691410  14446.726717  14562.308325   \n",
       "\n",
       "                                    AXP           TXN            MS  \\\n",
       "Date                                                                  \n",
       "2022-01-03 00:00:00-05:00  20833.333333  20833.333333  20833.333333   \n",
       "2022-01-04 00:00:00-05:00  21502.139343  20855.193790  21679.641547   \n",
       "2022-01-05 00:00:00-05:00  21273.009323  20420.164540  21143.160120   \n",
       "2022-01-06 00:00:00-05:00  21467.947647  20413.604902  21504.972692   \n",
       "2022-01-07 00:00:00-05:00  21651.711670  19613.500863  21635.973934   \n",
       "...                                 ...           ...           ...   \n",
       "2022-10-25 00:00:00-04:00  18254.585692  17724.728759  16857.770583   \n",
       "2022-10-26 00:00:00-04:00  18237.202814  17255.813884  16941.525815   \n",
       "2022-10-27 00:00:00-04:00  18248.377116  17134.486434  16895.460357   \n",
       "2022-10-28 00:00:00-04:00  18679.226203  17637.285266  17215.822644   \n",
       "2022-10-31 00:00:00-04:00  18432.139243  17557.493850  17205.352641   \n",
       "\n",
       "                             Total Value  \n",
       "Date                                      \n",
       "2022-01-03 00:00:00-05:00  500000.000000  \n",
       "2022-01-04 00:00:00-05:00  504254.640699  \n",
       "2022-01-05 00:00:00-05:00  493403.108103  \n",
       "2022-01-06 00:00:00-05:00  491353.919261  \n",
       "2022-01-07 00:00:00-05:00  485014.664708  \n",
       "...                                  ...  \n",
       "2022-10-25 00:00:00-04:00  347749.394063  \n",
       "2022-10-26 00:00:00-04:00  340971.640651  \n",
       "2022-10-27 00:00:00-04:00  334229.733676  \n",
       "2022-10-28 00:00:00-04:00  337281.610034  \n",
       "2022-10-31 00:00:00-04:00  334065.572858  \n",
       "\n",
       "[209 rows x 13 columns]"
      ]
     },
     "metadata": {},
     "output_type": "display_data"
    }
   ],
   "source": [
    "corr_portfolio = generate_combined_portfolio(corr_df)\n",
    "display(corr_portfolio)"
   ]
  },
  {
   "cell_type": "markdown",
   "metadata": {},
   "source": [
    "Thus our correlation portfolio has been created and we will be moving on to the other portfolio types"
   ]
  },
  {
   "cell_type": "markdown",
   "metadata": {},
   "source": [
    "---"
   ]
  },
  {
   "cell_type": "markdown",
   "metadata": {},
   "source": [
    "## Add K-MST Algorithm stuff here"
   ]
  },
  {
   "cell_type": "markdown",
   "metadata": {},
   "source": [
    "---"
   ]
  },
  {
   "cell_type": "markdown",
   "metadata": {},
   "source": [
    "## Options Market"
   ]
  },
  {
   "cell_type": "markdown",
   "metadata": {},
   "source": [
    "Another factor to look into is the options market. Although the options market doesn't directly tell us how a stock is performing, the option traders may give us a hint as to where the stock is heading in a short period of time. If the ratio of puts to calls is high, the stock price is predicted to most likely drop. On the contrary, if the ratio of calls to puts is high, the stock price is predicted to most likely jump."
   ]
  },
  {
   "cell_type": "markdown",
   "metadata": {},
   "source": [
    "### Put to Call Ratio ###\n",
    "- Divide sum of puts by sum of calls\n",
    "- More calls than puts means the asset price will increase (as investors want to buy the asset at a predetermined price) --> they are expecting the price to increase\n",
    "- More puts than calls means the asset price will decrease (as investors want to sell the asset at a predetermined price) --> they are expecting the price to fall"
   ]
  },
  {
   "cell_type": "markdown",
   "metadata": {},
   "source": [
    "### Checking if the options market is large enough for the chosen stocks:"
   ]
  },
  {
   "cell_type": "code",
   "execution_count": 311,
   "metadata": {},
   "outputs": [],
   "source": [
    "# Global variables to check for availability of options, put-to-call ratios and call-to-put ratios\n",
    "options_large_enough = False\n",
    "pcr_large_enough = False\n",
    "cpr_large_enough = False"
   ]
  },
  {
   "cell_type": "code",
   "execution_count": 312,
   "metadata": {},
   "outputs": [
    {
     "name": "stdout",
     "output_type": "stream",
     "text": [
      "Dropped MON, no options data available\n"
     ]
    }
   ],
   "source": [
    "options_evaluation_raw = {}\n",
    "options_evaluation_raw['puts_sum'] = {}\n",
    "options_evaluation_raw['calls_sum'] = {}\n",
    "options_evaluation_raw['pcr'] = {}\n",
    "options_evaluation_raw['cpr'] = {}\n",
    "\n",
    "def extract_options_market(ticker):\n",
    "\n",
    "    try:\n",
    "        asset = yf.Ticker(ticker)\n",
    "        options = asset.option_chain(asset.options[0])\n",
    "\n",
    "        puts = pd.DataFrame().append(options.puts)\n",
    "        puts_sum = puts['volume'].sum()\n",
    "        options_evaluation_raw[\"puts_sum\"][ticker] = puts_sum\n",
    "\n",
    "        calls = pd.DataFrame().append(options.calls)\n",
    "        calls_sum = calls['volume'].sum()\n",
    "        options_evaluation_raw[\"calls_sum\"][ticker] = calls_sum\n",
    "\n",
    "        puts_to_calls =  puts_sum / calls_sum\n",
    "        options_evaluation_raw[\"pcr\"][ticker] = puts_to_calls\n",
    "\n",
    "        calls_to_puts =  calls_sum / puts_sum\n",
    "        options_evaluation_raw[\"cpr\"][ticker] = calls_to_puts\n",
    "    \n",
    "    except IndexError as error:\n",
    "        print(f'Dropped {ticker}, no options data available')\n",
    "    \n",
    "# Checking options market of each ticker in list of tickers given from threading\n",
    "for ticker in tickers:\n",
    "    thread = Thread(target=extract_options_market, args=[ticker])\n",
    "    thread.start()\n",
    "    threads.append(thread)\n",
    "\n",
    "# Using threading\n",
    "for thread in threads:\n",
    "    thread.join()        \n"
   ]
  },
  {
   "cell_type": "code",
   "execution_count": 313,
   "metadata": {},
   "outputs": [
    {
     "name": "stdout",
     "output_type": "stream",
     "text": [
      "The options market was large enough for at least 12 stocks. Here is the summary:\n"
     ]
    },
    {
     "data": {
      "text/html": [
       "<div>\n",
       "<style scoped>\n",
       "    .dataframe tbody tr th:only-of-type {\n",
       "        vertical-align: middle;\n",
       "    }\n",
       "\n",
       "    .dataframe tbody tr th {\n",
       "        vertical-align: top;\n",
       "    }\n",
       "\n",
       "    .dataframe thead th {\n",
       "        text-align: right;\n",
       "    }\n",
       "</style>\n",
       "<table border=\"1\" class=\"dataframe\">\n",
       "  <thead>\n",
       "    <tr style=\"text-align: right;\">\n",
       "      <th></th>\n",
       "      <th>puts_sum</th>\n",
       "      <th>calls_sum</th>\n",
       "      <th>pcr</th>\n",
       "      <th>cpr</th>\n",
       "    </tr>\n",
       "  </thead>\n",
       "  <tbody>\n",
       "    <tr>\n",
       "      <th>BK</th>\n",
       "      <td>12.0</td>\n",
       "      <td>21.0</td>\n",
       "      <td>0.571429</td>\n",
       "      <td>1.750000</td>\n",
       "    </tr>\n",
       "    <tr>\n",
       "      <th>NEE</th>\n",
       "      <td>174.0</td>\n",
       "      <td>558.0</td>\n",
       "      <td>0.311828</td>\n",
       "      <td>3.206897</td>\n",
       "    </tr>\n",
       "    <tr>\n",
       "      <th>PM</th>\n",
       "      <td>60.0</td>\n",
       "      <td>275.0</td>\n",
       "      <td>0.218182</td>\n",
       "      <td>4.583333</td>\n",
       "    </tr>\n",
       "    <tr>\n",
       "      <th>MO</th>\n",
       "      <td>567.0</td>\n",
       "      <td>228.0</td>\n",
       "      <td>2.486842</td>\n",
       "      <td>0.402116</td>\n",
       "    </tr>\n",
       "    <tr>\n",
       "      <th>KMI</th>\n",
       "      <td>665.0</td>\n",
       "      <td>1106.0</td>\n",
       "      <td>0.601266</td>\n",
       "      <td>1.663158</td>\n",
       "    </tr>\n",
       "  </tbody>\n",
       "</table>\n",
       "</div>"
      ],
      "text/plain": [
       "     puts_sum  calls_sum       pcr       cpr\n",
       "BK       12.0       21.0  0.571429  1.750000\n",
       "NEE     174.0      558.0  0.311828  3.206897\n",
       "PM       60.0      275.0  0.218182  4.583333\n",
       "MO      567.0      228.0  2.486842  0.402116\n",
       "KMI     665.0     1106.0  0.601266  1.663158"
      ]
     },
     "metadata": {},
     "output_type": "display_data"
    }
   ],
   "source": [
    "if len(options_evaluation_raw.keys()) <= 12:\n",
    "    options_large_enough = True\n",
    "    options_evaluation = pd.DataFrame(options_evaluation_raw)\n",
    "    print(\"The options market was large enough for at least 12 stocks. Here is the summary:\")\n",
    "    display(options_evaluation.head())\n",
    "else:\n",
    "    print(\"There was insufficient options data for the tickers provided.\")"
   ]
  },
  {
   "cell_type": "markdown",
   "metadata": {},
   "source": [
    "Let's filter for any stocks with a put-to-call ratio which is below one, and filter for any stocks with a call-to-put ratio which is below one separately. We want our portfolio to move large in one direction, so we must account for stocks which may offset any gains and losses from other stocks. Thus, we will create a portfolio strictly consisting of heavy put-to-call ratio stocks and another portfolio strictly consisting of heavy call-to-put ratio stocks for further comparison. If only one portfolio can be formed, then the comparison step will be skipped."
   ]
  },
  {
   "cell_type": "code",
   "execution_count": 314,
   "metadata": {},
   "outputs": [
    {
     "name": "stdout",
     "output_type": "stream",
     "text": [
      "Displaying the puts-to-calls ratios for the stocks:\n"
     ]
    },
    {
     "data": {
      "text/html": [
       "<div>\n",
       "<style scoped>\n",
       "    .dataframe tbody tr th:only-of-type {\n",
       "        vertical-align: middle;\n",
       "    }\n",
       "\n",
       "    .dataframe tbody tr th {\n",
       "        vertical-align: top;\n",
       "    }\n",
       "\n",
       "    .dataframe thead th {\n",
       "        text-align: right;\n",
       "    }\n",
       "</style>\n",
       "<table border=\"1\" class=\"dataframe\">\n",
       "  <thead>\n",
       "    <tr style=\"text-align: right;\">\n",
       "      <th></th>\n",
       "      <th>puts_sum</th>\n",
       "      <th>calls_sum</th>\n",
       "      <th>pcr</th>\n",
       "      <th>cpr</th>\n",
       "    </tr>\n",
       "  </thead>\n",
       "  <tbody>\n",
       "    <tr>\n",
       "      <th>SLB</th>\n",
       "      <td>2559.0</td>\n",
       "      <td>317.0</td>\n",
       "      <td>8.072555</td>\n",
       "      <td>0.123877</td>\n",
       "    </tr>\n",
       "    <tr>\n",
       "      <th>TXN</th>\n",
       "      <td>1601.0</td>\n",
       "      <td>222.0</td>\n",
       "      <td>7.211712</td>\n",
       "      <td>0.138663</td>\n",
       "    </tr>\n",
       "    <tr>\n",
       "      <th>AAPL</th>\n",
       "      <td>57121.0</td>\n",
       "      <td>11785.0</td>\n",
       "      <td>4.846924</td>\n",
       "      <td>0.206316</td>\n",
       "    </tr>\n",
       "    <tr>\n",
       "      <th>PYPL</th>\n",
       "      <td>2935.0</td>\n",
       "      <td>655.0</td>\n",
       "      <td>4.480916</td>\n",
       "      <td>0.223169</td>\n",
       "    </tr>\n",
       "    <tr>\n",
       "      <th>AXP</th>\n",
       "      <td>778.0</td>\n",
       "      <td>180.0</td>\n",
       "      <td>4.322222</td>\n",
       "      <td>0.231362</td>\n",
       "    </tr>\n",
       "  </tbody>\n",
       "</table>\n",
       "</div>"
      ],
      "text/plain": [
       "      puts_sum  calls_sum       pcr       cpr\n",
       "SLB     2559.0      317.0  8.072555  0.123877\n",
       "TXN     1601.0      222.0  7.211712  0.138663\n",
       "AAPL   57121.0    11785.0  4.846924  0.206316\n",
       "PYPL    2935.0      655.0  4.480916  0.223169\n",
       "AXP      778.0      180.0  4.322222  0.231362"
      ]
     },
     "metadata": {},
     "output_type": "display_data"
    }
   ],
   "source": [
    "if options_large_enough:\n",
    "    # Filtering for stocks with a puts-to-calls ratio greater than 1 and sorting\n",
    "    pcr_filter = pd.DataFrame()\n",
    "    pcr_filter = options_evaluation[options_evaluation[\"pcr\"] > 1].dropna()\n",
    "    pcr_filter = pcr_filter.sort_values(by=['pcr'], ascending=False)\n",
    "    print(\"Displaying the puts-to-calls ratios for the stocks:\")\n",
    "    display(pcr_filter.head())\n",
    "else:\n",
    "    print(\"The options market had insufficient data, skipping...\")"
   ]
  },
  {
   "cell_type": "markdown",
   "metadata": {},
   "source": [
    "Forming the portfolio for the heavy put-to-call ratio stocks,"
   ]
  },
  {
   "cell_type": "code",
   "execution_count": 315,
   "metadata": {},
   "outputs": [
    {
     "name": "stdout",
     "output_type": "stream",
     "text": [
      "There are at least 12 stocks with a heavy puts-to-calls ratio.\n",
      "['SLB', 'TXN', 'AAPL', 'PYPL', 'AXP', 'USB', 'UNP', 'NKE', 'CAT', 'MO', 'SPG', 'BMY']\n"
     ]
    }
   ],
   "source": [
    "# Checking if there are enough heavy puts-to-calls ratio stocks\n",
    "if options_large_enough and len(pcr_filter) >= 12:\n",
    "    print(\"There are at least 12 stocks with a heavy puts-to-calls ratio.\")\n",
    "    pcr_large_enough = True\n",
    "    pcr_heavy_tickers = []\n",
    "    pcr_heavy_tickers = list(pcr_filter.index.values)\n",
    "    # Removing everything after the first 12 tickers\n",
    "    pcr_heavy_tickers = pcr_heavy_tickers[0:12]\n",
    "    print(pcr_heavy_tickers)\n",
    "else: \n",
    "    print(\"There are not enough stocks with a puts-to-calls ratio greater than 1.\")\n"
   ]
  },
  {
   "cell_type": "code",
   "execution_count": 316,
   "metadata": {},
   "outputs": [
    {
     "name": "stdout",
     "output_type": "stream",
     "text": [
      "Displaying the calls-to-puts ratios for the stocks:\n"
     ]
    },
    {
     "data": {
      "text/html": [
       "<div>\n",
       "<style scoped>\n",
       "    .dataframe tbody tr th:only-of-type {\n",
       "        vertical-align: middle;\n",
       "    }\n",
       "\n",
       "    .dataframe tbody tr th {\n",
       "        vertical-align: top;\n",
       "    }\n",
       "\n",
       "    .dataframe thead th {\n",
       "        text-align: right;\n",
       "    }\n",
       "</style>\n",
       "<table border=\"1\" class=\"dataframe\">\n",
       "  <thead>\n",
       "    <tr style=\"text-align: right;\">\n",
       "      <th></th>\n",
       "      <th>puts_sum</th>\n",
       "      <th>calls_sum</th>\n",
       "      <th>pcr</th>\n",
       "      <th>cpr</th>\n",
       "    </tr>\n",
       "  </thead>\n",
       "  <tbody>\n",
       "    <tr>\n",
       "      <th>AIG</th>\n",
       "      <td>193.0</td>\n",
       "      <td>4247.0</td>\n",
       "      <td>0.045444</td>\n",
       "      <td>22.005181</td>\n",
       "    </tr>\n",
       "    <tr>\n",
       "      <th>MS</th>\n",
       "      <td>3945.0</td>\n",
       "      <td>24982.0</td>\n",
       "      <td>0.157914</td>\n",
       "      <td>6.332573</td>\n",
       "    </tr>\n",
       "    <tr>\n",
       "      <th>PM</th>\n",
       "      <td>60.0</td>\n",
       "      <td>275.0</td>\n",
       "      <td>0.218182</td>\n",
       "      <td>4.583333</td>\n",
       "    </tr>\n",
       "    <tr>\n",
       "      <th>SBUX</th>\n",
       "      <td>182.0</td>\n",
       "      <td>778.0</td>\n",
       "      <td>0.233933</td>\n",
       "      <td>4.274725</td>\n",
       "    </tr>\n",
       "    <tr>\n",
       "      <th>PFE</th>\n",
       "      <td>1440.0</td>\n",
       "      <td>6050.0</td>\n",
       "      <td>0.238017</td>\n",
       "      <td>4.201389</td>\n",
       "    </tr>\n",
       "  </tbody>\n",
       "</table>\n",
       "</div>"
      ],
      "text/plain": [
       "      puts_sum  calls_sum       pcr        cpr\n",
       "AIG      193.0     4247.0  0.045444  22.005181\n",
       "MS      3945.0    24982.0  0.157914   6.332573\n",
       "PM        60.0      275.0  0.218182   4.583333\n",
       "SBUX     182.0      778.0  0.233933   4.274725\n",
       "PFE     1440.0     6050.0  0.238017   4.201389"
      ]
     },
     "metadata": {},
     "output_type": "display_data"
    }
   ],
   "source": [
    "if options_large_enough:\n",
    "    # Filtering for stocks with a calls-to-puts ratio greater than 1\n",
    "    cpr_filter = pd.DataFrame()\n",
    "    cpr_filter = options_evaluation[options_evaluation[\"cpr\"] > 1].dropna()\n",
    "    cpr_filter = cpr_filter.sort_values(by=['cpr'], ascending=False)\n",
    "    print(\"Displaying the calls-to-puts ratios for the stocks:\")\n",
    "    display(cpr_filter.head())\n",
    "else:\n",
    "    print(\"The options market had insufficient data, skipping...\")"
   ]
  },
  {
   "cell_type": "code",
   "execution_count": 317,
   "metadata": {},
   "outputs": [
    {
     "name": "stdout",
     "output_type": "stream",
     "text": [
      "There are at least 12 stocks with a heavy calls-to-puts ratio.\n",
      "['AIG', 'MS', 'PM', 'SBUX', 'PFE', 'SO', 'COF', 'OXY', 'NEE', 'C', 'BAC', 'UPS']\n"
     ]
    }
   ],
   "source": [
    "# Checking if there are enough heavy calls-to-puts ratio stocks\n",
    "if options_large_enough and len(cpr_filter) >= 12:\n",
    "    print(\"There are at least 12 stocks with a heavy calls-to-puts ratio.\")\n",
    "    cpr_large_enough = True\n",
    "    cpr_heavy_tickers = []\n",
    "    cpr_heavy_tickers = list(cpr_filter.index.values)\n",
    "    # Removing everything after the first 12 tickers\n",
    "    cpr_heavy_tickers = cpr_heavy_tickers[0:12]\n",
    "    print(cpr_heavy_tickers)\n",
    "else: \n",
    "    print(\"There are not enough stocks with a calls-to-puts ratio greater than 1.\")\n"
   ]
  },
  {
   "cell_type": "markdown",
   "metadata": {},
   "source": [
    "### Calculating betas for the portfolios with heavy calls-to-puts ratios and heavy puts-to-calls ratios"
   ]
  },
  {
   "cell_type": "code",
   "execution_count": 318,
   "metadata": {},
   "outputs": [
    {
     "data": {
      "text/html": [
       "<div>\n",
       "<style scoped>\n",
       "    .dataframe tbody tr th:only-of-type {\n",
       "        vertical-align: middle;\n",
       "    }\n",
       "\n",
       "    .dataframe tbody tr th {\n",
       "        vertical-align: top;\n",
       "    }\n",
       "\n",
       "    .dataframe thead th {\n",
       "        text-align: right;\n",
       "    }\n",
       "</style>\n",
       "<table border=\"1\" class=\"dataframe\">\n",
       "  <thead>\n",
       "    <tr style=\"text-align: right;\">\n",
       "      <th></th>\n",
       "      <th>Ticker</th>\n",
       "      <th>Beta</th>\n",
       "    </tr>\n",
       "  </thead>\n",
       "  <tbody>\n",
       "    <tr>\n",
       "      <th>0</th>\n",
       "      <td>COF</td>\n",
       "      <td>1.247706</td>\n",
       "    </tr>\n",
       "    <tr>\n",
       "      <th>1</th>\n",
       "      <td>SBUX</td>\n",
       "      <td>1.107557</td>\n",
       "    </tr>\n",
       "    <tr>\n",
       "      <th>2</th>\n",
       "      <td>MS</td>\n",
       "      <td>1.052367</td>\n",
       "    </tr>\n",
       "    <tr>\n",
       "      <th>3</th>\n",
       "      <td>AIG</td>\n",
       "      <td>1.008040</td>\n",
       "    </tr>\n",
       "    <tr>\n",
       "      <th>4</th>\n",
       "      <td>BAC</td>\n",
       "      <td>0.991630</td>\n",
       "    </tr>\n",
       "    <tr>\n",
       "      <th>5</th>\n",
       "      <td>C</td>\n",
       "      <td>0.949343</td>\n",
       "    </tr>\n",
       "    <tr>\n",
       "      <th>6</th>\n",
       "      <td>UPS</td>\n",
       "      <td>0.850226</td>\n",
       "    </tr>\n",
       "    <tr>\n",
       "      <th>7</th>\n",
       "      <td>NEE</td>\n",
       "      <td>0.744378</td>\n",
       "    </tr>\n",
       "    <tr>\n",
       "      <th>8</th>\n",
       "      <td>OXY</td>\n",
       "      <td>0.703407</td>\n",
       "    </tr>\n",
       "    <tr>\n",
       "      <th>9</th>\n",
       "      <td>PFE</td>\n",
       "      <td>0.528784</td>\n",
       "    </tr>\n",
       "    <tr>\n",
       "      <th>10</th>\n",
       "      <td>SO</td>\n",
       "      <td>0.414797</td>\n",
       "    </tr>\n",
       "    <tr>\n",
       "      <th>11</th>\n",
       "      <td>PM</td>\n",
       "      <td>0.407042</td>\n",
       "    </tr>\n",
       "  </tbody>\n",
       "</table>\n",
       "</div>"
      ],
      "text/plain": [
       "   Ticker      Beta\n",
       "0     COF  1.247706\n",
       "1    SBUX  1.107557\n",
       "2      MS  1.052367\n",
       "3     AIG  1.008040\n",
       "4     BAC  0.991630\n",
       "5       C  0.949343\n",
       "6     UPS  0.850226\n",
       "7     NEE  0.744378\n",
       "8     OXY  0.703407\n",
       "9     PFE  0.528784\n",
       "10     SO  0.414797\n",
       "11     PM  0.407042"
      ]
     },
     "metadata": {},
     "output_type": "display_data"
    }
   ],
   "source": [
    "if cpr_large_enough:\n",
    "    # Getting the call-to-put ratio portfolios' betas\n",
    "    cpr_df = pd.DataFrame(cpr_heavy_tickers, columns = ['Ticker'])\n",
    "    cpr_df['Beta'] = cpr_df['Ticker'].replace(beta_dict)\n",
    "\n",
    "    cpr_df.sort_values(by = ['Beta'], ascending=False, ignore_index = True, inplace = True)\n",
    "    display(cpr_df)\n",
    "else:\n",
    "    print(\"The call-to-put ratio was not available for enough stocks.\")"
   ]
  },
  {
   "cell_type": "code",
   "execution_count": 319,
   "metadata": {},
   "outputs": [
    {
     "data": {
      "text/html": [
       "<div>\n",
       "<style scoped>\n",
       "    .dataframe tbody tr th:only-of-type {\n",
       "        vertical-align: middle;\n",
       "    }\n",
       "\n",
       "    .dataframe tbody tr th {\n",
       "        vertical-align: top;\n",
       "    }\n",
       "\n",
       "    .dataframe thead th {\n",
       "        text-align: right;\n",
       "    }\n",
       "</style>\n",
       "<table border=\"1\" class=\"dataframe\">\n",
       "  <thead>\n",
       "    <tr style=\"text-align: right;\">\n",
       "      <th></th>\n",
       "      <th>Ticker</th>\n",
       "      <th>Beta</th>\n",
       "    </tr>\n",
       "  </thead>\n",
       "  <tbody>\n",
       "    <tr>\n",
       "      <th>0</th>\n",
       "      <td>PYPL</td>\n",
       "      <td>1.651318</td>\n",
       "    </tr>\n",
       "    <tr>\n",
       "      <th>1</th>\n",
       "      <td>NKE</td>\n",
       "      <td>1.300717</td>\n",
       "    </tr>\n",
       "    <tr>\n",
       "      <th>2</th>\n",
       "      <td>AAPL</td>\n",
       "      <td>1.265965</td>\n",
       "    </tr>\n",
       "    <tr>\n",
       "      <th>3</th>\n",
       "      <td>AXP</td>\n",
       "      <td>1.141406</td>\n",
       "    </tr>\n",
       "    <tr>\n",
       "      <th>4</th>\n",
       "      <td>TXN</td>\n",
       "      <td>1.056569</td>\n",
       "    </tr>\n",
       "    <tr>\n",
       "      <th>5</th>\n",
       "      <td>SPG</td>\n",
       "      <td>0.989628</td>\n",
       "    </tr>\n",
       "    <tr>\n",
       "      <th>6</th>\n",
       "      <td>CAT</td>\n",
       "      <td>0.793218</td>\n",
       "    </tr>\n",
       "    <tr>\n",
       "      <th>7</th>\n",
       "      <td>USB</td>\n",
       "      <td>0.767797</td>\n",
       "    </tr>\n",
       "    <tr>\n",
       "      <th>8</th>\n",
       "      <td>UNP</td>\n",
       "      <td>0.663091</td>\n",
       "    </tr>\n",
       "    <tr>\n",
       "      <th>9</th>\n",
       "      <td>SLB</td>\n",
       "      <td>0.661120</td>\n",
       "    </tr>\n",
       "    <tr>\n",
       "      <th>10</th>\n",
       "      <td>MO</td>\n",
       "      <td>0.359057</td>\n",
       "    </tr>\n",
       "    <tr>\n",
       "      <th>11</th>\n",
       "      <td>BMY</td>\n",
       "      <td>0.319430</td>\n",
       "    </tr>\n",
       "  </tbody>\n",
       "</table>\n",
       "</div>"
      ],
      "text/plain": [
       "   Ticker      Beta\n",
       "0    PYPL  1.651318\n",
       "1     NKE  1.300717\n",
       "2    AAPL  1.265965\n",
       "3     AXP  1.141406\n",
       "4     TXN  1.056569\n",
       "5     SPG  0.989628\n",
       "6     CAT  0.793218\n",
       "7     USB  0.767797\n",
       "8     UNP  0.663091\n",
       "9     SLB  0.661120\n",
       "10     MO  0.359057\n",
       "11    BMY  0.319430"
      ]
     },
     "metadata": {},
     "output_type": "display_data"
    }
   ],
   "source": [
    "if pcr_large_enough:\n",
    "    # Getting the put-to-call ratio portfolios' betas\n",
    "    pcr_df = pd.DataFrame(pcr_heavy_tickers, columns = ['Ticker'])\n",
    "    pcr_df['Beta'] = pcr_df['Ticker'].replace(beta_dict)\n",
    "\n",
    "    pcr_df.sort_values(by = ['Beta'], ascending=False, ignore_index = True, inplace = True)\n",
    "\n",
    "    display(pcr_df)\n",
    "else:\n",
    "    print(\"The put-to-call ratio was not available for enough stocks.\")"
   ]
  },
  {
   "cell_type": "code",
   "execution_count": 320,
   "metadata": {},
   "outputs": [
    {
     "data": {
      "image/png": "[encoded data removed]",
      "text/plain": [
       "<Figure size 2000x500 with 1 Axes>"
      ]
     },
     "metadata": {},
     "output_type": "display_data"
    }
   ],
   "source": [
    "if (cpr_large_enough and pcr_large_enough):\n",
    "    # Generating portfolios for PCR and CPR stocks\n",
    "    pcr_list = pcr_df['Ticker'].tolist()\n",
    "    pcr_candidate = num_stocks(pcr_list)\n",
    "    pcr_portfolio = generate_combined_portfolio(pcr_candidate)\n",
    "    cpr_list = cpr_df['Ticker'].tolist()\n",
    "    cpr_portfolio = generate_combined_portfolio(num_stocks(cpr_list))\n",
    "\n",
    "    # Graphing the portfolios\n",
    "    plt.figure(figsize=(20, 5))\n",
    "    plt.plot(pcr_portfolio.index, pcr_portfolio['Total Value'], label='PCR Portfolio')\n",
    "    plt.plot(cpr_portfolio.index, cpr_portfolio['Total Value'], label='CPR Portfolio')\n",
    "\n",
    "    plt.title('PCR vs CPR Portfolio')\n",
    "    plt.xlabel('Dates')\n",
    "    plt.ylabel('Value')\n",
    "\n",
    "    plt.legend()\n",
    "    plt.show()\n",
    "\n",
    "elif(cpr_large_enough):\n",
    "    # Generating protfolio for CPR stocks\n",
    "    cpr_list = cpr_df['Ticker'].tolist()\n",
    "    cpr_candidate = num_stocks(cpr_list)\n",
    "    cpr_portfolio = generate_combined_portfolio(cpr_candidate)\n",
    "\n",
    "    # Graphing the portfolio\n",
    "    plt.figure(figsize=(20, 5))\n",
    "    plt.plot(cpr_portfolio.index, cpr_portfolio['Total Value'], label='CPR Portfolio')\n",
    "\n",
    "    plt.title('CPR Portfolio')\n",
    "    plt.xlabel('Dates')\n",
    "    plt.ylabel('Value')\n",
    "\n",
    "    plt.legend()\n",
    "    plt.show()\n",
    "\n",
    "elif(pcr_large_enough):\n",
    "    # Gererating portfolios for PCR stocks\n",
    "    pcr_list = pcr_df['Ticker'].tolist()\n",
    "    pcr_portfolio = generate_combined_portfolio(num_stocks(pcr_list))\n",
    "\n",
    "    # Graphing the portfolios\n",
    "    plt.figure(figsize=(20, 5))\n",
    "    plt.plot(pcr_portfolio.index, pcr_portfolio['Total Value'], label='PCR Portfolio')\n",
    "\n",
    "    plt.title('PCR Portfolio')\n",
    "    plt.xlabel('Dates')\n",
    "    plt.ylabel('Value')\n",
    "\n",
    "    plt.legend()\n",
    "    plt.show()\n",
    "else:\n",
    "    print (\"None of the options markets were large enough.\")\n"
   ]
  },
  {
   "cell_type": "markdown",
   "metadata": {},
   "source": [
    "### Comparing puts-to-calls and calls-to-puts portfolios and their Betas ###\n",
    "The above should graph the puts-to-calls and calls-to-puts portfolios. In the case that only one of them is available, it will only print the available one. If none are available, then we will skip this part of the data analytics."
   ]
  },
  {
   "cell_type": "markdown",
   "metadata": {},
   "source": [
    "#### Analysis ####\n",
    "In the case that both the calls-to-puts and puts-to-calls portfolios are available (and graphed), then we can compare the magnitude of the difference between their starting point and ending point. The portfolio with the greater different in magnitude should also correspond to having a __higher__ beta value. "
   ]
  },
  {
   "cell_type": "code",
   "execution_count": 321,
   "metadata": {},
   "outputs": [
    {
     "name": "stdout",
     "output_type": "stream",
     "text": [
      "The greater beta comes from the puts-to-calls ratio and the overall beta of it is: 0.9141097833039048\n",
      "Thus, our options portfolio will be based on the puts-to-calls ratio\n"
     ]
    }
   ],
   "source": [
    "use_cpr = False\n",
    "use_pcr = False\n",
    "if (cpr_large_enough and pcr_large_enough):\n",
    "    cpr_beta_mean = cpr_df['Beta'].mean()\n",
    "    pcr_beta_mean = pcr_df['Beta'].mean()\n",
    "elif (cpr_large_enough):\n",
    "    cpr_beta_mean = cpr_df['Beta'].mean()\n",
    "    print(\"The only options market available is the calls-to-puts ratio and the overall beta is: \" + str(cpr_beta_mean))\n",
    "elif (pcr_large_enough):\n",
    "    pcr_beta_mean = pcr_df['Beta'].mean()\n",
    "    print(\"The only options market available is the puts-to-calls ratio and the overall beta is: \" + str(pcr_beta_mean))\n",
    "else:\n",
    "    print(\"None of the options markets were large enough, thus the options market will have no influence over our final portfolio\")\n",
    "    \n",
    "if (cpr_large_enough and pcr_large_enough):\n",
    "    if (cpr_beta_mean > pcr_beta_mean):\n",
    "        options_portfolio = cpr_portfolio\n",
    "        use_cpr = True\n",
    "        options_beta = cpr_beta_mean\n",
    "        final_betas['Options'] = options_beta\n",
    "        portfolio_candidates[\"Options\"] = cpr_candidate\n",
    "        print(\"The greater beta comes from the calls-to-puts ratio and the overall beta of it is: \" + str(cpr_beta_mean))\n",
    "        print(\"Thus, our options portfolio will be based on the calls-to-puts ratio\")\n",
    "    elif (cpr_beta_mean < pcr_beta_mean):\n",
    "        options_portfolio = pcr_portfolio\n",
    "        use_pcr = True\n",
    "        options_beta = pcr_beta_mean\n",
    "        final_betas['Options'] = options_beta\n",
    "        portfolio_candidates[\"Options\"] = pcr_candidate\n",
    "        print(\"The greater beta comes from the puts-to-calls ratio and the overall beta of it is: \" + str(pcr_beta_mean))\n",
    "        print(\"Thus, our options portfolio will be based on the puts-to-calls ratio\")\n",
    "        "
   ]
  },
  {
   "cell_type": "markdown",
   "metadata": {},
   "source": [
    "---"
   ]
  },
  {
   "cell_type": "markdown",
   "metadata": {},
   "source": [
    "### Comparing the different strategies ###"
   ]
  },
  {
   "cell_type": "markdown",
   "metadata": {},
   "source": [
    "Now that we have all of our portfolios, we can graph and quantify them by their magnitudes of beta to determine which portfolio we will use as our final."
   ]
  },
  {
   "cell_type": "code",
   "execution_count": 322,
   "metadata": {},
   "outputs": [
    {
     "data": {
      "image/png": "[encoded data removed]",
      "text/plain": [
       "<Figure size 2000x500 with 1 Axes>"
      ]
     },
     "metadata": {},
     "output_type": "display_data"
    }
   ],
   "source": [
    "# Graphing the portfolios:\n",
    "if (pcr_large_enough and cpr_large_enough):\n",
    "    if (use_pcr):\n",
    "        plt.figure(figsize=(20, 5))\n",
    "        plt.plot(options_portfolio.index, options_portfolio['Total Value'], label='PCR Portfolio')\n",
    "        plt.plot(corr_portfolio.index, corr_portfolio['Total Value'], label='Correlation Portfolio')\n",
    "        #plot k-MST algorithm portfolio here\n",
    "\n",
    "        plt.title('Portfolios Comparison')\n",
    "        plt.xlabel('Dates')\n",
    "        plt.ylabel('Value')\n",
    "\n",
    "        plt.legend()\n",
    "        plt.show()\n",
    "    elif (use_cpr):\n",
    "        plt.figure(figsize=(20, 5))\n",
    "        plt.plot(options_portfolio.index, options_portfolio['Total Value'], label='CPR Portfolio')\n",
    "        plt.plot(corr_portfolio.index, corr_portfolio['Total Value'], label='Correlation Portfolio')\n",
    "        #plot k-MST algorithm portfolio here\n",
    "\n",
    "        plt.title('Portfolios Comparison')\n",
    "        plt.xlabel('Dates')\n",
    "        plt.ylabel('Value')\n",
    "\n",
    "        plt.legend()\n",
    "        plt.show()\n",
    "else:\n",
    "    plt.figure(figsize=(20, 5))\n",
    "    plt.plot(corr_portfolio.index, corr_portfolio['Total Value'], label='Correlation Portfolio')\n",
    "    #plot k-MST algorithm portfolio here\n",
    "\n",
    "    plt.title('Portfolios Comparison')\n",
    "    plt.xlabel('Dates')\n",
    "    plt.ylabel('Value')\n",
    "\n",
    "    plt.legend()\n",
    "    plt.show()\n"
   ]
  },
  {
   "cell_type": "markdown",
   "metadata": {},
   "source": [
    "The above graph shows how each portfolio performs over a 1 year time period. The portfolio that ends the furthest away from the starting investment of 500 000 USD should also correspond to having a greater magnitude of beta."
   ]
  },
  {
   "cell_type": "code",
   "execution_count": 323,
   "metadata": {},
   "outputs": [
    {
     "name": "stdout",
     "output_type": "stream",
     "text": [
      "The options portfolio's average beta is: 0.9141097833039048\n",
      "The correlation portfolio's average beta is: 1.2718561700305029\n",
      "The k-MST algorithm portfolio's average beta is: \n"
     ]
    }
   ],
   "source": [
    "if (use_cpr or use_pcr):\n",
    "    print (\"The options portfolio's average beta is: \" + str(options_beta))\n",
    "print (\"The correlation portfolio's average beta is: \" + str(corr_beta))\n",
    "print (\"The k-MST algorithm portfolio's average beta is: \") #add k-MST average beta here"
   ]
  },
  {
   "cell_type": "code",
   "execution_count": 324,
   "metadata": {},
   "outputs": [
    {
     "name": "stdout",
     "output_type": "stream",
     "text": [
      "The max beta value we got is from the Correlation portfolio\n"
     ]
    }
   ],
   "source": [
    "max_beta = max(final_betas, key=final_betas.get)\n",
    "print(\"The max beta value we got is from the \" + max_beta + \" portfolio\")"
   ]
  },
  {
   "cell_type": "markdown",
   "metadata": {},
   "source": [
    "#### Creating the \"Portfolio_Final\" as required by assignment specifications ####"
   ]
  },
  {
   "cell_type": "code",
   "execution_count": 325,
   "metadata": {},
   "outputs": [
    {
     "data": {
      "text/html": [
       "<div>\n",
       "<style scoped>\n",
       "    .dataframe tbody tr th:only-of-type {\n",
       "        vertical-align: middle;\n",
       "    }\n",
       "\n",
       "    .dataframe tbody tr th {\n",
       "        vertical-align: top;\n",
       "    }\n",
       "\n",
       "    .dataframe thead th {\n",
       "        text-align: right;\n",
       "    }\n",
       "</style>\n",
       "<table border=\"1\" class=\"dataframe\">\n",
       "  <thead>\n",
       "    <tr style=\"text-align: right;\">\n",
       "      <th></th>\n",
       "      <th>Ticker</th>\n",
       "      <th>Price</th>\n",
       "      <th>Shares</th>\n",
       "      <th>Value</th>\n",
       "      <th>Weight</th>\n",
       "    </tr>\n",
       "  </thead>\n",
       "  <tbody>\n",
       "    <tr>\n",
       "      <th>0</th>\n",
       "      <td>AMZN</td>\n",
       "      <td>170.404495</td>\n",
       "      <td>733.548724</td>\n",
       "      <td>125000.000000</td>\n",
       "      <td>0.250000</td>\n",
       "    </tr>\n",
       "    <tr>\n",
       "      <th>1</th>\n",
       "      <td>QCOM</td>\n",
       "      <td>186.210007</td>\n",
       "      <td>671.285084</td>\n",
       "      <td>125000.000000</td>\n",
       "      <td>0.250000</td>\n",
       "    </tr>\n",
       "    <tr>\n",
       "      <th>2</th>\n",
       "      <td>GM</td>\n",
       "      <td>61.169998</td>\n",
       "      <td>1021.742715</td>\n",
       "      <td>62500.000000</td>\n",
       "      <td>0.125000</td>\n",
       "    </tr>\n",
       "    <tr>\n",
       "      <th>3</th>\n",
       "      <td>GOOG</td>\n",
       "      <td>145.074493</td>\n",
       "      <td>143.604385</td>\n",
       "      <td>20833.333333</td>\n",
       "      <td>0.041667</td>\n",
       "    </tr>\n",
       "    <tr>\n",
       "      <th>4</th>\n",
       "      <td>NKE</td>\n",
       "      <td>164.669998</td>\n",
       "      <td>126.515659</td>\n",
       "      <td>20833.333333</td>\n",
       "      <td>0.041667</td>\n",
       "    </tr>\n",
       "    <tr>\n",
       "      <th>5</th>\n",
       "      <td>BLK</td>\n",
       "      <td>911.729980</td>\n",
       "      <td>22.850333</td>\n",
       "      <td>20833.333333</td>\n",
       "      <td>0.041667</td>\n",
       "    </tr>\n",
       "    <tr>\n",
       "      <th>6</th>\n",
       "      <td>AAPL</td>\n",
       "      <td>182.009995</td>\n",
       "      <td>114.462579</td>\n",
       "      <td>20833.333333</td>\n",
       "      <td>0.041667</td>\n",
       "    </tr>\n",
       "    <tr>\n",
       "      <th>7</th>\n",
       "      <td>MSFT</td>\n",
       "      <td>334.750000</td>\n",
       "      <td>62.235499</td>\n",
       "      <td>20833.333333</td>\n",
       "      <td>0.041667</td>\n",
       "    </tr>\n",
       "    <tr>\n",
       "      <th>8</th>\n",
       "      <td>ACN</td>\n",
       "      <td>406.156982</td>\n",
       "      <td>51.293796</td>\n",
       "      <td>20833.333333</td>\n",
       "      <td>0.041667</td>\n",
       "    </tr>\n",
       "    <tr>\n",
       "      <th>9</th>\n",
       "      <td>AXP</td>\n",
       "      <td>167.788895</td>\n",
       "      <td>124.163958</td>\n",
       "      <td>20833.333333</td>\n",
       "      <td>0.041667</td>\n",
       "    </tr>\n",
       "    <tr>\n",
       "      <th>10</th>\n",
       "      <td>TXN</td>\n",
       "      <td>190.600006</td>\n",
       "      <td>109.303949</td>\n",
       "      <td>20833.333333</td>\n",
       "      <td>0.041667</td>\n",
       "    </tr>\n",
       "    <tr>\n",
       "      <th>11</th>\n",
       "      <td>MS</td>\n",
       "      <td>99.496651</td>\n",
       "      <td>209.387283</td>\n",
       "      <td>20833.333333</td>\n",
       "      <td>0.041667</td>\n",
       "    </tr>\n",
       "  </tbody>\n",
       "</table>\n",
       "</div>"
      ],
      "text/plain": [
       "   Ticker       Price       Shares          Value    Weight\n",
       "0    AMZN  170.404495   733.548724  125000.000000  0.250000\n",
       "1    QCOM  186.210007   671.285084  125000.000000  0.250000\n",
       "2      GM   61.169998  1021.742715   62500.000000  0.125000\n",
       "3    GOOG  145.074493   143.604385   20833.333333  0.041667\n",
       "4     NKE  164.669998   126.515659   20833.333333  0.041667\n",
       "5     BLK  911.729980    22.850333   20833.333333  0.041667\n",
       "6    AAPL  182.009995   114.462579   20833.333333  0.041667\n",
       "7    MSFT  334.750000    62.235499   20833.333333  0.041667\n",
       "8     ACN  406.156982    51.293796   20833.333333  0.041667\n",
       "9     AXP  167.788895   124.163958   20833.333333  0.041667\n",
       "10    TXN  190.600006   109.303949   20833.333333  0.041667\n",
       "11     MS   99.496651   209.387283   20833.333333  0.041667"
      ]
     },
     "metadata": {},
     "output_type": "display_data"
    }
   ],
   "source": [
    "Portfolio_Final = portfolio_candidates.get(max_beta)\n",
    "display(Portfolio_Final)"
   ]
  },
  {
   "cell_type": "markdown",
   "metadata": {},
   "source": [
    "Confirming that the value adds up to 500 000 and that the weight adds up to 1 (which is 100%)"
   ]
  },
  {
   "cell_type": "code",
   "execution_count": 326,
   "metadata": {},
   "outputs": [
    {
     "name": "stdout",
     "output_type": "stream",
     "text": [
      "The total value of the portfolio is: 500000.0\n",
      "The total weight of the portfolio is: 1.0\n"
     ]
    }
   ],
   "source": [
    "print (\"The total value of the portfolio is: \" + str(Portfolio_Final['Value'].sum()))\n",
    "print (\"The total weight of the portfolio is: \" + str(Portfolio_Final['Weight'].sum()))"
   ]
  },
  {
   "cell_type": "markdown",
   "metadata": {},
   "source": [
    "#### Creating \"Stocks_Final\" to export into a .csv file ####"
   ]
  },
  {
   "cell_type": "code",
   "execution_count": 327,
   "metadata": {},
   "outputs": [],
   "source": [
    "Stocks_Final = pd.DataFrame()\n",
    "Stocks_Final['Ticker'] = Portfolio_Final['Ticker']\n",
    "Stocks_Final['Shares'] = Portfolio_Final['Shares']"
   ]
  },
  {
   "cell_type": "code",
   "execution_count": 328,
   "metadata": {},
   "outputs": [],
   "source": [
    "Stocks_Final.to_csv('Stocks_Group_01.csv')"
   ]
  },
  {
   "cell_type": "markdown",
   "metadata": {},
   "source": [
    "## Contribution Declaration\n",
    "\n",
    "The following team members made a meaningful contribution to this assignment:\n",
    "\n",
    "Rui, Rehan, Anton"
   ]
  }
 ],
 "metadata": {
  "kernelspec": {
   "display_name": "Python 3.10.7 64-bit",
   "language": "python",
   "name": "python3"
  },
  "language_info": {
   "codemirror_mode": {
    "name": "ipython",
    "version": 3
   },
   "file_extension": ".py",
   "mimetype": "text/x-python",
   "name": "python",
   "nbconvert_exporter": "python",
   "pygments_lexer": "ipython3",
   "version": "3.10.7"
  },
  "vscode": {
   "interpreter": {
    "hash": "6c0b09c0823c735676fb51bcf478c0611ed0788b59e2246390110018541c58e3"
   }
  }
 },
 "nbformat": 4,
 "nbformat_minor": 2
}
