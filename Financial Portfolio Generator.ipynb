{
 "cells": [
  {
   "cell_type": "code",
   "execution_count": null,
   "id": "16c12302",
   "metadata": {},
   "outputs": [],
   "source": [
    "from IPython.display import display, Math, Latex\n",
    "\n",
    "import pandas as pd\n",
    "import numpy as np\n",
    "import matplotlib.pyplot as plt\n",
    "import random\n",
    "import yfinance as yf\n",
    "\n",
    "import threading\n",
    "\n"
   ]
  },
  {
   "cell_type": "code",
   "execution_count": null,
   "id": "029d4e84",
   "metadata": {},
   "outputs": [],
   "source": []
  },
  {
   "cell_type": "markdown",
   "id": "e6343ee7",
   "metadata": {},
   "source": [
    "### CFM 101 Final Group Assignment - Robo Advising Financial Portfolio Generator"
   ]
  },
  {
   "cell_type": "markdown",
   "id": "5b61f783",
   "metadata": {},
   "source": []
  }
 ],
 "metadata": {
  "kernelspec": {
   "display_name": "Python 3.10.4 ('venv')",
   "language": "python",
   "name": "python3"
  },
  "language_info": {
   "codemirror_mode": {
    "name": "ipython",
    "version": 3
   },
   "file_extension": ".py",
   "mimetype": "text/x-python",
   "name": "python",
   "nbconvert_exporter": "python",
   "pygments_lexer": "ipython3",
   "version": "3.10.4"
  },
  "vscode": {
   "interpreter": {
    "hash": "3de2823d9f6f9939fde57575371059410065cca316d9e9b8f20ab82c51e05b59"
   }
  }
 },
 "nbformat": 4,
 "nbformat_minor": 5
}
